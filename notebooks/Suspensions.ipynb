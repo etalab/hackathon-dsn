{
 "cells": [
  {
   "cell_type": "code",
   "execution_count": 46,
   "id": "949e6f62",
   "metadata": {},
   "outputs": [],
   "source": [
    "import psycopg2\n",
    "import pandas as pd\n",
    "from IPython.display import display, Markdown\n",
    "from plotly_calplot import calplot\n",
    "\n",
    "pd.set_option('display.max_columns', None)"
   ]
  },
  {
   "cell_type": "code",
   "execution_count": 2,
   "id": "a4b41e70",
   "metadata": {},
   "outputs": [],
   "source": [
    "# Set up the connection parameters\n",
    "server_address = '10.0.0.1'\n",
    "port = 5432\n",
    "db_name = 'dsn'\n",
    "db_username = 'udabb'\n",
    "db_password = '43bc7d679f'"
   ]
  },
  {
   "cell_type": "code",
   "execution_count": 5,
   "id": "b4227038",
   "metadata": {},
   "outputs": [],
   "source": [
    "mapping = {\n",
    "#     \"01\": \"Poste éligible à l'aide en entreprise adaptée\",\n",
    "    \"02\": \"Poste éligible à l'aide en structure d’IAE : ACI (ACI_DC)\",\n",
    "    \"03\": \"Poste éligible à l'aide en structure d’IAE : AI (AI_DC)\",\n",
    "    \"04\": \"Poste éligible à l'aide en structure d’IAE : EI (EI_DC)\",\n",
    "    \"05\": \"Poste éligible à l'aide en structure d’IAE : ETTI (ETTI_DC)\",\n",
    "#     \"06\": \"Poste éligible à l'aide en structure d’IAE : ACI en milieu pénitentiaire (ACI_MP)\",\n",
    "#     \"07\": \"Poste éligible à l'aide en structure d’IAE : EI en milieu pénitentiaire (EI_MP)\",\n",
    "}"
   ]
  },
  {
   "cell_type": "code",
   "execution_count": 6,
   "id": "e456158c",
   "metadata": {},
   "outputs": [],
   "source": [
    "def df_from_query(query):\n",
    "    conn_string = f\"host={server_address} port={port} dbname={db_name} user={db_username} password={db_password}\"\n",
    "    connection = psycopg2.connect(conn_string)\n",
    "    cursor = connection.cursor()\n",
    "    cursor.execute(query)\n",
    "    column_names = [desc[0] for desc in cursor.description]\n",
    "    results = cursor.fetchall()\n",
    "    cursor.close()\n",
    "    connection.close()\n",
    "    return pd.DataFrame([r for r in results], columns=column_names)\n",
    "\n",
    "def list_to_enum(my_list):\n",
    "    return \"'\" + \"', '\".join(map(str, my_list)) + \"'\""
   ]
  },
  {
   "cell_type": "code",
   "execution_count": 45,
   "id": "18a05c0c",
   "metadata": {},
   "outputs": [
    {
     "data": {
      "text/plain": [
       "40607"
      ]
     },
     "execution_count": 45,
     "metadata": {},
     "output_type": "execute_result"
    }
   ],
   "source": [
    "# récupération des id_empass des contrats IAE\n",
    "id_employeur_assure = list(df_from_query(\n",
    "    \"SELECT DISTINCT id_employeur_assure FROM public.ddadtcontrat WHERE \"\n",
    "    f\"complement_dispositif_public IN ({list_to_enum(mapping.keys())}) \"\n",
    "#     \"AND unite_mesure = '10' \"\n",
    "#     \"LIMIT 50\"\n",
    "    \";\"\n",
    ")['id_employeur_assure'])\n",
    "len(id_employeur_assure)"
   ]
  },
  {
   "cell_type": "code",
   "execution_count": 19,
   "id": "1d55dce9",
   "metadata": {},
   "outputs": [],
   "source": [
    "# récupération des versements liés aux id_empass\n",
    "versement = df_from_query(\n",
    "    \"SELECT DISTINCT * FROM dadeh.ddadtversement WHERE \"\n",
    "    f\"id_employeur_assure IN ({list_to_enum(id_employeur_assure)}) \"\n",
    "    \";\"\n",
    ")\n",
    "id_versement = list(versement['id'].drop_duplicates())\n",
    "# versement"
   ]
  },
  {
   "cell_type": "code",
   "execution_count": 20,
   "id": "08bd3e93",
   "metadata": {},
   "outputs": [],
   "source": [
    "# récupération des rembrutes liés aux id_versements\n",
    "rembrute = df_from_query(\n",
    "    \"SELECT DISTINCT * FROM dadeh.ddadtrem_brute_ac WHERE \"\n",
    "    f\"id_versement IN ({list_to_enum(id_versement)}) \"\n",
    "    \";\"\n",
    ")\n",
    "id_rembrute = list(rembrute['id'].drop_duplicates())\n",
    "# rembrute"
   ]
  },
  {
   "cell_type": "code",
   "execution_count": 21,
   "id": "ba845845",
   "metadata": {
    "scrolled": false
   },
   "outputs": [],
   "source": [
    "def harmonize_unite(row):\n",
    "    if row['unite_mesure'] == '10':\n",
    "        return row\n",
    "    # tout le reste on considère que c'est en jours\n",
    "    row['mesure'] *= 4.8\n",
    "    row['unite_mesure'] = '10r'\n",
    "    return row\n",
    "\n",
    "# récupération des activites liés aux id_rembrutes\n",
    "activite = df_from_query(\n",
    "    \"SELECT DISTINCT * FROM dadeh.ddadtactivite WHERE \"\n",
    "    f\"id_remuneration_brute_ac IN ({list_to_enum(id_rembrute)}) \"\n",
    "    \";\"\n",
    ")\n",
    "# drop les NA et 40 car cas de subrogation de la sécurité sociale\n",
    "activite_processed = activite.loc[~(activite['unite_mesure']=='40')].dropna(subset='unite_mesure')\n",
    "activite_processed = activite_processed.apply(lambda df: harmonize_unite(df), axis=1)\n",
    "# activite_processed\n",
    "# activite['unite_mesure'].value_counts(dropna=False)"
   ]
  },
  {
   "cell_type": "code",
   "execution_count": 12,
   "id": "eedda042",
   "metadata": {
    "scrolled": true
   },
   "outputs": [
    {
     "data": {
      "text/html": [
       "<div>\n",
       "<style scoped>\n",
       "    .dataframe tbody tr th:only-of-type {\n",
       "        vertical-align: middle;\n",
       "    }\n",
       "\n",
       "    .dataframe tbody tr th {\n",
       "        vertical-align: top;\n",
       "    }\n",
       "\n",
       "    .dataframe thead th {\n",
       "        text-align: right;\n",
       "    }\n",
       "</style>\n",
       "<table border=\"1\" class=\"dataframe\">\n",
       "  <thead>\n",
       "    <tr style=\"text-align: right;\">\n",
       "      <th></th>\n",
       "      <th>id_remuneration_brute_ac</th>\n",
       "      <th>type</th>\n",
       "      <th>mesure</th>\n",
       "      <th>unite_mesure</th>\n",
       "      <th>id</th>\n",
       "      <th>id_versement</th>\n",
       "      <th>numero_contrat</th>\n",
       "      <th>date_debut_paie</th>\n",
       "      <th>date_fin_paie</th>\n",
       "      <th>montant</th>\n",
       "    </tr>\n",
       "  </thead>\n",
       "  <tbody>\n",
       "    <tr>\n",
       "      <th>0</th>\n",
       "      <td>1676863629</td>\n",
       "      <td>02</td>\n",
       "      <td>0.00</td>\n",
       "      <td>10</td>\n",
       "      <td>1676863629</td>\n",
       "      <td>1367636410</td>\n",
       "      <td>6b403925add4f628e7a1</td>\n",
       "      <td>2021-11-01</td>\n",
       "      <td>2021-11-30</td>\n",
       "      <td>1653.30</td>\n",
       "    </tr>\n",
       "    <tr>\n",
       "      <th>1</th>\n",
       "      <td>2232532355</td>\n",
       "      <td>02</td>\n",
       "      <td>0.00</td>\n",
       "      <td>10</td>\n",
       "      <td>2232532355</td>\n",
       "      <td>1811302322</td>\n",
       "      <td>6b403925add4f628e7a1</td>\n",
       "      <td>2022-12-01</td>\n",
       "      <td>2022-12-31</td>\n",
       "      <td>1573.60</td>\n",
       "    </tr>\n",
       "    <tr>\n",
       "      <th>2</th>\n",
       "      <td>2054823519</td>\n",
       "      <td>01</td>\n",
       "      <td>112.67</td>\n",
       "      <td>10</td>\n",
       "      <td>2054823519</td>\n",
       "      <td>1670163297</td>\n",
       "      <td>6b403925add4f628e7a1</td>\n",
       "      <td>2022-08-01</td>\n",
       "      <td>2022-08-31</td>\n",
       "      <td>1247.26</td>\n",
       "    </tr>\n",
       "    <tr>\n",
       "      <th>3</th>\n",
       "      <td>2224477516</td>\n",
       "      <td>01</td>\n",
       "      <td>0.00</td>\n",
       "      <td>10</td>\n",
       "      <td>2224477516</td>\n",
       "      <td>1804970927</td>\n",
       "      <td>a6978c24913ecd4b6447</td>\n",
       "      <td>2022-11-28</td>\n",
       "      <td>2022-11-30</td>\n",
       "      <td>-5.34</td>\n",
       "    </tr>\n",
       "    <tr>\n",
       "      <th>4</th>\n",
       "      <td>2300615680</td>\n",
       "      <td>01</td>\n",
       "      <td>104.00</td>\n",
       "      <td>10</td>\n",
       "      <td>2300615680</td>\n",
       "      <td>1863604510</td>\n",
       "      <td>6b403925add4f628e7a1</td>\n",
       "      <td>2023-02-01</td>\n",
       "      <td>2023-02-28</td>\n",
       "      <td>1172.08</td>\n",
       "    </tr>\n",
       "    <tr>\n",
       "      <th>...</th>\n",
       "      <td>...</td>\n",
       "      <td>...</td>\n",
       "      <td>...</td>\n",
       "      <td>...</td>\n",
       "      <td>...</td>\n",
       "      <td>...</td>\n",
       "      <td>...</td>\n",
       "      <td>...</td>\n",
       "      <td>...</td>\n",
       "      <td>...</td>\n",
       "    </tr>\n",
       "    <tr>\n",
       "      <th>201721</th>\n",
       "      <td>2016652502</td>\n",
       "      <td>01</td>\n",
       "      <td>0.00</td>\n",
       "      <td>10</td>\n",
       "      <td>2016652502</td>\n",
       "      <td>1638913314</td>\n",
       "      <td>66a004419bcdcae51c9a</td>\n",
       "      <td>2022-06-29</td>\n",
       "      <td>2022-06-30</td>\n",
       "      <td>-0.89</td>\n",
       "    </tr>\n",
       "    <tr>\n",
       "      <th>201722</th>\n",
       "      <td>2139981681</td>\n",
       "      <td>01</td>\n",
       "      <td>0.00</td>\n",
       "      <td>10</td>\n",
       "      <td>2139981681</td>\n",
       "      <td>1737987256</td>\n",
       "      <td>cbb1b7db3df747eacd09</td>\n",
       "      <td>2022-09-26</td>\n",
       "      <td>2022-09-30</td>\n",
       "      <td>-45.24</td>\n",
       "    </tr>\n",
       "    <tr>\n",
       "      <th>201723</th>\n",
       "      <td>2018513652</td>\n",
       "      <td>01</td>\n",
       "      <td>0.00</td>\n",
       "      <td>10</td>\n",
       "      <td>2018513652</td>\n",
       "      <td>1640272834</td>\n",
       "      <td>af0fe4ee5e8f5a3d1586</td>\n",
       "      <td>2022-06-20</td>\n",
       "      <td>2022-06-26</td>\n",
       "      <td>0.00</td>\n",
       "    </tr>\n",
       "    <tr>\n",
       "      <th>201724</th>\n",
       "      <td>2312099369</td>\n",
       "      <td>02</td>\n",
       "      <td>73.67</td>\n",
       "      <td>10</td>\n",
       "      <td>2312099369</td>\n",
       "      <td>1873795509</td>\n",
       "      <td>6b403925add4f628e7a1</td>\n",
       "      <td>2023-02-01</td>\n",
       "      <td>2023-02-28</td>\n",
       "      <td>0.00</td>\n",
       "    </tr>\n",
       "    <tr>\n",
       "      <th>201725</th>\n",
       "      <td>1925617182</td>\n",
       "      <td>02</td>\n",
       "      <td>0.70</td>\n",
       "      <td>10</td>\n",
       "      <td>1925617182</td>\n",
       "      <td>1565743260</td>\n",
       "      <td>1257b049c1ec2588bd7f</td>\n",
       "      <td>2022-04-01</td>\n",
       "      <td>2022-04-30</td>\n",
       "      <td>0.00</td>\n",
       "    </tr>\n",
       "  </tbody>\n",
       "</table>\n",
       "<p>201726 rows × 10 columns</p>\n",
       "</div>"
      ],
      "text/plain": [
       "        id_remuneration_brute_ac type  mesure unite_mesure          id  \\\n",
       "0                     1676863629   02    0.00           10  1676863629   \n",
       "1                     2232532355   02    0.00           10  2232532355   \n",
       "2                     2054823519   01  112.67           10  2054823519   \n",
       "3                     2224477516   01    0.00           10  2224477516   \n",
       "4                     2300615680   01  104.00           10  2300615680   \n",
       "...                          ...  ...     ...          ...         ...   \n",
       "201721                2016652502   01    0.00           10  2016652502   \n",
       "201722                2139981681   01    0.00           10  2139981681   \n",
       "201723                2018513652   01    0.00           10  2018513652   \n",
       "201724                2312099369   02   73.67           10  2312099369   \n",
       "201725                1925617182   02    0.70           10  1925617182   \n",
       "\n",
       "        id_versement        numero_contrat date_debut_paie date_fin_paie  \\\n",
       "0         1367636410  6b403925add4f628e7a1      2021-11-01    2021-11-30   \n",
       "1         1811302322  6b403925add4f628e7a1      2022-12-01    2022-12-31   \n",
       "2         1670163297  6b403925add4f628e7a1      2022-08-01    2022-08-31   \n",
       "3         1804970927  a6978c24913ecd4b6447      2022-11-28    2022-11-30   \n",
       "4         1863604510  6b403925add4f628e7a1      2023-02-01    2023-02-28   \n",
       "...              ...                   ...             ...           ...   \n",
       "201721    1638913314  66a004419bcdcae51c9a      2022-06-29    2022-06-30   \n",
       "201722    1737987256  cbb1b7db3df747eacd09      2022-09-26    2022-09-30   \n",
       "201723    1640272834  af0fe4ee5e8f5a3d1586      2022-06-20    2022-06-26   \n",
       "201724    1873795509  6b403925add4f628e7a1      2023-02-01    2023-02-28   \n",
       "201725    1565743260  1257b049c1ec2588bd7f      2022-04-01    2022-04-30   \n",
       "\n",
       "        montant  \n",
       "0       1653.30  \n",
       "1       1573.60  \n",
       "2       1247.26  \n",
       "3         -5.34  \n",
       "4       1172.08  \n",
       "...         ...  \n",
       "201721    -0.89  \n",
       "201722   -45.24  \n",
       "201723     0.00  \n",
       "201724     0.00  \n",
       "201725     0.00  \n",
       "\n",
       "[201726 rows x 10 columns]"
      ]
     },
     "execution_count": 12,
     "metadata": {},
     "output_type": "execute_result"
    }
   ],
   "source": [
    "# merge avec les rembrutes pour avoir les dates de paies et id_versement\n",
    "merged = pd.merge(\n",
    "    activite_processed[['id_remuneration_brute_ac', 'type', 'mesure', 'unite_mesure']],\n",
    "    rembrute,\n",
    "    left_on='id_remuneration_brute_ac',\n",
    "    right_on='id',\n",
    "    how='left',\n",
    ")\n",
    "merged"
   ]
  },
  {
   "cell_type": "code",
   "execution_count": 22,
   "id": "93607441",
   "metadata": {},
   "outputs": [
    {
     "data": {
      "text/html": [
       "<div>\n",
       "<style scoped>\n",
       "    .dataframe tbody tr th:only-of-type {\n",
       "        vertical-align: middle;\n",
       "    }\n",
       "\n",
       "    .dataframe tbody tr th {\n",
       "        vertical-align: top;\n",
       "    }\n",
       "\n",
       "    .dataframe thead th {\n",
       "        text-align: right;\n",
       "    }\n",
       "</style>\n",
       "<table border=\"1\" class=\"dataframe\">\n",
       "  <thead>\n",
       "    <tr style=\"text-align: right;\">\n",
       "      <th></th>\n",
       "      <th>id_employeur_assure</th>\n",
       "      <th>id_assure</th>\n",
       "      <th>id_employeur</th>\n",
       "    </tr>\n",
       "  </thead>\n",
       "  <tbody>\n",
       "    <tr>\n",
       "      <th>0</th>\n",
       "      <td>85169918</td>\n",
       "      <td>37337076</td>\n",
       "      <td>1017313</td>\n",
       "    </tr>\n",
       "    <tr>\n",
       "      <th>1</th>\n",
       "      <td>31259068</td>\n",
       "      <td>16582256</td>\n",
       "      <td>1347742</td>\n",
       "    </tr>\n",
       "    <tr>\n",
       "      <th>2</th>\n",
       "      <td>87862501</td>\n",
       "      <td>16299366</td>\n",
       "      <td>1250716</td>\n",
       "    </tr>\n",
       "    <tr>\n",
       "      <th>3</th>\n",
       "      <td>109282385</td>\n",
       "      <td>18535702</td>\n",
       "      <td>1117760</td>\n",
       "    </tr>\n",
       "    <tr>\n",
       "      <th>4</th>\n",
       "      <td>90626103</td>\n",
       "      <td>29753104</td>\n",
       "      <td>1916477</td>\n",
       "    </tr>\n",
       "    <tr>\n",
       "      <th>...</th>\n",
       "      <td>...</td>\n",
       "      <td>...</td>\n",
       "      <td>...</td>\n",
       "    </tr>\n",
       "    <tr>\n",
       "      <th>40601</th>\n",
       "      <td>70201820</td>\n",
       "      <td>6243940</td>\n",
       "      <td>1248833</td>\n",
       "    </tr>\n",
       "    <tr>\n",
       "      <th>40602</th>\n",
       "      <td>87000575</td>\n",
       "      <td>37692744</td>\n",
       "      <td>1256474</td>\n",
       "    </tr>\n",
       "    <tr>\n",
       "      <th>40603</th>\n",
       "      <td>110471251</td>\n",
       "      <td>7284067</td>\n",
       "      <td>1347742</td>\n",
       "    </tr>\n",
       "    <tr>\n",
       "      <th>40604</th>\n",
       "      <td>103119333</td>\n",
       "      <td>23363593</td>\n",
       "      <td>260010</td>\n",
       "    </tr>\n",
       "    <tr>\n",
       "      <th>40605</th>\n",
       "      <td>70844478</td>\n",
       "      <td>13684355</td>\n",
       "      <td>1891466</td>\n",
       "    </tr>\n",
       "  </tbody>\n",
       "</table>\n",
       "<p>40606 rows × 3 columns</p>\n",
       "</div>"
      ],
      "text/plain": [
       "       id_employeur_assure  id_assure  id_employeur\n",
       "0                 85169918   37337076       1017313\n",
       "1                 31259068   16582256       1347742\n",
       "2                 87862501   16299366       1250716\n",
       "3                109282385   18535702       1117760\n",
       "4                 90626103   29753104       1916477\n",
       "...                    ...        ...           ...\n",
       "40601             70201820    6243940       1248833\n",
       "40602             87000575   37692744       1256474\n",
       "40603            110471251    7284067       1347742\n",
       "40604            103119333   23363593        260010\n",
       "40605             70844478   13684355       1891466\n",
       "\n",
       "[40606 rows x 3 columns]"
      ]
     },
     "execution_count": 22,
     "metadata": {},
     "output_type": "execute_result"
    }
   ],
   "source": [
    "# on recupère les id_employeur et id_assure\n",
    "list_empass = list(versement['id_employeur_assure'])\n",
    "empass = df_from_query(\n",
    "    \"SELECT DISTINCT id as id_employeur_assure, id_assure, id_employeur FROM dadeh.ddadtemployeur_assure WHERE \"\n",
    "    f\"id IN ({list_to_enum(list_empass)}) \"\n",
    "    \";\"\n",
    ")\n",
    "empass"
   ]
  },
  {
   "cell_type": "code",
   "execution_count": 61,
   "id": "5560b838",
   "metadata": {
    "scrolled": false
   },
   "outputs": [
    {
     "data": {
      "text/html": [
       "<div>\n",
       "<style scoped>\n",
       "    .dataframe tbody tr th:only-of-type {\n",
       "        vertical-align: middle;\n",
       "    }\n",
       "\n",
       "    .dataframe tbody tr th {\n",
       "        vertical-align: top;\n",
       "    }\n",
       "\n",
       "    .dataframe thead th {\n",
       "        text-align: right;\n",
       "    }\n",
       "</style>\n",
       "<table border=\"1\" class=\"dataframe\">\n",
       "  <thead>\n",
       "    <tr style=\"text-align: right;\">\n",
       "      <th></th>\n",
       "      <th>id_salarie</th>\n",
       "      <th>id_employeur</th>\n",
       "      <th>date_debut_paie</th>\n",
       "      <th>date_fin_paie</th>\n",
       "      <th>nb_heures_activite</th>\n",
       "    </tr>\n",
       "  </thead>\n",
       "  <tbody>\n",
       "    <tr>\n",
       "      <th>0</th>\n",
       "      <td>36790573</td>\n",
       "      <td>840216</td>\n",
       "      <td>2021-11-01</td>\n",
       "      <td>2021-11-30</td>\n",
       "      <td>0.00</td>\n",
       "    </tr>\n",
       "    <tr>\n",
       "      <th>1</th>\n",
       "      <td>36615800</td>\n",
       "      <td>3755766</td>\n",
       "      <td>2022-12-01</td>\n",
       "      <td>2022-12-31</td>\n",
       "      <td>0.00</td>\n",
       "    </tr>\n",
       "    <tr>\n",
       "      <th>2</th>\n",
       "      <td>23291325</td>\n",
       "      <td>407209</td>\n",
       "      <td>2022-08-01</td>\n",
       "      <td>2022-08-31</td>\n",
       "      <td>112.67</td>\n",
       "    </tr>\n",
       "    <tr>\n",
       "      <th>3</th>\n",
       "      <td>30242310</td>\n",
       "      <td>4881063</td>\n",
       "      <td>2022-11-28</td>\n",
       "      <td>2022-11-30</td>\n",
       "      <td>0.00</td>\n",
       "    </tr>\n",
       "    <tr>\n",
       "      <th>4</th>\n",
       "      <td>26723926</td>\n",
       "      <td>2457832</td>\n",
       "      <td>2023-02-01</td>\n",
       "      <td>2023-02-28</td>\n",
       "      <td>104.00</td>\n",
       "    </tr>\n",
       "    <tr>\n",
       "      <th>...</th>\n",
       "      <td>...</td>\n",
       "      <td>...</td>\n",
       "      <td>...</td>\n",
       "      <td>...</td>\n",
       "      <td>...</td>\n",
       "    </tr>\n",
       "    <tr>\n",
       "      <th>201721</th>\n",
       "      <td>44297676</td>\n",
       "      <td>4025011</td>\n",
       "      <td>2022-06-29</td>\n",
       "      <td>2022-06-30</td>\n",
       "      <td>0.00</td>\n",
       "    </tr>\n",
       "    <tr>\n",
       "      <th>201722</th>\n",
       "      <td>17106332</td>\n",
       "      <td>4025011</td>\n",
       "      <td>2022-09-26</td>\n",
       "      <td>2022-09-30</td>\n",
       "      <td>0.00</td>\n",
       "    </tr>\n",
       "    <tr>\n",
       "      <th>201723</th>\n",
       "      <td>35664774</td>\n",
       "      <td>3393985</td>\n",
       "      <td>2022-06-20</td>\n",
       "      <td>2022-06-26</td>\n",
       "      <td>0.00</td>\n",
       "    </tr>\n",
       "    <tr>\n",
       "      <th>201724</th>\n",
       "      <td>37471376</td>\n",
       "      <td>5911082</td>\n",
       "      <td>2023-02-01</td>\n",
       "      <td>2023-02-28</td>\n",
       "      <td>73.67</td>\n",
       "    </tr>\n",
       "    <tr>\n",
       "      <th>201725</th>\n",
       "      <td>36230403</td>\n",
       "      <td>945225</td>\n",
       "      <td>2022-04-01</td>\n",
       "      <td>2022-04-30</td>\n",
       "      <td>0.70</td>\n",
       "    </tr>\n",
       "  </tbody>\n",
       "</table>\n",
       "<p>201726 rows × 5 columns</p>\n",
       "</div>"
      ],
      "text/plain": [
       "        id_salarie  id_employeur date_debut_paie date_fin_paie  \\\n",
       "0         36790573        840216      2021-11-01    2021-11-30   \n",
       "1         36615800       3755766      2022-12-01    2022-12-31   \n",
       "2         23291325        407209      2022-08-01    2022-08-31   \n",
       "3         30242310       4881063      2022-11-28    2022-11-30   \n",
       "4         26723926       2457832      2023-02-01    2023-02-28   \n",
       "...            ...           ...             ...           ...   \n",
       "201721    44297676       4025011      2022-06-29    2022-06-30   \n",
       "201722    17106332       4025011      2022-09-26    2022-09-30   \n",
       "201723    35664774       3393985      2022-06-20    2022-06-26   \n",
       "201724    37471376       5911082      2023-02-01    2023-02-28   \n",
       "201725    36230403        945225      2022-04-01    2022-04-30   \n",
       "\n",
       "        nb_heures_activite  \n",
       "0                     0.00  \n",
       "1                     0.00  \n",
       "2                   112.67  \n",
       "3                     0.00  \n",
       "4                   104.00  \n",
       "...                    ...  \n",
       "201721                0.00  \n",
       "201722                0.00  \n",
       "201723                0.00  \n",
       "201724               73.67  \n",
       "201725                0.70  \n",
       "\n",
       "[201726 rows x 5 columns]"
      ]
     },
     "execution_count": 61,
     "metadata": {},
     "output_type": "execute_result"
    }
   ],
   "source": [
    "# on a toutes les infos qu'il nous faut : les contrats IAE uniquement, les id_employeur et id_assure, les mesures en heures, les dates de paies\n",
    "merged_with_assure = pd.merge(\n",
    "    merged,\n",
    "    pd.merge(\n",
    "        empass,\n",
    "        versement[['id', 'id_employeur_assure']].rename({'id': 'id_versement'}, axis=1),\n",
    "        on='id_employeur_assure',\n",
    "        how='left'\n",
    "    ),\n",
    "    on='id_versement',\n",
    "    how='left',\n",
    ")\n",
    "merged_with_assure[['id_assure', 'id_employeur', 'date_debut_paie', 'date_fin_paie', 'mesure']].rename(\n",
    "    {'id_assure': 'id_salarie', 'mesure': 'nb_heures_activite'},\n",
    "    axis=1\n",
    ")"
   ]
  },
  {
   "cell_type": "code",
   "execution_count": 25,
   "id": "6fa9b3b5",
   "metadata": {},
   "outputs": [
    {
     "data": {
      "text/html": [
       "<div>\n",
       "<style scoped>\n",
       "    .dataframe tbody tr th:only-of-type {\n",
       "        vertical-align: middle;\n",
       "    }\n",
       "\n",
       "    .dataframe tbody tr th {\n",
       "        vertical-align: top;\n",
       "    }\n",
       "\n",
       "    .dataframe thead th {\n",
       "        text-align: right;\n",
       "    }\n",
       "</style>\n",
       "<table border=\"1\" class=\"dataframe\">\n",
       "  <thead>\n",
       "    <tr style=\"text-align: right;\">\n",
       "      <th></th>\n",
       "      <th>id_assure</th>\n",
       "      <th>mesure</th>\n",
       "    </tr>\n",
       "  </thead>\n",
       "  <tbody>\n",
       "    <tr>\n",
       "      <th>0</th>\n",
       "      <td>14324</td>\n",
       "      <td>0.00</td>\n",
       "    </tr>\n",
       "    <tr>\n",
       "      <th>1</th>\n",
       "      <td>53434</td>\n",
       "      <td>770.82</td>\n",
       "    </tr>\n",
       "    <tr>\n",
       "      <th>2</th>\n",
       "      <td>89869</td>\n",
       "      <td>675.50</td>\n",
       "    </tr>\n",
       "    <tr>\n",
       "      <th>3</th>\n",
       "      <td>137725</td>\n",
       "      <td>3713.94</td>\n",
       "    </tr>\n",
       "    <tr>\n",
       "      <th>4</th>\n",
       "      <td>160442</td>\n",
       "      <td>566.81</td>\n",
       "    </tr>\n",
       "    <tr>\n",
       "      <th>...</th>\n",
       "      <td>...</td>\n",
       "      <td>...</td>\n",
       "    </tr>\n",
       "    <tr>\n",
       "      <th>11238</th>\n",
       "      <td>46310687</td>\n",
       "      <td>14.00</td>\n",
       "    </tr>\n",
       "    <tr>\n",
       "      <th>11239</th>\n",
       "      <td>46311834</td>\n",
       "      <td>14.00</td>\n",
       "    </tr>\n",
       "    <tr>\n",
       "      <th>11240</th>\n",
       "      <td>46311835</td>\n",
       "      <td>14.00</td>\n",
       "    </tr>\n",
       "    <tr>\n",
       "      <th>11241</th>\n",
       "      <td>46318890</td>\n",
       "      <td>84.00</td>\n",
       "    </tr>\n",
       "    <tr>\n",
       "      <th>11242</th>\n",
       "      <td>46318891</td>\n",
       "      <td>47.50</td>\n",
       "    </tr>\n",
       "  </tbody>\n",
       "</table>\n",
       "<p>11243 rows × 2 columns</p>\n",
       "</div>"
      ],
      "text/plain": [
       "       id_assure   mesure\n",
       "0          14324     0.00\n",
       "1          53434   770.82\n",
       "2          89869   675.50\n",
       "3         137725  3713.94\n",
       "4         160442   566.81\n",
       "...          ...      ...\n",
       "11238   46310687    14.00\n",
       "11239   46311834    14.00\n",
       "11240   46311835    14.00\n",
       "11241   46318890    84.00\n",
       "11242   46318891    47.50\n",
       "\n",
       "[11243 rows x 2 columns]"
      ]
     },
     "execution_count": 25,
     "metadata": {},
     "output_type": "execute_result"
    }
   ],
   "source": [
    "# heures travaillées par assuré sur la période\n",
    "hours_worked = merged_with_assure.groupby('id_assure')['mesure'].sum().reset_index()\n",
    "hours_worked"
   ]
  },
  {
   "cell_type": "code",
   "execution_count": 90,
   "id": "ef749371",
   "metadata": {},
   "outputs": [
    {
     "data": {
      "text/plain": [
       "id_assure    14308883\n",
       "count             120\n",
       "Name: 70, dtype: int64"
      ]
     },
     "execution_count": 90,
     "metadata": {},
     "output_type": "execute_result"
    }
   ],
   "source": [
    "# pour sélectionner un cas intéressant\n",
    "merged_with_assure['id_assure'].value_counts().reset_index().iloc[70]\n",
    "# merged_with_assure.drop_duplicates(['id_assure', 'id_employeur']).groupby('id_assure')['id_employeur'].count().sort_values()"
   ]
  },
  {
   "cell_type": "code",
   "execution_count": 93,
   "id": "890953e2",
   "metadata": {
    "scrolled": true
   },
   "outputs": [
    {
     "data": {
      "text/html": [
       "<div>\n",
       "<style scoped>\n",
       "    .dataframe tbody tr th:only-of-type {\n",
       "        vertical-align: middle;\n",
       "    }\n",
       "\n",
       "    .dataframe tbody tr th {\n",
       "        vertical-align: top;\n",
       "    }\n",
       "\n",
       "    .dataframe thead th {\n",
       "        text-align: right;\n",
       "    }\n",
       "</style>\n",
       "<table border=\"1\" class=\"dataframe\">\n",
       "  <thead>\n",
       "    <tr style=\"text-align: right;\">\n",
       "      <th></th>\n",
       "      <th>date_debut_paie</th>\n",
       "      <th>id_employeur</th>\n",
       "      <th>date_fin_paie</th>\n",
       "      <th>mesure</th>\n",
       "    </tr>\n",
       "  </thead>\n",
       "  <tbody>\n",
       "    <tr>\n",
       "      <th>0</th>\n",
       "      <td>2021-02-11</td>\n",
       "      <td>1320323</td>\n",
       "      <td>2021-02-26</td>\n",
       "      <td>84.0</td>\n",
       "    </tr>\n",
       "    <tr>\n",
       "      <th>1</th>\n",
       "      <td>2021-03-01</td>\n",
       "      <td>1320323</td>\n",
       "      <td>2021-03-12</td>\n",
       "      <td>70.0</td>\n",
       "    </tr>\n",
       "    <tr>\n",
       "      <th>2</th>\n",
       "      <td>2021-07-13</td>\n",
       "      <td>1320323</td>\n",
       "      <td>2021-07-13</td>\n",
       "      <td>7.0</td>\n",
       "    </tr>\n",
       "    <tr>\n",
       "      <th>3</th>\n",
       "      <td>2021-07-15</td>\n",
       "      <td>1320323</td>\n",
       "      <td>2021-07-15</td>\n",
       "      <td>7.0</td>\n",
       "    </tr>\n",
       "    <tr>\n",
       "      <th>4</th>\n",
       "      <td>2021-07-16</td>\n",
       "      <td>1320323</td>\n",
       "      <td>2021-07-16</td>\n",
       "      <td>5.5</td>\n",
       "    </tr>\n",
       "    <tr>\n",
       "      <th>5</th>\n",
       "      <td>2021-07-21</td>\n",
       "      <td>1320323</td>\n",
       "      <td>2021-07-30</td>\n",
       "      <td>62.0</td>\n",
       "    </tr>\n",
       "    <tr>\n",
       "      <th>6</th>\n",
       "      <td>2021-08-01</td>\n",
       "      <td>1320323</td>\n",
       "      <td>2021-08-06</td>\n",
       "      <td>39.0</td>\n",
       "    </tr>\n",
       "    <tr>\n",
       "      <th>7</th>\n",
       "      <td>2021-08-09</td>\n",
       "      <td>1320323</td>\n",
       "      <td>2021-08-31</td>\n",
       "      <td>140.5</td>\n",
       "    </tr>\n",
       "    <tr>\n",
       "      <th>8</th>\n",
       "      <td>2021-09-01</td>\n",
       "      <td>1320323</td>\n",
       "      <td>2021-09-03</td>\n",
       "      <td>25.0</td>\n",
       "    </tr>\n",
       "    <tr>\n",
       "      <th>9</th>\n",
       "      <td>2021-09-06</td>\n",
       "      <td>1320323</td>\n",
       "      <td>2021-09-16</td>\n",
       "      <td>63.0</td>\n",
       "    </tr>\n",
       "    <tr>\n",
       "      <th>10</th>\n",
       "      <td>2022-06-24</td>\n",
       "      <td>1320323</td>\n",
       "      <td>2022-06-30</td>\n",
       "      <td>35.0</td>\n",
       "    </tr>\n",
       "    <tr>\n",
       "      <th>11</th>\n",
       "      <td>2022-07-01</td>\n",
       "      <td>1320323</td>\n",
       "      <td>2022-07-15</td>\n",
       "      <td>79.0</td>\n",
       "    </tr>\n",
       "    <tr>\n",
       "      <th>12</th>\n",
       "      <td>2022-07-18</td>\n",
       "      <td>1320323</td>\n",
       "      <td>2022-07-29</td>\n",
       "      <td>75.0</td>\n",
       "    </tr>\n",
       "    <tr>\n",
       "      <th>13</th>\n",
       "      <td>2022-08-01</td>\n",
       "      <td>1320323</td>\n",
       "      <td>2022-08-05</td>\n",
       "      <td>40.0</td>\n",
       "    </tr>\n",
       "    <tr>\n",
       "      <th>14</th>\n",
       "      <td>2022-08-08</td>\n",
       "      <td>1320323</td>\n",
       "      <td>2022-08-26</td>\n",
       "      <td>114.5</td>\n",
       "    </tr>\n",
       "    <tr>\n",
       "      <th>15</th>\n",
       "      <td>2022-08-29</td>\n",
       "      <td>1320323</td>\n",
       "      <td>2022-08-31</td>\n",
       "      <td>22.5</td>\n",
       "    </tr>\n",
       "    <tr>\n",
       "      <th>16</th>\n",
       "      <td>2022-09-01</td>\n",
       "      <td>1320323</td>\n",
       "      <td>2022-09-16</td>\n",
       "      <td>90.5</td>\n",
       "    </tr>\n",
       "    <tr>\n",
       "      <th>17</th>\n",
       "      <td>2022-09-19</td>\n",
       "      <td>1320323</td>\n",
       "      <td>2022-09-30</td>\n",
       "      <td>75.0</td>\n",
       "    </tr>\n",
       "    <tr>\n",
       "      <th>18</th>\n",
       "      <td>2022-10-01</td>\n",
       "      <td>1320323</td>\n",
       "      <td>2022-10-14</td>\n",
       "      <td>67.5</td>\n",
       "    </tr>\n",
       "    <tr>\n",
       "      <th>19</th>\n",
       "      <td>2022-10-17</td>\n",
       "      <td>1320323</td>\n",
       "      <td>2022-10-28</td>\n",
       "      <td>75.0</td>\n",
       "    </tr>\n",
       "    <tr>\n",
       "      <th>20</th>\n",
       "      <td>2022-10-31</td>\n",
       "      <td>1320323</td>\n",
       "      <td>2022-10-31</td>\n",
       "      <td>7.5</td>\n",
       "    </tr>\n",
       "    <tr>\n",
       "      <th>21</th>\n",
       "      <td>2022-11-01</td>\n",
       "      <td>1320323</td>\n",
       "      <td>2022-11-18</td>\n",
       "      <td>104.0</td>\n",
       "    </tr>\n",
       "    <tr>\n",
       "      <th>22</th>\n",
       "      <td>2022-11-21</td>\n",
       "      <td>1320323</td>\n",
       "      <td>2022-11-30</td>\n",
       "      <td>64.0</td>\n",
       "    </tr>\n",
       "    <tr>\n",
       "      <th>23</th>\n",
       "      <td>2022-12-01</td>\n",
       "      <td>1320323</td>\n",
       "      <td>2022-12-02</td>\n",
       "      <td>16.0</td>\n",
       "    </tr>\n",
       "    <tr>\n",
       "      <th>24</th>\n",
       "      <td>2022-12-05</td>\n",
       "      <td>1320323</td>\n",
       "      <td>2022-12-31</td>\n",
       "      <td>105.0</td>\n",
       "    </tr>\n",
       "    <tr>\n",
       "      <th>25</th>\n",
       "      <td>2023-01-01</td>\n",
       "      <td>5884455</td>\n",
       "      <td>2023-01-31</td>\n",
       "      <td>194.0</td>\n",
       "    </tr>\n",
       "    <tr>\n",
       "      <th>26</th>\n",
       "      <td>2023-02-01</td>\n",
       "      <td>5884455</td>\n",
       "      <td>2023-02-28</td>\n",
       "      <td>140.0</td>\n",
       "    </tr>\n",
       "    <tr>\n",
       "      <th>27</th>\n",
       "      <td>2023-03-14</td>\n",
       "      <td>5884455</td>\n",
       "      <td>2023-03-14</td>\n",
       "      <td>7.0</td>\n",
       "    </tr>\n",
       "    <tr>\n",
       "      <th>28</th>\n",
       "      <td>2023-03-27</td>\n",
       "      <td>5884455</td>\n",
       "      <td>2023-03-27</td>\n",
       "      <td>4.5</td>\n",
       "    </tr>\n",
       "    <tr>\n",
       "      <th>29</th>\n",
       "      <td>2023-04-03</td>\n",
       "      <td>5884455</td>\n",
       "      <td>2023-04-21</td>\n",
       "      <td>112.0</td>\n",
       "    </tr>\n",
       "    <tr>\n",
       "      <th>30</th>\n",
       "      <td>2023-04-25</td>\n",
       "      <td>5884455</td>\n",
       "      <td>2023-04-30</td>\n",
       "      <td>34.0</td>\n",
       "    </tr>\n",
       "    <tr>\n",
       "      <th>31</th>\n",
       "      <td>2023-05-01</td>\n",
       "      <td>5884455</td>\n",
       "      <td>2023-05-26</td>\n",
       "      <td>161.5</td>\n",
       "    </tr>\n",
       "    <tr>\n",
       "      <th>32</th>\n",
       "      <td>2023-05-30</td>\n",
       "      <td>5884455</td>\n",
       "      <td>2023-05-31</td>\n",
       "      <td>8.0</td>\n",
       "    </tr>\n",
       "  </tbody>\n",
       "</table>\n",
       "</div>"
      ],
      "text/plain": [
       "   date_debut_paie  id_employeur date_fin_paie  mesure\n",
       "0       2021-02-11       1320323    2021-02-26    84.0\n",
       "1       2021-03-01       1320323    2021-03-12    70.0\n",
       "2       2021-07-13       1320323    2021-07-13     7.0\n",
       "3       2021-07-15       1320323    2021-07-15     7.0\n",
       "4       2021-07-16       1320323    2021-07-16     5.5\n",
       "5       2021-07-21       1320323    2021-07-30    62.0\n",
       "6       2021-08-01       1320323    2021-08-06    39.0\n",
       "7       2021-08-09       1320323    2021-08-31   140.5\n",
       "8       2021-09-01       1320323    2021-09-03    25.0\n",
       "9       2021-09-06       1320323    2021-09-16    63.0\n",
       "10      2022-06-24       1320323    2022-06-30    35.0\n",
       "11      2022-07-01       1320323    2022-07-15    79.0\n",
       "12      2022-07-18       1320323    2022-07-29    75.0\n",
       "13      2022-08-01       1320323    2022-08-05    40.0\n",
       "14      2022-08-08       1320323    2022-08-26   114.5\n",
       "15      2022-08-29       1320323    2022-08-31    22.5\n",
       "16      2022-09-01       1320323    2022-09-16    90.5\n",
       "17      2022-09-19       1320323    2022-09-30    75.0\n",
       "18      2022-10-01       1320323    2022-10-14    67.5\n",
       "19      2022-10-17       1320323    2022-10-28    75.0\n",
       "20      2022-10-31       1320323    2022-10-31     7.5\n",
       "21      2022-11-01       1320323    2022-11-18   104.0\n",
       "22      2022-11-21       1320323    2022-11-30    64.0\n",
       "23      2022-12-01       1320323    2022-12-02    16.0\n",
       "24      2022-12-05       1320323    2022-12-31   105.0\n",
       "25      2023-01-01       5884455    2023-01-31   194.0\n",
       "26      2023-02-01       5884455    2023-02-28   140.0\n",
       "27      2023-03-14       5884455    2023-03-14     7.0\n",
       "28      2023-03-27       5884455    2023-03-27     4.5\n",
       "29      2023-04-03       5884455    2023-04-21   112.0\n",
       "30      2023-04-25       5884455    2023-04-30    34.0\n",
       "31      2023-05-01       5884455    2023-05-26   161.5\n",
       "32      2023-05-30       5884455    2023-05-31     8.0"
      ]
     },
     "execution_count": 93,
     "metadata": {},
     "output_type": "execute_result"
    }
   ],
   "source": [
    "# pour un assuré, toutes ses dates de paies et les heures travaillées\n",
    "usecase = merged_with_assure.loc[\n",
    "    (merged_with_assure['id_assure']==14308883)\n",
    "#     & (merged_with_assure['mesure']>0)\n",
    "].sort_values('date_debut_paie')\n",
    "usecase = pd.merge(\n",
    "    usecase[['date_debut_paie', 'id_employeur']].drop_duplicates(),\n",
    "    usecase.groupby(['date_debut_paie', 'date_fin_paie'])['mesure'].sum().reset_index(),\n",
    "    on='date_debut_paie',\n",
    "    how='right',\n",
    ")\n",
    "usecase"
   ]
  },
  {
   "cell_type": "code",
   "execution_count": 94,
   "id": "08cfce5b",
   "metadata": {
    "scrolled": true
   },
   "outputs": [
    {
     "data": {
      "text/plain": [
       "id_employeur\n",
       "1320323    25\n",
       "5884455     8\n",
       "Name: count, dtype: int64"
      ]
     },
     "execution_count": 94,
     "metadata": {},
     "output_type": "execute_result"
    }
   ],
   "source": [
    "# nombre d'employeurs qu'a eus l'assuré\n",
    "usecase['id_employeur'].value_counts()"
   ]
  },
  {
   "cell_type": "code",
   "execution_count": 95,
   "id": "4ef8acff",
   "metadata": {
    "scrolled": true
   },
   "outputs": [
    {
     "data": {
      "text/markdown": [
       "## Employeur : 1320323\n",
       "- Du 11/02/2021 au 26/02/2021 : 84.0 heures\n",
       "- Du 01/03/2021 au 12/03/2021 : 70.0 heures\n",
       "- Du 13/07/2021 au 13/07/2021 : 7.0 heures\n",
       "- Du 15/07/2021 au 15/07/2021 : 7.0 heures\n",
       "- Du 16/07/2021 au 16/07/2021 : 5.5 heures\n",
       "- Du 21/07/2021 au 30/07/2021 : 62.0 heures\n",
       "- Du 01/08/2021 au 06/08/2021 : 39.0 heures\n",
       "- Du 09/08/2021 au 31/08/2021 : 140.5 heures\n",
       "- Du 01/09/2021 au 03/09/2021 : 25.0 heures\n",
       "- Du 06/09/2021 au 16/09/2021 : 63.0 heures\n",
       "- Du 24/06/2022 au 30/06/2022 : 35.0 heures\n",
       "- Du 01/07/2022 au 15/07/2022 : 79.0 heures\n",
       "- Du 18/07/2022 au 29/07/2022 : 75.0 heures\n",
       "- Du 01/08/2022 au 05/08/2022 : 40.0 heures\n",
       "- Du 08/08/2022 au 26/08/2022 : 114.5 heures\n",
       "- Du 29/08/2022 au 31/08/2022 : 22.5 heures\n",
       "- Du 01/09/2022 au 16/09/2022 : 90.5 heures\n",
       "- Du 19/09/2022 au 30/09/2022 : 75.0 heures\n",
       "- Du 01/10/2022 au 14/10/2022 : 67.5 heures\n",
       "- Du 17/10/2022 au 28/10/2022 : 75.0 heures\n",
       "- Du 31/10/2022 au 31/10/2022 : 7.5 heures\n",
       "- Du 01/11/2022 au 18/11/2022 : 104.0 heures\n",
       "- Du 21/11/2022 au 30/11/2022 : 64.0 heures\n",
       "- Du 01/12/2022 au 02/12/2022 : 16.0 heures\n",
       "- Du 05/12/2022 au 31/12/2022 : 105.0 heures\n",
       "## Employeur : 5884455\n",
       "- Du 01/01/2023 au 31/01/2023 : 194.0 heures\n",
       "- Du 01/02/2023 au 28/02/2023 : 140.0 heures\n",
       "- Du 14/03/2023 au 14/03/2023 : 7.0 heures\n",
       "- Du 27/03/2023 au 27/03/2023 : 4.5 heures\n",
       "- Du 03/04/2023 au 21/04/2023 : 112.0 heures\n",
       "- Du 25/04/2023 au 30/04/2023 : 34.0 heures\n",
       "- Du 01/05/2023 au 26/05/2023 : 161.5 heures\n",
       "- Du 30/05/2023 au 31/05/2023 : 8.0 heures\n"
      ],
      "text/plain": [
       "<IPython.core.display.Markdown object>"
      ]
     },
     "metadata": {},
     "output_type": "display_data"
    }
   ],
   "source": [
    "# génération d'un document intelligible\n",
    "md = \"\"\n",
    "current_employeur = None\n",
    "for _, row in usecase.iterrows():\n",
    "    if row['id_employeur'] != current_employeur:\n",
    "        current_employeur = row['id_employeur']\n",
    "        md += f\"## Employeur : {current_employeur}\\n\"\n",
    "    md += f\"- Du {row['date_debut_paie'].strftime('%d/%m/%Y')} au {row['date_fin_paie'].strftime('%d/%m/%Y')} : {row['mesure']} heures\\n\"\n",
    "display(Markdown(md))"
   ]
  },
  {
   "cell_type": "code",
   "execution_count": 54,
   "id": "e2e02f3b",
   "metadata": {
    "scrolled": true
   },
   "outputs": [
    {
     "data": {
      "text/html": [
       "<div>\n",
       "<style scoped>\n",
       "    .dataframe tbody tr th:only-of-type {\n",
       "        vertical-align: middle;\n",
       "    }\n",
       "\n",
       "    .dataframe tbody tr th {\n",
       "        vertical-align: top;\n",
       "    }\n",
       "\n",
       "    .dataframe thead th {\n",
       "        text-align: right;\n",
       "    }\n",
       "</style>\n",
       "<table border=\"1\" class=\"dataframe\">\n",
       "  <thead>\n",
       "    <tr style=\"text-align: right;\">\n",
       "      <th></th>\n",
       "      <th>date</th>\n",
       "      <th>hours_on_period</th>\n",
       "    </tr>\n",
       "  </thead>\n",
       "  <tbody>\n",
       "    <tr>\n",
       "      <th>0</th>\n",
       "      <td>2021-01-11</td>\n",
       "      <td>115.0</td>\n",
       "    </tr>\n",
       "    <tr>\n",
       "      <th>1</th>\n",
       "      <td>2021-01-12</td>\n",
       "      <td>115.0</td>\n",
       "    </tr>\n",
       "    <tr>\n",
       "      <th>2</th>\n",
       "      <td>2021-01-13</td>\n",
       "      <td>115.0</td>\n",
       "    </tr>\n",
       "    <tr>\n",
       "      <th>3</th>\n",
       "      <td>2021-01-14</td>\n",
       "      <td>115.0</td>\n",
       "    </tr>\n",
       "    <tr>\n",
       "      <th>4</th>\n",
       "      <td>2021-01-15</td>\n",
       "      <td>115.0</td>\n",
       "    </tr>\n",
       "    <tr>\n",
       "      <th>...</th>\n",
       "      <td>...</td>\n",
       "      <td>...</td>\n",
       "    </tr>\n",
       "    <tr>\n",
       "      <th>656</th>\n",
       "      <td>2023-05-27</td>\n",
       "      <td>85.0</td>\n",
       "    </tr>\n",
       "    <tr>\n",
       "      <th>657</th>\n",
       "      <td>2023-05-28</td>\n",
       "      <td>85.0</td>\n",
       "    </tr>\n",
       "    <tr>\n",
       "      <th>658</th>\n",
       "      <td>2023-05-29</td>\n",
       "      <td>85.0</td>\n",
       "    </tr>\n",
       "    <tr>\n",
       "      <th>659</th>\n",
       "      <td>2023-05-30</td>\n",
       "      <td>85.0</td>\n",
       "    </tr>\n",
       "    <tr>\n",
       "      <th>660</th>\n",
       "      <td>2023-05-31</td>\n",
       "      <td>85.0</td>\n",
       "    </tr>\n",
       "  </tbody>\n",
       "</table>\n",
       "<p>661 rows × 2 columns</p>\n",
       "</div>"
      ],
      "text/plain": [
       "          date  hours_on_period\n",
       "0   2021-01-11            115.0\n",
       "1   2021-01-12            115.0\n",
       "2   2021-01-13            115.0\n",
       "3   2021-01-14            115.0\n",
       "4   2021-01-15            115.0\n",
       "..         ...              ...\n",
       "656 2023-05-27             85.0\n",
       "657 2023-05-28             85.0\n",
       "658 2023-05-29             85.0\n",
       "659 2023-05-30             85.0\n",
       "660 2023-05-31             85.0\n",
       "\n",
       "[661 rows x 2 columns]"
      ]
     },
     "execution_count": 54,
     "metadata": {},
     "output_type": "execute_result"
    }
   ],
   "source": [
    "df_cal = []\n",
    "for _, row in usecase.iterrows():\n",
    "    date_range = pd.date_range(row['date_debut_paie'], row['date_fin_paie'])\n",
    "    df_cal.append(pd.DataFrame(\n",
    "        {\n",
    "            'date': date_range,\n",
    "            'hours_on_period': [row['mesure'] for k in range(len(date_range))]\n",
    "        }\n",
    "    ))\n",
    "df_cal = pd.concat(df_cal, ignore_index=True)\n",
    "df_cal"
   ]
  },
  {
   "cell_type": "code",
   "execution_count": 97,
   "id": "b6c54dbb",
   "metadata": {},
   "outputs": [
    {
     "data": {
      "application/vnd.plotly.v1+json": {
       "config": {
        "plotlyServerURL": "https://plot.ly"
       },
       "data": [
        {
         "colorscale": [
          [
           0,
           "rgb(247,252,245)"
          ],
          [
           0.125,
           "rgb(229,245,224)"
          ],
          [
           0.25,
           "rgb(199,233,192)"
          ],
          [
           0.375,
           "rgb(161,217,155)"
          ],
          [
           0.5,
           "rgb(116,196,118)"
          ],
          [
           0.625,
           "rgb(65,171,93)"
          ],
          [
           0.75,
           "rgb(35,139,69)"
          ],
          [
           0.875,
           "rgb(0,109,44)"
          ],
          [
           1,
           "rgb(0,68,27)"
          ]
         ],
         "customdata": [
          [
           "2021-01-01",
           "y"
          ],
          [
           "2021-01-02",
           "y"
          ],
          [
           "2021-01-03",
           "y"
          ],
          [
           "2021-01-04",
           "y"
          ],
          [
           "2021-01-05",
           "y"
          ],
          [
           "2021-01-06",
           "y"
          ],
          [
           "2021-01-07",
           "y"
          ],
          [
           "2021-01-08",
           "y"
          ],
          [
           "2021-01-09",
           "y"
          ],
          [
           "2021-01-10",
           "y"
          ],
          [
           "2021-01-11",
           "y"
          ],
          [
           "2021-01-12",
           "y"
          ],
          [
           "2021-01-13",
           "y"
          ],
          [
           "2021-01-14",
           "y"
          ],
          [
           "2021-01-15",
           "y"
          ],
          [
           "2021-01-16",
           "y"
          ],
          [
           "2021-01-17",
           "y"
          ],
          [
           "2021-01-18",
           "y"
          ],
          [
           "2021-01-19",
           "y"
          ],
          [
           "2021-01-20",
           "y"
          ],
          [
           "2021-01-21",
           "y"
          ],
          [
           "2021-01-22",
           "y"
          ],
          [
           "2021-01-23",
           "y"
          ],
          [
           "2021-01-24",
           "y"
          ],
          [
           "2021-01-25",
           "y"
          ],
          [
           "2021-01-26",
           "y"
          ],
          [
           "2021-01-27",
           "y"
          ],
          [
           "2021-01-28",
           "y"
          ],
          [
           "2021-01-29",
           "y"
          ],
          [
           "2021-01-30",
           "y"
          ],
          [
           "2021-01-31",
           "y"
          ],
          [
           "2021-02-01",
           "y"
          ],
          [
           "2021-02-02",
           "y"
          ],
          [
           "2021-02-03",
           "y"
          ],
          [
           "2021-02-04",
           "y"
          ],
          [
           "2021-02-05",
           "y"
          ],
          [
           "2021-02-06",
           "y"
          ],
          [
           "2021-02-07",
           "y"
          ],
          [
           "2021-02-08",
           "y"
          ],
          [
           "2021-02-09",
           "y"
          ],
          [
           "2021-02-10",
           "y"
          ],
          [
           "2021-02-11",
           "y"
          ],
          [
           "2021-02-12",
           "y"
          ],
          [
           "2021-02-13",
           "y"
          ],
          [
           "2021-02-14",
           "y"
          ],
          [
           "2021-02-15",
           "y"
          ],
          [
           "2021-02-16",
           "y"
          ],
          [
           "2021-02-17",
           "y"
          ],
          [
           "2021-02-18",
           "y"
          ],
          [
           "2021-02-19",
           "y"
          ],
          [
           "2021-02-20",
           "y"
          ],
          [
           "2021-02-21",
           "y"
          ],
          [
           "2021-02-22",
           "y"
          ],
          [
           "2021-02-23",
           "y"
          ],
          [
           "2021-02-24",
           "y"
          ],
          [
           "2021-02-25",
           "y"
          ],
          [
           "2021-02-26",
           "y"
          ],
          [
           "2021-02-27",
           "y"
          ],
          [
           "2021-02-28",
           "y"
          ],
          [
           "2021-03-01",
           "y"
          ],
          [
           "2021-03-02",
           "y"
          ],
          [
           "2021-03-03",
           "y"
          ],
          [
           "2021-03-04",
           "y"
          ],
          [
           "2021-03-05",
           "y"
          ],
          [
           "2021-03-06",
           "y"
          ],
          [
           "2021-03-07",
           "y"
          ],
          [
           "2021-03-08",
           "y"
          ],
          [
           "2021-03-09",
           "y"
          ],
          [
           "2021-03-10",
           "y"
          ],
          [
           "2021-03-11",
           "y"
          ],
          [
           "2021-03-12",
           "y"
          ],
          [
           "2021-03-13",
           "y"
          ],
          [
           "2021-03-14",
           "y"
          ],
          [
           "2021-03-15",
           "y"
          ],
          [
           "2021-03-16",
           "y"
          ],
          [
           "2021-03-17",
           "y"
          ],
          [
           "2021-03-18",
           "y"
          ],
          [
           "2021-03-19",
           "y"
          ],
          [
           "2021-03-20",
           "y"
          ],
          [
           "2021-03-21",
           "y"
          ],
          [
           "2021-03-22",
           "y"
          ],
          [
           "2021-03-23",
           "y"
          ],
          [
           "2021-03-24",
           "y"
          ],
          [
           "2021-03-25",
           "y"
          ],
          [
           "2021-03-26",
           "y"
          ],
          [
           "2021-03-27",
           "y"
          ],
          [
           "2021-03-28",
           "y"
          ],
          [
           "2021-03-29",
           "y"
          ],
          [
           "2021-03-30",
           "y"
          ],
          [
           "2021-03-31",
           "y"
          ],
          [
           "2021-04-01",
           "y"
          ],
          [
           "2021-04-02",
           "y"
          ],
          [
           "2021-04-03",
           "y"
          ],
          [
           "2021-04-04",
           "y"
          ],
          [
           "2021-04-05",
           "y"
          ],
          [
           "2021-04-06",
           "y"
          ],
          [
           "2021-04-07",
           "y"
          ],
          [
           "2021-04-08",
           "y"
          ],
          [
           "2021-04-09",
           "y"
          ],
          [
           "2021-04-10",
           "y"
          ],
          [
           "2021-04-11",
           "y"
          ],
          [
           "2021-04-12",
           "y"
          ],
          [
           "2021-04-13",
           "y"
          ],
          [
           "2021-04-14",
           "y"
          ],
          [
           "2021-04-15",
           "y"
          ],
          [
           "2021-04-16",
           "y"
          ],
          [
           "2021-04-17",
           "y"
          ],
          [
           "2021-04-18",
           "y"
          ],
          [
           "2021-04-19",
           "y"
          ],
          [
           "2021-04-20",
           "y"
          ],
          [
           "2021-04-21",
           "y"
          ],
          [
           "2021-04-22",
           "y"
          ],
          [
           "2021-04-23",
           "y"
          ],
          [
           "2021-04-24",
           "y"
          ],
          [
           "2021-04-25",
           "y"
          ],
          [
           "2021-04-26",
           "y"
          ],
          [
           "2021-04-27",
           "y"
          ],
          [
           "2021-04-28",
           "y"
          ],
          [
           "2021-04-29",
           "y"
          ],
          [
           "2021-04-30",
           "y"
          ],
          [
           "2021-05-01",
           "y"
          ],
          [
           "2021-05-02",
           "y"
          ],
          [
           "2021-05-03",
           "y"
          ],
          [
           "2021-05-04",
           "y"
          ],
          [
           "2021-05-05",
           "y"
          ],
          [
           "2021-05-06",
           "y"
          ],
          [
           "2021-05-07",
           "y"
          ],
          [
           "2021-05-08",
           "y"
          ],
          [
           "2021-05-09",
           "y"
          ],
          [
           "2021-05-10",
           "y"
          ],
          [
           "2021-05-11",
           "y"
          ],
          [
           "2021-05-12",
           "y"
          ],
          [
           "2021-05-13",
           "y"
          ],
          [
           "2021-05-14",
           "y"
          ],
          [
           "2021-05-15",
           "y"
          ],
          [
           "2021-05-16",
           "y"
          ],
          [
           "2021-05-17",
           "y"
          ],
          [
           "2021-05-18",
           "y"
          ],
          [
           "2021-05-19",
           "y"
          ],
          [
           "2021-05-20",
           "y"
          ],
          [
           "2021-05-21",
           "y"
          ],
          [
           "2021-05-22",
           "y"
          ],
          [
           "2021-05-23",
           "y"
          ],
          [
           "2021-05-24",
           "y"
          ],
          [
           "2021-05-25",
           "y"
          ],
          [
           "2021-05-26",
           "y"
          ],
          [
           "2021-05-27",
           "y"
          ],
          [
           "2021-05-28",
           "y"
          ],
          [
           "2021-05-29",
           "y"
          ],
          [
           "2021-05-30",
           "y"
          ],
          [
           "2021-05-31",
           "y"
          ],
          [
           "2021-06-01",
           "y"
          ],
          [
           "2021-06-02",
           "y"
          ],
          [
           "2021-06-03",
           "y"
          ],
          [
           "2021-06-04",
           "y"
          ],
          [
           "2021-06-05",
           "y"
          ],
          [
           "2021-06-06",
           "y"
          ],
          [
           "2021-06-07",
           "y"
          ],
          [
           "2021-06-08",
           "y"
          ],
          [
           "2021-06-09",
           "y"
          ],
          [
           "2021-06-10",
           "y"
          ],
          [
           "2021-06-11",
           "y"
          ],
          [
           "2021-06-12",
           "y"
          ],
          [
           "2021-06-13",
           "y"
          ],
          [
           "2021-06-14",
           "y"
          ],
          [
           "2021-06-15",
           "y"
          ],
          [
           "2021-06-16",
           "y"
          ],
          [
           "2021-06-17",
           "y"
          ],
          [
           "2021-06-18",
           "y"
          ],
          [
           "2021-06-19",
           "y"
          ],
          [
           "2021-06-20",
           "y"
          ],
          [
           "2021-06-21",
           "y"
          ],
          [
           "2021-06-22",
           "y"
          ],
          [
           "2021-06-23",
           "y"
          ],
          [
           "2021-06-24",
           "y"
          ],
          [
           "2021-06-25",
           "y"
          ],
          [
           "2021-06-26",
           "y"
          ],
          [
           "2021-06-27",
           "y"
          ],
          [
           "2021-06-28",
           "y"
          ],
          [
           "2021-06-29",
           "y"
          ],
          [
           "2021-06-30",
           "y"
          ],
          [
           "2021-07-01",
           "y"
          ],
          [
           "2021-07-02",
           "y"
          ],
          [
           "2021-07-03",
           "y"
          ],
          [
           "2021-07-04",
           "y"
          ],
          [
           "2021-07-05",
           "y"
          ],
          [
           "2021-07-06",
           "y"
          ],
          [
           "2021-07-07",
           "y"
          ],
          [
           "2021-07-08",
           "y"
          ],
          [
           "2021-07-09",
           "y"
          ],
          [
           "2021-07-10",
           "y"
          ],
          [
           "2021-07-11",
           "y"
          ],
          [
           "2021-07-12",
           "y"
          ],
          [
           "2021-07-13",
           "y"
          ],
          [
           "2021-07-14",
           "y"
          ],
          [
           "2021-07-15",
           "y"
          ],
          [
           "2021-07-16",
           "y"
          ],
          [
           "2021-07-17",
           "y"
          ],
          [
           "2021-07-18",
           "y"
          ],
          [
           "2021-07-19",
           "y"
          ],
          [
           "2021-07-20",
           "y"
          ],
          [
           "2021-07-21",
           "y"
          ],
          [
           "2021-07-22",
           "y"
          ],
          [
           "2021-07-23",
           "y"
          ],
          [
           "2021-07-24",
           "y"
          ],
          [
           "2021-07-25",
           "y"
          ],
          [
           "2021-07-26",
           "y"
          ],
          [
           "2021-07-27",
           "y"
          ],
          [
           "2021-07-28",
           "y"
          ],
          [
           "2021-07-29",
           "y"
          ],
          [
           "2021-07-30",
           "y"
          ],
          [
           "2021-07-31",
           "y"
          ],
          [
           "2021-08-01",
           "y"
          ],
          [
           "2021-08-02",
           "y"
          ],
          [
           "2021-08-03",
           "y"
          ],
          [
           "2021-08-04",
           "y"
          ],
          [
           "2021-08-05",
           "y"
          ],
          [
           "2021-08-06",
           "y"
          ],
          [
           "2021-08-07",
           "y"
          ],
          [
           "2021-08-08",
           "y"
          ],
          [
           "2021-08-09",
           "y"
          ],
          [
           "2021-08-10",
           "y"
          ],
          [
           "2021-08-11",
           "y"
          ],
          [
           "2021-08-12",
           "y"
          ],
          [
           "2021-08-13",
           "y"
          ],
          [
           "2021-08-14",
           "y"
          ],
          [
           "2021-08-15",
           "y"
          ],
          [
           "2021-08-16",
           "y"
          ],
          [
           "2021-08-17",
           "y"
          ],
          [
           "2021-08-18",
           "y"
          ],
          [
           "2021-08-19",
           "y"
          ],
          [
           "2021-08-20",
           "y"
          ],
          [
           "2021-08-21",
           "y"
          ],
          [
           "2021-08-22",
           "y"
          ],
          [
           "2021-08-23",
           "y"
          ],
          [
           "2021-08-24",
           "y"
          ],
          [
           "2021-08-25",
           "y"
          ],
          [
           "2021-08-26",
           "y"
          ],
          [
           "2021-08-27",
           "y"
          ],
          [
           "2021-08-28",
           "y"
          ],
          [
           "2021-08-29",
           "y"
          ],
          [
           "2021-08-30",
           "y"
          ],
          [
           "2021-08-31",
           "y"
          ],
          [
           "2021-09-01",
           "y"
          ],
          [
           "2021-09-02",
           "y"
          ],
          [
           "2021-09-03",
           "y"
          ],
          [
           "2021-09-04",
           "y"
          ],
          [
           "2021-09-05",
           "y"
          ],
          [
           "2021-09-06",
           "y"
          ],
          [
           "2021-09-07",
           "y"
          ],
          [
           "2021-09-08",
           "y"
          ],
          [
           "2021-09-09",
           "y"
          ],
          [
           "2021-09-10",
           "y"
          ],
          [
           "2021-09-11",
           "y"
          ],
          [
           "2021-09-12",
           "y"
          ],
          [
           "2021-09-13",
           "y"
          ],
          [
           "2021-09-14",
           "y"
          ],
          [
           "2021-09-15",
           "y"
          ],
          [
           "2021-09-16",
           "y"
          ],
          [
           "2021-09-17",
           "y"
          ],
          [
           "2021-09-18",
           "y"
          ],
          [
           "2021-09-19",
           "y"
          ],
          [
           "2021-09-20",
           "y"
          ],
          [
           "2021-09-21",
           "y"
          ],
          [
           "2021-09-22",
           "y"
          ],
          [
           "2021-09-23",
           "y"
          ],
          [
           "2021-09-24",
           "y"
          ],
          [
           "2021-09-25",
           "y"
          ],
          [
           "2021-09-26",
           "y"
          ],
          [
           "2021-09-27",
           "y"
          ],
          [
           "2021-09-28",
           "y"
          ],
          [
           "2021-09-29",
           "y"
          ],
          [
           "2021-09-30",
           "y"
          ],
          [
           "2021-10-01",
           "y"
          ],
          [
           "2021-10-02",
           "y"
          ],
          [
           "2021-10-03",
           "y"
          ],
          [
           "2021-10-04",
           "y"
          ],
          [
           "2021-10-05",
           "y"
          ],
          [
           "2021-10-06",
           "y"
          ],
          [
           "2021-10-07",
           "y"
          ],
          [
           "2021-10-08",
           "y"
          ],
          [
           "2021-10-09",
           "y"
          ],
          [
           "2021-10-10",
           "y"
          ],
          [
           "2021-10-11",
           "y"
          ],
          [
           "2021-10-12",
           "y"
          ],
          [
           "2021-10-13",
           "y"
          ],
          [
           "2021-10-14",
           "y"
          ],
          [
           "2021-10-15",
           "y"
          ],
          [
           "2021-10-16",
           "y"
          ],
          [
           "2021-10-17",
           "y"
          ],
          [
           "2021-10-18",
           "y"
          ],
          [
           "2021-10-19",
           "y"
          ],
          [
           "2021-10-20",
           "y"
          ],
          [
           "2021-10-21",
           "y"
          ],
          [
           "2021-10-22",
           "y"
          ],
          [
           "2021-10-23",
           "y"
          ],
          [
           "2021-10-24",
           "y"
          ],
          [
           "2021-10-25",
           "y"
          ],
          [
           "2021-10-26",
           "y"
          ],
          [
           "2021-10-27",
           "y"
          ],
          [
           "2021-10-28",
           "y"
          ],
          [
           "2021-10-29",
           "y"
          ],
          [
           "2021-10-30",
           "y"
          ],
          [
           "2021-10-31",
           "y"
          ],
          [
           "2021-11-01",
           "y"
          ],
          [
           "2021-11-02",
           "y"
          ],
          [
           "2021-11-03",
           "y"
          ],
          [
           "2021-11-04",
           "y"
          ],
          [
           "2021-11-05",
           "y"
          ],
          [
           "2021-11-06",
           "y"
          ],
          [
           "2021-11-07",
           "y"
          ],
          [
           "2021-11-08",
           "y"
          ],
          [
           "2021-11-09",
           "y"
          ],
          [
           "2021-11-10",
           "y"
          ],
          [
           "2021-11-11",
           "y"
          ],
          [
           "2021-11-12",
           "y"
          ],
          [
           "2021-11-13",
           "y"
          ],
          [
           "2021-11-14",
           "y"
          ],
          [
           "2021-11-15",
           "y"
          ],
          [
           "2021-11-16",
           "y"
          ],
          [
           "2021-11-17",
           "y"
          ],
          [
           "2021-11-18",
           "y"
          ],
          [
           "2021-11-19",
           "y"
          ],
          [
           "2021-11-20",
           "y"
          ],
          [
           "2021-11-21",
           "y"
          ],
          [
           "2021-11-22",
           "y"
          ],
          [
           "2021-11-23",
           "y"
          ],
          [
           "2021-11-24",
           "y"
          ],
          [
           "2021-11-25",
           "y"
          ],
          [
           "2021-11-26",
           "y"
          ],
          [
           "2021-11-27",
           "y"
          ],
          [
           "2021-11-28",
           "y"
          ],
          [
           "2021-11-29",
           "y"
          ],
          [
           "2021-11-30",
           "y"
          ],
          [
           "2021-12-01",
           "y"
          ],
          [
           "2021-12-02",
           "y"
          ],
          [
           "2021-12-03",
           "y"
          ],
          [
           "2021-12-04",
           "y"
          ],
          [
           "2021-12-05",
           "y"
          ],
          [
           "2021-12-06",
           "y"
          ],
          [
           "2021-12-07",
           "y"
          ],
          [
           "2021-12-08",
           "y"
          ],
          [
           "2021-12-09",
           "y"
          ],
          [
           "2021-12-10",
           "y"
          ],
          [
           "2021-12-11",
           "y"
          ],
          [
           "2021-12-12",
           "y"
          ],
          [
           "2021-12-13",
           "y"
          ],
          [
           "2021-12-14",
           "y"
          ],
          [
           "2021-12-15",
           "y"
          ],
          [
           "2021-12-16",
           "y"
          ],
          [
           "2021-12-17",
           "y"
          ],
          [
           "2021-12-18",
           "y"
          ],
          [
           "2021-12-19",
           "y"
          ],
          [
           "2021-12-20",
           "y"
          ],
          [
           "2021-12-21",
           "y"
          ],
          [
           "2021-12-22",
           "y"
          ],
          [
           "2021-12-23",
           "y"
          ],
          [
           "2021-12-24",
           "y"
          ],
          [
           "2021-12-25",
           "y"
          ],
          [
           "2021-12-26",
           "y"
          ],
          [
           "2021-12-27",
           "y"
          ],
          [
           "2021-12-28",
           "y"
          ],
          [
           "2021-12-29",
           "y"
          ],
          [
           "2021-12-30",
           "y"
          ],
          [
           "2021-12-31",
           "y"
          ]
         ],
         "hovertemplate": "%{customdata[0]} <br>Week=%{x} <br>%{customdata[1]}=%{z}",
         "name": "2021",
         "showscale": false,
         "type": "heatmap",
         "x": [
          0,
          0,
          0,
          1,
          1,
          1,
          1,
          1,
          1,
          1,
          2,
          2,
          2,
          2,
          2,
          2,
          2,
          3,
          3,
          3,
          3,
          3,
          3,
          3,
          4,
          4,
          4,
          4,
          4,
          4,
          4,
          5,
          5,
          5,
          5,
          5,
          5,
          5,
          6,
          6,
          6,
          6,
          6,
          6,
          6,
          7,
          7,
          7,
          7,
          7,
          7,
          7,
          8,
          8,
          8,
          8,
          8,
          8,
          8,
          9,
          9,
          9,
          9,
          9,
          9,
          9,
          10,
          10,
          10,
          10,
          10,
          10,
          10,
          11,
          11,
          11,
          11,
          11,
          11,
          11,
          12,
          12,
          12,
          12,
          12,
          12,
          12,
          13,
          13,
          13,
          13,
          13,
          13,
          13,
          14,
          14,
          14,
          14,
          14,
          14,
          14,
          15,
          15,
          15,
          15,
          15,
          15,
          15,
          16,
          16,
          16,
          16,
          16,
          16,
          16,
          17,
          17,
          17,
          17,
          17,
          17,
          17,
          18,
          18,
          18,
          18,
          18,
          18,
          18,
          19,
          19,
          19,
          19,
          19,
          19,
          19,
          20,
          20,
          20,
          20,
          20,
          20,
          20,
          21,
          21,
          21,
          21,
          21,
          21,
          21,
          22,
          22,
          22,
          22,
          22,
          22,
          22,
          23,
          23,
          23,
          23,
          23,
          23,
          23,
          24,
          24,
          24,
          24,
          24,
          24,
          24,
          25,
          25,
          25,
          25,
          25,
          25,
          25,
          26,
          26,
          26,
          26,
          26,
          26,
          26,
          27,
          27,
          27,
          27,
          27,
          27,
          27,
          28,
          28,
          28,
          28,
          28,
          28,
          28,
          29,
          29,
          29,
          29,
          29,
          29,
          29,
          30,
          30,
          30,
          30,
          30,
          30,
          30,
          31,
          31,
          31,
          31,
          31,
          31,
          31,
          32,
          32,
          32,
          32,
          32,
          32,
          32,
          33,
          33,
          33,
          33,
          33,
          33,
          33,
          34,
          34,
          34,
          34,
          34,
          34,
          34,
          35,
          35,
          35,
          35,
          35,
          35,
          35,
          36,
          36,
          36,
          36,
          36,
          36,
          36,
          37,
          37,
          37,
          37,
          37,
          37,
          37,
          38,
          38,
          38,
          38,
          38,
          38,
          38,
          39,
          39,
          39,
          39,
          39,
          39,
          39,
          40,
          40,
          40,
          40,
          40,
          40,
          40,
          41,
          41,
          41,
          41,
          41,
          41,
          41,
          42,
          42,
          42,
          42,
          42,
          42,
          42,
          43,
          43,
          43,
          43,
          43,
          43,
          43,
          44,
          44,
          44,
          44,
          44,
          44,
          44,
          45,
          45,
          45,
          45,
          45,
          45,
          45,
          46,
          46,
          46,
          46,
          46,
          46,
          46,
          47,
          47,
          47,
          47,
          47,
          47,
          47,
          48,
          48,
          48,
          48,
          48,
          48,
          48,
          49,
          49,
          49,
          49,
          49,
          49,
          49,
          50,
          50,
          50,
          50,
          50,
          50,
          50,
          51,
          51,
          51,
          51,
          51,
          51,
          51,
          52,
          52,
          52,
          52,
          52
         ],
         "xaxis": "x",
         "xgap": 1,
         "y": [
          4,
          5,
          6,
          0,
          1,
          2,
          3,
          4,
          5,
          6,
          0,
          1,
          2,
          3,
          4,
          5,
          6,
          0,
          1,
          2,
          3,
          4,
          5,
          6,
          0,
          1,
          2,
          3,
          4,
          5,
          6,
          0,
          1,
          2,
          3,
          4,
          5,
          6,
          0,
          1,
          2,
          3,
          4,
          5,
          6,
          0,
          1,
          2,
          3,
          4,
          5,
          6,
          0,
          1,
          2,
          3,
          4,
          5,
          6,
          0,
          1,
          2,
          3,
          4,
          5,
          6,
          0,
          1,
          2,
          3,
          4,
          5,
          6,
          0,
          1,
          2,
          3,
          4,
          5,
          6,
          0,
          1,
          2,
          3,
          4,
          5,
          6,
          0,
          1,
          2,
          3,
          4,
          5,
          6,
          0,
          1,
          2,
          3,
          4,
          5,
          6,
          0,
          1,
          2,
          3,
          4,
          5,
          6,
          0,
          1,
          2,
          3,
          4,
          5,
          6,
          0,
          1,
          2,
          3,
          4,
          5,
          6,
          0,
          1,
          2,
          3,
          4,
          5,
          6,
          0,
          1,
          2,
          3,
          4,
          5,
          6,
          0,
          1,
          2,
          3,
          4,
          5,
          6,
          0,
          1,
          2,
          3,
          4,
          5,
          6,
          0,
          1,
          2,
          3,
          4,
          5,
          6,
          0,
          1,
          2,
          3,
          4,
          5,
          6,
          0,
          1,
          2,
          3,
          4,
          5,
          6,
          0,
          1,
          2,
          3,
          4,
          5,
          6,
          0,
          1,
          2,
          3,
          4,
          5,
          6,
          0,
          1,
          2,
          3,
          4,
          5,
          6,
          0,
          1,
          2,
          3,
          4,
          5,
          6,
          0,
          1,
          2,
          3,
          4,
          5,
          6,
          0,
          1,
          2,
          3,
          4,
          5,
          6,
          0,
          1,
          2,
          3,
          4,
          5,
          6,
          0,
          1,
          2,
          3,
          4,
          5,
          6,
          0,
          1,
          2,
          3,
          4,
          5,
          6,
          0,
          1,
          2,
          3,
          4,
          5,
          6,
          0,
          1,
          2,
          3,
          4,
          5,
          6,
          0,
          1,
          2,
          3,
          4,
          5,
          6,
          0,
          1,
          2,
          3,
          4,
          5,
          6,
          0,
          1,
          2,
          3,
          4,
          5,
          6,
          0,
          1,
          2,
          3,
          4,
          5,
          6,
          0,
          1,
          2,
          3,
          4,
          5,
          6,
          0,
          1,
          2,
          3,
          4,
          5,
          6,
          0,
          1,
          2,
          3,
          4,
          5,
          6,
          0,
          1,
          2,
          3,
          4,
          5,
          6,
          0,
          1,
          2,
          3,
          4,
          5,
          6,
          0,
          1,
          2,
          3,
          4,
          5,
          6,
          0,
          1,
          2,
          3,
          4,
          5,
          6,
          0,
          1,
          2,
          3,
          4,
          5,
          6,
          0,
          1,
          2,
          3,
          4,
          5,
          6,
          0,
          1,
          2,
          3,
          4,
          5,
          6,
          0,
          1,
          2,
          3,
          4,
          5,
          6,
          0,
          1,
          2,
          3,
          4,
          5,
          6,
          0,
          1,
          2,
          3,
          4
         ],
         "yaxis": "y",
         "ygap": 1,
         "z": [
          null,
          null,
          null,
          null,
          null,
          null,
          null,
          null,
          null,
          null,
          115,
          115,
          115,
          115,
          115,
          115,
          115,
          115,
          115,
          115,
          115,
          115,
          115,
          115,
          115,
          115,
          115,
          115,
          115,
          null,
          null,
          112,
          112,
          112,
          112,
          112,
          112,
          112,
          112,
          112,
          112,
          112,
          112,
          112,
          112,
          112,
          112,
          112,
          112,
          112,
          null,
          null,
          36,
          36,
          36,
          36,
          36,
          null,
          null,
          76,
          76,
          76,
          76,
          76,
          76,
          76,
          76,
          76,
          76,
          76,
          76,
          null,
          null,
          100,
          100,
          100,
          100,
          100,
          100,
          100,
          100,
          100,
          100,
          100,
          100,
          100,
          100,
          100,
          100,
          100,
          14,
          14,
          null,
          null,
          null,
          113,
          113,
          113,
          113,
          113,
          113,
          113,
          113,
          113,
          113,
          113,
          113,
          113,
          113,
          113,
          113,
          113,
          113,
          null,
          null,
          35,
          35,
          35,
          35,
          35,
          null,
          null,
          null,
          null,
          null,
          null,
          null,
          null,
          null,
          null,
          null,
          null,
          null,
          null,
          null,
          null,
          null,
          null,
          null,
          null,
          null,
          null,
          null,
          null,
          7,
          28,
          28,
          28,
          28,
          28,
          28,
          137.5,
          137.5,
          137.5,
          137.5,
          137.5,
          137.5,
          137.5,
          137.5,
          137.5,
          137.5,
          137.5,
          137.5,
          137.5,
          137.5,
          137.5,
          137.5,
          137.5,
          137.5,
          137.5,
          137.5,
          137.5,
          137.5,
          137.5,
          137.5,
          137.5,
          null,
          null,
          null,
          null,
          null,
          null,
          null,
          null,
          null,
          null,
          null,
          null,
          null,
          null,
          null,
          null,
          null,
          null,
          null,
          null,
          null,
          null,
          null,
          null,
          null,
          null,
          null,
          null,
          null,
          null,
          null,
          null,
          null,
          15,
          15,
          null,
          36,
          36,
          36,
          36,
          36,
          36,
          null,
          null,
          63,
          63,
          63,
          63,
          63,
          63,
          63,
          63,
          63,
          63,
          63,
          null,
          null,
          null,
          null,
          null,
          null,
          null,
          null,
          null,
          null,
          null,
          null,
          null,
          null,
          null,
          null,
          null,
          115,
          115,
          115,
          115,
          115,
          115,
          115,
          115,
          115,
          115,
          115,
          115,
          115,
          115,
          115,
          115,
          115,
          115,
          115,
          null,
          null,
          32,
          32,
          32,
          32,
          80,
          80,
          80,
          80,
          80,
          80,
          80,
          80,
          80,
          80,
          80,
          80,
          80,
          80,
          80,
          null,
          null,
          78,
          78,
          78,
          78,
          78,
          78,
          78,
          78,
          78,
          78,
          78,
          78,
          null,
          null,
          37,
          37,
          37,
          37,
          37,
          null,
          null,
          102,
          102,
          102,
          102,
          102,
          102,
          102,
          102,
          102,
          102,
          102,
          102,
          102,
          102,
          102,
          102,
          102,
          102,
          102,
          null,
          null,
          16,
          16,
          98,
          98,
          98,
          98,
          98,
          98,
          98,
          98,
          98,
          98,
          98,
          98,
          98,
          98,
          98,
          98,
          98,
          null,
          null,
          null,
          null,
          null,
          null,
          null,
          null,
          null,
          null,
          null,
          null,
          null,
          null
         ],
         "zmax": 152,
         "zmin": 6.5
        },
        {
         "hoverinfo": "skip",
         "line": {
          "color": "#9e9e9e",
          "width": 1
         },
         "mode": "lines",
         "type": "scatter",
         "x": [
          -0.5,
          -0.5
         ],
         "xaxis": "x",
         "y": [
          3.5,
          6.5
         ],
         "yaxis": "y"
        },
        {
         "hoverinfo": "skip",
         "line": {
          "color": "#9e9e9e",
          "width": 1
         },
         "mode": "lines",
         "type": "scatter",
         "x": [
          -0.5,
          0.5
         ],
         "xaxis": "x",
         "y": [
          3.5,
          3.5
         ],
         "yaxis": "y"
        },
        {
         "hoverinfo": "skip",
         "line": {
          "color": "#9e9e9e",
          "width": 1
         },
         "mode": "lines",
         "type": "scatter",
         "x": [
          0.5,
          0.5
         ],
         "xaxis": "x",
         "y": [
          3.5,
          -0.5
         ],
         "yaxis": "y"
        },
        {
         "hoverinfo": "skip",
         "line": {
          "color": "#9e9e9e",
          "width": 1
         },
         "mode": "lines",
         "type": "scatter",
         "x": [
          4.5,
          4.5
         ],
         "xaxis": "x",
         "y": [
          -0.5,
          6.5
         ],
         "yaxis": "y"
        },
        {
         "hoverinfo": "skip",
         "line": {
          "color": "#9e9e9e",
          "width": 1
         },
         "mode": "lines",
         "type": "scatter",
         "x": [
          8.5,
          8.5
         ],
         "xaxis": "x",
         "y": [
          -0.5,
          6.5
         ],
         "yaxis": "y"
        },
        {
         "hoverinfo": "skip",
         "line": {
          "color": "#9e9e9e",
          "width": 1
         },
         "mode": "lines",
         "type": "scatter",
         "x": [
          12.5,
          12.5
         ],
         "xaxis": "x",
         "y": [
          2.5,
          6.5
         ],
         "yaxis": "y"
        },
        {
         "hoverinfo": "skip",
         "line": {
          "color": "#9e9e9e",
          "width": 1
         },
         "mode": "lines",
         "type": "scatter",
         "x": [
          12.5,
          13.5
         ],
         "xaxis": "x",
         "y": [
          2.5,
          2.5
         ],
         "yaxis": "y"
        },
        {
         "hoverinfo": "skip",
         "line": {
          "color": "#9e9e9e",
          "width": 1
         },
         "mode": "lines",
         "type": "scatter",
         "x": [
          13.5,
          13.5
         ],
         "xaxis": "x",
         "y": [
          2.5,
          -0.5
         ],
         "yaxis": "y"
        },
        {
         "hoverinfo": "skip",
         "line": {
          "color": "#9e9e9e",
          "width": 1
         },
         "mode": "lines",
         "type": "scatter",
         "x": [
          16.5,
          16.5
         ],
         "xaxis": "x",
         "y": [
          4.5,
          6.5
         ],
         "yaxis": "y"
        },
        {
         "hoverinfo": "skip",
         "line": {
          "color": "#9e9e9e",
          "width": 1
         },
         "mode": "lines",
         "type": "scatter",
         "x": [
          16.5,
          17.5
         ],
         "xaxis": "x",
         "y": [
          4.5,
          4.5
         ],
         "yaxis": "y"
        },
        {
         "hoverinfo": "skip",
         "line": {
          "color": "#9e9e9e",
          "width": 1
         },
         "mode": "lines",
         "type": "scatter",
         "x": [
          17.5,
          17.5
         ],
         "xaxis": "x",
         "y": [
          4.5,
          -0.5
         ],
         "yaxis": "y"
        },
        {
         "hoverinfo": "skip",
         "line": {
          "color": "#9e9e9e",
          "width": 1
         },
         "mode": "lines",
         "type": "scatter",
         "x": [
          21.5,
          21.5
         ],
         "xaxis": "x",
         "y": [
          0.5,
          6.5
         ],
         "yaxis": "y"
        },
        {
         "hoverinfo": "skip",
         "line": {
          "color": "#9e9e9e",
          "width": 1
         },
         "mode": "lines",
         "type": "scatter",
         "x": [
          21.5,
          22.5
         ],
         "xaxis": "x",
         "y": [
          0.5,
          0.5
         ],
         "yaxis": "y"
        },
        {
         "hoverinfo": "skip",
         "line": {
          "color": "#9e9e9e",
          "width": 1
         },
         "mode": "lines",
         "type": "scatter",
         "x": [
          22.5,
          22.5
         ],
         "xaxis": "x",
         "y": [
          0.5,
          -0.5
         ],
         "yaxis": "y"
        },
        {
         "hoverinfo": "skip",
         "line": {
          "color": "#9e9e9e",
          "width": 1
         },
         "mode": "lines",
         "type": "scatter",
         "x": [
          25.5,
          25.5
         ],
         "xaxis": "x",
         "y": [
          2.5,
          6.5
         ],
         "yaxis": "y"
        },
        {
         "hoverinfo": "skip",
         "line": {
          "color": "#9e9e9e",
          "width": 1
         },
         "mode": "lines",
         "type": "scatter",
         "x": [
          25.5,
          26.5
         ],
         "xaxis": "x",
         "y": [
          2.5,
          2.5
         ],
         "yaxis": "y"
        },
        {
         "hoverinfo": "skip",
         "line": {
          "color": "#9e9e9e",
          "width": 1
         },
         "mode": "lines",
         "type": "scatter",
         "x": [
          26.5,
          26.5
         ],
         "xaxis": "x",
         "y": [
          2.5,
          -0.5
         ],
         "yaxis": "y"
        },
        {
         "hoverinfo": "skip",
         "line": {
          "color": "#9e9e9e",
          "width": 1
         },
         "mode": "lines",
         "type": "scatter",
         "x": [
          29.5,
          29.5
         ],
         "xaxis": "x",
         "y": [
          5.5,
          6.5
         ],
         "yaxis": "y"
        },
        {
         "hoverinfo": "skip",
         "line": {
          "color": "#9e9e9e",
          "width": 1
         },
         "mode": "lines",
         "type": "scatter",
         "x": [
          29.5,
          30.5
         ],
         "xaxis": "x",
         "y": [
          5.5,
          5.5
         ],
         "yaxis": "y"
        },
        {
         "hoverinfo": "skip",
         "line": {
          "color": "#9e9e9e",
          "width": 1
         },
         "mode": "lines",
         "type": "scatter",
         "x": [
          30.5,
          30.5
         ],
         "xaxis": "x",
         "y": [
          5.5,
          -0.5
         ],
         "yaxis": "y"
        },
        {
         "hoverinfo": "skip",
         "line": {
          "color": "#9e9e9e",
          "width": 1
         },
         "mode": "lines",
         "type": "scatter",
         "x": [
          34.5,
          34.5
         ],
         "xaxis": "x",
         "y": [
          1.5,
          6.5
         ],
         "yaxis": "y"
        },
        {
         "hoverinfo": "skip",
         "line": {
          "color": "#9e9e9e",
          "width": 1
         },
         "mode": "lines",
         "type": "scatter",
         "x": [
          34.5,
          35.5
         ],
         "xaxis": "x",
         "y": [
          1.5,
          1.5
         ],
         "yaxis": "y"
        },
        {
         "hoverinfo": "skip",
         "line": {
          "color": "#9e9e9e",
          "width": 1
         },
         "mode": "lines",
         "type": "scatter",
         "x": [
          35.5,
          35.5
         ],
         "xaxis": "x",
         "y": [
          1.5,
          -0.5
         ],
         "yaxis": "y"
        },
        {
         "hoverinfo": "skip",
         "line": {
          "color": "#9e9e9e",
          "width": 1
         },
         "mode": "lines",
         "type": "scatter",
         "x": [
          38.5,
          38.5
         ],
         "xaxis": "x",
         "y": [
          3.5,
          6.5
         ],
         "yaxis": "y"
        },
        {
         "hoverinfo": "skip",
         "line": {
          "color": "#9e9e9e",
          "width": 1
         },
         "mode": "lines",
         "type": "scatter",
         "x": [
          38.5,
          39.5
         ],
         "xaxis": "x",
         "y": [
          3.5,
          3.5
         ],
         "yaxis": "y"
        },
        {
         "hoverinfo": "skip",
         "line": {
          "color": "#9e9e9e",
          "width": 1
         },
         "mode": "lines",
         "type": "scatter",
         "x": [
          39.5,
          39.5
         ],
         "xaxis": "x",
         "y": [
          3.5,
          -0.5
         ],
         "yaxis": "y"
        },
        {
         "hoverinfo": "skip",
         "line": {
          "color": "#9e9e9e",
          "width": 1
         },
         "mode": "lines",
         "type": "scatter",
         "x": [
          43.5,
          43.5
         ],
         "xaxis": "x",
         "y": [
          -0.5,
          6.5
         ],
         "yaxis": "y"
        },
        {
         "hoverinfo": "skip",
         "line": {
          "color": "#9e9e9e",
          "width": 1
         },
         "mode": "lines",
         "type": "scatter",
         "x": [
          47.5,
          47.5
         ],
         "xaxis": "x",
         "y": [
          1.5,
          6.5
         ],
         "yaxis": "y"
        },
        {
         "hoverinfo": "skip",
         "line": {
          "color": "#9e9e9e",
          "width": 1
         },
         "mode": "lines",
         "type": "scatter",
         "x": [
          47.5,
          48.5
         ],
         "xaxis": "x",
         "y": [
          1.5,
          1.5
         ],
         "yaxis": "y"
        },
        {
         "hoverinfo": "skip",
         "line": {
          "color": "#9e9e9e",
          "width": 1
         },
         "mode": "lines",
         "type": "scatter",
         "x": [
          48.5,
          48.5
         ],
         "xaxis": "x",
         "y": [
          1.5,
          -0.5
         ],
         "yaxis": "y"
        },
        {
         "colorscale": [
          [
           0,
           "rgb(247,252,245)"
          ],
          [
           0.125,
           "rgb(229,245,224)"
          ],
          [
           0.25,
           "rgb(199,233,192)"
          ],
          [
           0.375,
           "rgb(161,217,155)"
          ],
          [
           0.5,
           "rgb(116,196,118)"
          ],
          [
           0.625,
           "rgb(65,171,93)"
          ],
          [
           0.75,
           "rgb(35,139,69)"
          ],
          [
           0.875,
           "rgb(0,109,44)"
          ],
          [
           1,
           "rgb(0,68,27)"
          ]
         ],
         "customdata": [
          [
           "2022-01-01",
           "y"
          ],
          [
           "2022-01-02",
           "y"
          ],
          [
           "2022-01-03",
           "y"
          ],
          [
           "2022-01-04",
           "y"
          ],
          [
           "2022-01-05",
           "y"
          ],
          [
           "2022-01-06",
           "y"
          ],
          [
           "2022-01-07",
           "y"
          ],
          [
           "2022-01-08",
           "y"
          ],
          [
           "2022-01-09",
           "y"
          ],
          [
           "2022-01-10",
           "y"
          ],
          [
           "2022-01-11",
           "y"
          ],
          [
           "2022-01-12",
           "y"
          ],
          [
           "2022-01-13",
           "y"
          ],
          [
           "2022-01-14",
           "y"
          ],
          [
           "2022-01-15",
           "y"
          ],
          [
           "2022-01-16",
           "y"
          ],
          [
           "2022-01-17",
           "y"
          ],
          [
           "2022-01-18",
           "y"
          ],
          [
           "2022-01-19",
           "y"
          ],
          [
           "2022-01-20",
           "y"
          ],
          [
           "2022-01-21",
           "y"
          ],
          [
           "2022-01-22",
           "y"
          ],
          [
           "2022-01-23",
           "y"
          ],
          [
           "2022-01-24",
           "y"
          ],
          [
           "2022-01-25",
           "y"
          ],
          [
           "2022-01-26",
           "y"
          ],
          [
           "2022-01-27",
           "y"
          ],
          [
           "2022-01-28",
           "y"
          ],
          [
           "2022-01-29",
           "y"
          ],
          [
           "2022-01-30",
           "y"
          ],
          [
           "2022-01-31",
           "y"
          ],
          [
           "2022-02-01",
           "y"
          ],
          [
           "2022-02-02",
           "y"
          ],
          [
           "2022-02-03",
           "y"
          ],
          [
           "2022-02-04",
           "y"
          ],
          [
           "2022-02-05",
           "y"
          ],
          [
           "2022-02-06",
           "y"
          ],
          [
           "2022-02-07",
           "y"
          ],
          [
           "2022-02-08",
           "y"
          ],
          [
           "2022-02-09",
           "y"
          ],
          [
           "2022-02-10",
           "y"
          ],
          [
           "2022-02-11",
           "y"
          ],
          [
           "2022-02-12",
           "y"
          ],
          [
           "2022-02-13",
           "y"
          ],
          [
           "2022-02-14",
           "y"
          ],
          [
           "2022-02-15",
           "y"
          ],
          [
           "2022-02-16",
           "y"
          ],
          [
           "2022-02-17",
           "y"
          ],
          [
           "2022-02-18",
           "y"
          ],
          [
           "2022-02-19",
           "y"
          ],
          [
           "2022-02-20",
           "y"
          ],
          [
           "2022-02-21",
           "y"
          ],
          [
           "2022-02-22",
           "y"
          ],
          [
           "2022-02-23",
           "y"
          ],
          [
           "2022-02-24",
           "y"
          ],
          [
           "2022-02-25",
           "y"
          ],
          [
           "2022-02-26",
           "y"
          ],
          [
           "2022-02-27",
           "y"
          ],
          [
           "2022-02-28",
           "y"
          ],
          [
           "2022-03-01",
           "y"
          ],
          [
           "2022-03-02",
           "y"
          ],
          [
           "2022-03-03",
           "y"
          ],
          [
           "2022-03-04",
           "y"
          ],
          [
           "2022-03-05",
           "y"
          ],
          [
           "2022-03-06",
           "y"
          ],
          [
           "2022-03-07",
           "y"
          ],
          [
           "2022-03-08",
           "y"
          ],
          [
           "2022-03-09",
           "y"
          ],
          [
           "2022-03-10",
           "y"
          ],
          [
           "2022-03-11",
           "y"
          ],
          [
           "2022-03-12",
           "y"
          ],
          [
           "2022-03-13",
           "y"
          ],
          [
           "2022-03-14",
           "y"
          ],
          [
           "2022-03-15",
           "y"
          ],
          [
           "2022-03-16",
           "y"
          ],
          [
           "2022-03-17",
           "y"
          ],
          [
           "2022-03-18",
           "y"
          ],
          [
           "2022-03-19",
           "y"
          ],
          [
           "2022-03-20",
           "y"
          ],
          [
           "2022-03-21",
           "y"
          ],
          [
           "2022-03-22",
           "y"
          ],
          [
           "2022-03-23",
           "y"
          ],
          [
           "2022-03-24",
           "y"
          ],
          [
           "2022-03-25",
           "y"
          ],
          [
           "2022-03-26",
           "y"
          ],
          [
           "2022-03-27",
           "y"
          ],
          [
           "2022-03-28",
           "y"
          ],
          [
           "2022-03-29",
           "y"
          ],
          [
           "2022-03-30",
           "y"
          ],
          [
           "2022-03-31",
           "y"
          ],
          [
           "2022-04-01",
           "y"
          ],
          [
           "2022-04-02",
           "y"
          ],
          [
           "2022-04-03",
           "y"
          ],
          [
           "2022-04-04",
           "y"
          ],
          [
           "2022-04-05",
           "y"
          ],
          [
           "2022-04-06",
           "y"
          ],
          [
           "2022-04-07",
           "y"
          ],
          [
           "2022-04-08",
           "y"
          ],
          [
           "2022-04-09",
           "y"
          ],
          [
           "2022-04-10",
           "y"
          ],
          [
           "2022-04-11",
           "y"
          ],
          [
           "2022-04-12",
           "y"
          ],
          [
           "2022-04-13",
           "y"
          ],
          [
           "2022-04-14",
           "y"
          ],
          [
           "2022-04-15",
           "y"
          ],
          [
           "2022-04-16",
           "y"
          ],
          [
           "2022-04-17",
           "y"
          ],
          [
           "2022-04-18",
           "y"
          ],
          [
           "2022-04-19",
           "y"
          ],
          [
           "2022-04-20",
           "y"
          ],
          [
           "2022-04-21",
           "y"
          ],
          [
           "2022-04-22",
           "y"
          ],
          [
           "2022-04-23",
           "y"
          ],
          [
           "2022-04-24",
           "y"
          ],
          [
           "2022-04-25",
           "y"
          ],
          [
           "2022-04-26",
           "y"
          ],
          [
           "2022-04-27",
           "y"
          ],
          [
           "2022-04-28",
           "y"
          ],
          [
           "2022-04-29",
           "y"
          ],
          [
           "2022-04-30",
           "y"
          ],
          [
           "2022-05-01",
           "y"
          ],
          [
           "2022-05-02",
           "y"
          ],
          [
           "2022-05-03",
           "y"
          ],
          [
           "2022-05-04",
           "y"
          ],
          [
           "2022-05-05",
           "y"
          ],
          [
           "2022-05-06",
           "y"
          ],
          [
           "2022-05-07",
           "y"
          ],
          [
           "2022-05-08",
           "y"
          ],
          [
           "2022-05-09",
           "y"
          ],
          [
           "2022-05-10",
           "y"
          ],
          [
           "2022-05-11",
           "y"
          ],
          [
           "2022-05-12",
           "y"
          ],
          [
           "2022-05-13",
           "y"
          ],
          [
           "2022-05-14",
           "y"
          ],
          [
           "2022-05-15",
           "y"
          ],
          [
           "2022-05-16",
           "y"
          ],
          [
           "2022-05-17",
           "y"
          ],
          [
           "2022-05-18",
           "y"
          ],
          [
           "2022-05-19",
           "y"
          ],
          [
           "2022-05-20",
           "y"
          ],
          [
           "2022-05-21",
           "y"
          ],
          [
           "2022-05-22",
           "y"
          ],
          [
           "2022-05-23",
           "y"
          ],
          [
           "2022-05-24",
           "y"
          ],
          [
           "2022-05-25",
           "y"
          ],
          [
           "2022-05-26",
           "y"
          ],
          [
           "2022-05-27",
           "y"
          ],
          [
           "2022-05-28",
           "y"
          ],
          [
           "2022-05-29",
           "y"
          ],
          [
           "2022-05-30",
           "y"
          ],
          [
           "2022-05-31",
           "y"
          ],
          [
           "2022-06-01",
           "y"
          ],
          [
           "2022-06-02",
           "y"
          ],
          [
           "2022-06-03",
           "y"
          ],
          [
           "2022-06-04",
           "y"
          ],
          [
           "2022-06-05",
           "y"
          ],
          [
           "2022-06-06",
           "y"
          ],
          [
           "2022-06-07",
           "y"
          ],
          [
           "2022-06-08",
           "y"
          ],
          [
           "2022-06-09",
           "y"
          ],
          [
           "2022-06-10",
           "y"
          ],
          [
           "2022-06-11",
           "y"
          ],
          [
           "2022-06-12",
           "y"
          ],
          [
           "2022-06-13",
           "y"
          ],
          [
           "2022-06-14",
           "y"
          ],
          [
           "2022-06-15",
           "y"
          ],
          [
           "2022-06-16",
           "y"
          ],
          [
           "2022-06-17",
           "y"
          ],
          [
           "2022-06-18",
           "y"
          ],
          [
           "2022-06-19",
           "y"
          ],
          [
           "2022-06-20",
           "y"
          ],
          [
           "2022-06-21",
           "y"
          ],
          [
           "2022-06-22",
           "y"
          ],
          [
           "2022-06-23",
           "y"
          ],
          [
           "2022-06-24",
           "y"
          ],
          [
           "2022-06-25",
           "y"
          ],
          [
           "2022-06-26",
           "y"
          ],
          [
           "2022-06-27",
           "y"
          ],
          [
           "2022-06-28",
           "y"
          ],
          [
           "2022-06-29",
           "y"
          ],
          [
           "2022-06-30",
           "y"
          ],
          [
           "2022-07-01",
           "y"
          ],
          [
           "2022-07-02",
           "y"
          ],
          [
           "2022-07-03",
           "y"
          ],
          [
           "2022-07-04",
           "y"
          ],
          [
           "2022-07-05",
           "y"
          ],
          [
           "2022-07-06",
           "y"
          ],
          [
           "2022-07-07",
           "y"
          ],
          [
           "2022-07-08",
           "y"
          ],
          [
           "2022-07-09",
           "y"
          ],
          [
           "2022-07-10",
           "y"
          ],
          [
           "2022-07-11",
           "y"
          ],
          [
           "2022-07-12",
           "y"
          ],
          [
           "2022-07-13",
           "y"
          ],
          [
           "2022-07-14",
           "y"
          ],
          [
           "2022-07-15",
           "y"
          ],
          [
           "2022-07-16",
           "y"
          ],
          [
           "2022-07-17",
           "y"
          ],
          [
           "2022-07-18",
           "y"
          ],
          [
           "2022-07-19",
           "y"
          ],
          [
           "2022-07-20",
           "y"
          ],
          [
           "2022-07-21",
           "y"
          ],
          [
           "2022-07-22",
           "y"
          ],
          [
           "2022-07-23",
           "y"
          ],
          [
           "2022-07-24",
           "y"
          ],
          [
           "2022-07-25",
           "y"
          ],
          [
           "2022-07-26",
           "y"
          ],
          [
           "2022-07-27",
           "y"
          ],
          [
           "2022-07-28",
           "y"
          ],
          [
           "2022-07-29",
           "y"
          ],
          [
           "2022-07-30",
           "y"
          ],
          [
           "2022-07-31",
           "y"
          ],
          [
           "2022-08-01",
           "y"
          ],
          [
           "2022-08-02",
           "y"
          ],
          [
           "2022-08-03",
           "y"
          ],
          [
           "2022-08-04",
           "y"
          ],
          [
           "2022-08-05",
           "y"
          ],
          [
           "2022-08-06",
           "y"
          ],
          [
           "2022-08-07",
           "y"
          ],
          [
           "2022-08-08",
           "y"
          ],
          [
           "2022-08-09",
           "y"
          ],
          [
           "2022-08-10",
           "y"
          ],
          [
           "2022-08-11",
           "y"
          ],
          [
           "2022-08-12",
           "y"
          ],
          [
           "2022-08-13",
           "y"
          ],
          [
           "2022-08-14",
           "y"
          ],
          [
           "2022-08-15",
           "y"
          ],
          [
           "2022-08-16",
           "y"
          ],
          [
           "2022-08-17",
           "y"
          ],
          [
           "2022-08-18",
           "y"
          ],
          [
           "2022-08-19",
           "y"
          ],
          [
           "2022-08-20",
           "y"
          ],
          [
           "2022-08-21",
           "y"
          ],
          [
           "2022-08-22",
           "y"
          ],
          [
           "2022-08-23",
           "y"
          ],
          [
           "2022-08-24",
           "y"
          ],
          [
           "2022-08-25",
           "y"
          ],
          [
           "2022-08-26",
           "y"
          ],
          [
           "2022-08-27",
           "y"
          ],
          [
           "2022-08-28",
           "y"
          ],
          [
           "2022-08-29",
           "y"
          ],
          [
           "2022-08-30",
           "y"
          ],
          [
           "2022-08-31",
           "y"
          ],
          [
           "2022-09-01",
           "y"
          ],
          [
           "2022-09-02",
           "y"
          ],
          [
           "2022-09-03",
           "y"
          ],
          [
           "2022-09-04",
           "y"
          ],
          [
           "2022-09-05",
           "y"
          ],
          [
           "2022-09-06",
           "y"
          ],
          [
           "2022-09-07",
           "y"
          ],
          [
           "2022-09-08",
           "y"
          ],
          [
           "2022-09-09",
           "y"
          ],
          [
           "2022-09-10",
           "y"
          ],
          [
           "2022-09-11",
           "y"
          ],
          [
           "2022-09-12",
           "y"
          ],
          [
           "2022-09-13",
           "y"
          ],
          [
           "2022-09-14",
           "y"
          ],
          [
           "2022-09-15",
           "y"
          ],
          [
           "2022-09-16",
           "y"
          ],
          [
           "2022-09-17",
           "y"
          ],
          [
           "2022-09-18",
           "y"
          ],
          [
           "2022-09-19",
           "y"
          ],
          [
           "2022-09-20",
           "y"
          ],
          [
           "2022-09-21",
           "y"
          ],
          [
           "2022-09-22",
           "y"
          ],
          [
           "2022-09-23",
           "y"
          ],
          [
           "2022-09-24",
           "y"
          ],
          [
           "2022-09-25",
           "y"
          ],
          [
           "2022-09-26",
           "y"
          ],
          [
           "2022-09-27",
           "y"
          ],
          [
           "2022-09-28",
           "y"
          ],
          [
           "2022-09-29",
           "y"
          ],
          [
           "2022-09-30",
           "y"
          ],
          [
           "2022-10-01",
           "y"
          ],
          [
           "2022-10-02",
           "y"
          ],
          [
           "2022-10-03",
           "y"
          ],
          [
           "2022-10-04",
           "y"
          ],
          [
           "2022-10-05",
           "y"
          ],
          [
           "2022-10-06",
           "y"
          ],
          [
           "2022-10-07",
           "y"
          ],
          [
           "2022-10-08",
           "y"
          ],
          [
           "2022-10-09",
           "y"
          ],
          [
           "2022-10-10",
           "y"
          ],
          [
           "2022-10-11",
           "y"
          ],
          [
           "2022-10-12",
           "y"
          ],
          [
           "2022-10-13",
           "y"
          ],
          [
           "2022-10-14",
           "y"
          ],
          [
           "2022-10-15",
           "y"
          ],
          [
           "2022-10-16",
           "y"
          ],
          [
           "2022-10-17",
           "y"
          ],
          [
           "2022-10-18",
           "y"
          ],
          [
           "2022-10-19",
           "y"
          ],
          [
           "2022-10-20",
           "y"
          ],
          [
           "2022-10-21",
           "y"
          ],
          [
           "2022-10-22",
           "y"
          ],
          [
           "2022-10-23",
           "y"
          ],
          [
           "2022-10-24",
           "y"
          ],
          [
           "2022-10-25",
           "y"
          ],
          [
           "2022-10-26",
           "y"
          ],
          [
           "2022-10-27",
           "y"
          ],
          [
           "2022-10-28",
           "y"
          ],
          [
           "2022-10-29",
           "y"
          ],
          [
           "2022-10-30",
           "y"
          ],
          [
           "2022-10-31",
           "y"
          ],
          [
           "2022-11-01",
           "y"
          ],
          [
           "2022-11-02",
           "y"
          ],
          [
           "2022-11-03",
           "y"
          ],
          [
           "2022-11-04",
           "y"
          ],
          [
           "2022-11-05",
           "y"
          ],
          [
           "2022-11-06",
           "y"
          ],
          [
           "2022-11-07",
           "y"
          ],
          [
           "2022-11-08",
           "y"
          ],
          [
           "2022-11-09",
           "y"
          ],
          [
           "2022-11-10",
           "y"
          ],
          [
           "2022-11-11",
           "y"
          ],
          [
           "2022-11-12",
           "y"
          ],
          [
           "2022-11-13",
           "y"
          ],
          [
           "2022-11-14",
           "y"
          ],
          [
           "2022-11-15",
           "y"
          ],
          [
           "2022-11-16",
           "y"
          ],
          [
           "2022-11-17",
           "y"
          ],
          [
           "2022-11-18",
           "y"
          ],
          [
           "2022-11-19",
           "y"
          ],
          [
           "2022-11-20",
           "y"
          ],
          [
           "2022-11-21",
           "y"
          ],
          [
           "2022-11-22",
           "y"
          ],
          [
           "2022-11-23",
           "y"
          ],
          [
           "2022-11-24",
           "y"
          ],
          [
           "2022-11-25",
           "y"
          ],
          [
           "2022-11-26",
           "y"
          ],
          [
           "2022-11-27",
           "y"
          ],
          [
           "2022-11-28",
           "y"
          ],
          [
           "2022-11-29",
           "y"
          ],
          [
           "2022-11-30",
           "y"
          ],
          [
           "2022-12-01",
           "y"
          ],
          [
           "2022-12-02",
           "y"
          ],
          [
           "2022-12-03",
           "y"
          ],
          [
           "2022-12-04",
           "y"
          ],
          [
           "2022-12-05",
           "y"
          ],
          [
           "2022-12-06",
           "y"
          ],
          [
           "2022-12-07",
           "y"
          ],
          [
           "2022-12-08",
           "y"
          ],
          [
           "2022-12-09",
           "y"
          ],
          [
           "2022-12-10",
           "y"
          ],
          [
           "2022-12-11",
           "y"
          ],
          [
           "2022-12-12",
           "y"
          ],
          [
           "2022-12-13",
           "y"
          ],
          [
           "2022-12-14",
           "y"
          ],
          [
           "2022-12-15",
           "y"
          ],
          [
           "2022-12-16",
           "y"
          ],
          [
           "2022-12-17",
           "y"
          ],
          [
           "2022-12-18",
           "y"
          ],
          [
           "2022-12-19",
           "y"
          ],
          [
           "2022-12-20",
           "y"
          ],
          [
           "2022-12-21",
           "y"
          ],
          [
           "2022-12-22",
           "y"
          ],
          [
           "2022-12-23",
           "y"
          ],
          [
           "2022-12-24",
           "y"
          ],
          [
           "2022-12-25",
           "y"
          ],
          [
           "2022-12-26",
           "y"
          ],
          [
           "2022-12-27",
           "y"
          ],
          [
           "2022-12-28",
           "y"
          ],
          [
           "2022-12-29",
           "y"
          ],
          [
           "2022-12-30",
           "y"
          ],
          [
           "2022-12-31",
           "y"
          ]
         ],
         "hovertemplate": "%{customdata[0]} <br>Week=%{x} <br>%{customdata[1]}=%{z}",
         "name": "2022",
         "showscale": false,
         "type": "heatmap",
         "x": [
          0,
          0,
          1,
          1,
          1,
          1,
          1,
          1,
          1,
          2,
          2,
          2,
          2,
          2,
          2,
          2,
          3,
          3,
          3,
          3,
          3,
          3,
          3,
          4,
          4,
          4,
          4,
          4,
          4,
          4,
          5,
          5,
          5,
          5,
          5,
          5,
          5,
          6,
          6,
          6,
          6,
          6,
          6,
          6,
          7,
          7,
          7,
          7,
          7,
          7,
          7,
          8,
          8,
          8,
          8,
          8,
          8,
          8,
          9,
          9,
          9,
          9,
          9,
          9,
          9,
          10,
          10,
          10,
          10,
          10,
          10,
          10,
          11,
          11,
          11,
          11,
          11,
          11,
          11,
          12,
          12,
          12,
          12,
          12,
          12,
          12,
          13,
          13,
          13,
          13,
          13,
          13,
          13,
          14,
          14,
          14,
          14,
          14,
          14,
          14,
          15,
          15,
          15,
          15,
          15,
          15,
          15,
          16,
          16,
          16,
          16,
          16,
          16,
          16,
          17,
          17,
          17,
          17,
          17,
          17,
          17,
          18,
          18,
          18,
          18,
          18,
          18,
          18,
          19,
          19,
          19,
          19,
          19,
          19,
          19,
          20,
          20,
          20,
          20,
          20,
          20,
          20,
          21,
          21,
          21,
          21,
          21,
          21,
          21,
          22,
          22,
          22,
          22,
          22,
          22,
          22,
          23,
          23,
          23,
          23,
          23,
          23,
          23,
          24,
          24,
          24,
          24,
          24,
          24,
          24,
          25,
          25,
          25,
          25,
          25,
          25,
          25,
          26,
          26,
          26,
          26,
          26,
          26,
          26,
          27,
          27,
          27,
          27,
          27,
          27,
          27,
          28,
          28,
          28,
          28,
          28,
          28,
          28,
          29,
          29,
          29,
          29,
          29,
          29,
          29,
          30,
          30,
          30,
          30,
          30,
          30,
          30,
          31,
          31,
          31,
          31,
          31,
          31,
          31,
          32,
          32,
          32,
          32,
          32,
          32,
          32,
          33,
          33,
          33,
          33,
          33,
          33,
          33,
          34,
          34,
          34,
          34,
          34,
          34,
          34,
          35,
          35,
          35,
          35,
          35,
          35,
          35,
          36,
          36,
          36,
          36,
          36,
          36,
          36,
          37,
          37,
          37,
          37,
          37,
          37,
          37,
          38,
          38,
          38,
          38,
          38,
          38,
          38,
          39,
          39,
          39,
          39,
          39,
          39,
          39,
          40,
          40,
          40,
          40,
          40,
          40,
          40,
          41,
          41,
          41,
          41,
          41,
          41,
          41,
          42,
          42,
          42,
          42,
          42,
          42,
          42,
          43,
          43,
          43,
          43,
          43,
          43,
          43,
          44,
          44,
          44,
          44,
          44,
          44,
          44,
          45,
          45,
          45,
          45,
          45,
          45,
          45,
          46,
          46,
          46,
          46,
          46,
          46,
          46,
          47,
          47,
          47,
          47,
          47,
          47,
          47,
          48,
          48,
          48,
          48,
          48,
          48,
          48,
          49,
          49,
          49,
          49,
          49,
          49,
          49,
          50,
          50,
          50,
          50,
          50,
          50,
          50,
          51,
          51,
          51,
          51,
          51,
          51,
          51,
          52,
          52,
          52,
          52,
          52,
          52
         ],
         "xaxis": "x2",
         "xgap": 1,
         "y": [
          5,
          6,
          0,
          1,
          2,
          3,
          4,
          5,
          6,
          0,
          1,
          2,
          3,
          4,
          5,
          6,
          0,
          1,
          2,
          3,
          4,
          5,
          6,
          0,
          1,
          2,
          3,
          4,
          5,
          6,
          0,
          1,
          2,
          3,
          4,
          5,
          6,
          0,
          1,
          2,
          3,
          4,
          5,
          6,
          0,
          1,
          2,
          3,
          4,
          5,
          6,
          0,
          1,
          2,
          3,
          4,
          5,
          6,
          0,
          1,
          2,
          3,
          4,
          5,
          6,
          0,
          1,
          2,
          3,
          4,
          5,
          6,
          0,
          1,
          2,
          3,
          4,
          5,
          6,
          0,
          1,
          2,
          3,
          4,
          5,
          6,
          0,
          1,
          2,
          3,
          4,
          5,
          6,
          0,
          1,
          2,
          3,
          4,
          5,
          6,
          0,
          1,
          2,
          3,
          4,
          5,
          6,
          0,
          1,
          2,
          3,
          4,
          5,
          6,
          0,
          1,
          2,
          3,
          4,
          5,
          6,
          0,
          1,
          2,
          3,
          4,
          5,
          6,
          0,
          1,
          2,
          3,
          4,
          5,
          6,
          0,
          1,
          2,
          3,
          4,
          5,
          6,
          0,
          1,
          2,
          3,
          4,
          5,
          6,
          0,
          1,
          2,
          3,
          4,
          5,
          6,
          0,
          1,
          2,
          3,
          4,
          5,
          6,
          0,
          1,
          2,
          3,
          4,
          5,
          6,
          0,
          1,
          2,
          3,
          4,
          5,
          6,
          0,
          1,
          2,
          3,
          4,
          5,
          6,
          0,
          1,
          2,
          3,
          4,
          5,
          6,
          0,
          1,
          2,
          3,
          4,
          5,
          6,
          0,
          1,
          2,
          3,
          4,
          5,
          6,
          0,
          1,
          2,
          3,
          4,
          5,
          6,
          0,
          1,
          2,
          3,
          4,
          5,
          6,
          0,
          1,
          2,
          3,
          4,
          5,
          6,
          0,
          1,
          2,
          3,
          4,
          5,
          6,
          0,
          1,
          2,
          3,
          4,
          5,
          6,
          0,
          1,
          2,
          3,
          4,
          5,
          6,
          0,
          1,
          2,
          3,
          4,
          5,
          6,
          0,
          1,
          2,
          3,
          4,
          5,
          6,
          0,
          1,
          2,
          3,
          4,
          5,
          6,
          0,
          1,
          2,
          3,
          4,
          5,
          6,
          0,
          1,
          2,
          3,
          4,
          5,
          6,
          0,
          1,
          2,
          3,
          4,
          5,
          6,
          0,
          1,
          2,
          3,
          4,
          5,
          6,
          0,
          1,
          2,
          3,
          4,
          5,
          6,
          0,
          1,
          2,
          3,
          4,
          5,
          6,
          0,
          1,
          2,
          3,
          4,
          5,
          6,
          0,
          1,
          2,
          3,
          4,
          5,
          6,
          0,
          1,
          2,
          3,
          4,
          5,
          6,
          0,
          1,
          2,
          3,
          4,
          5,
          6,
          0,
          1,
          2,
          3,
          4,
          5,
          6,
          0,
          1,
          2,
          3,
          4,
          5,
          6,
          0,
          1,
          2,
          3,
          4,
          5,
          6,
          0,
          1,
          2,
          3,
          4,
          5
         ],
         "yaxis": "y2",
         "ygap": 1,
         "z": [
          null,
          null,
          152,
          152,
          152,
          152,
          152,
          152,
          152,
          152,
          152,
          152,
          152,
          152,
          152,
          152,
          152,
          152,
          152,
          152,
          152,
          152,
          152,
          152,
          152,
          152,
          152,
          152,
          null,
          null,
          8,
          107,
          107,
          107,
          107,
          107,
          107,
          107,
          107,
          107,
          107,
          107,
          107,
          107,
          107,
          107,
          107,
          107,
          107,
          null,
          null,
          49,
          49,
          49,
          49,
          49,
          49,
          49,
          49,
          72.5,
          72.5,
          72.5,
          72.5,
          72.5,
          72.5,
          72.5,
          72.5,
          72.5,
          72.5,
          72.5,
          null,
          null,
          115,
          115,
          115,
          115,
          115,
          115,
          115,
          115,
          115,
          115,
          115,
          115,
          115,
          115,
          115,
          115,
          115,
          115,
          6.5,
          null,
          null,
          116.5,
          116.5,
          116.5,
          116.5,
          116.5,
          116.5,
          116.5,
          116.5,
          116.5,
          116.5,
          116.5,
          116.5,
          116.5,
          116.5,
          116.5,
          116.5,
          116.5,
          116.5,
          116.5,
          null,
          null,
          38,
          38,
          38,
          38,
          38,
          null,
          76,
          76,
          76,
          76,
          76,
          76,
          76,
          76,
          76,
          76,
          76,
          76,
          76,
          null,
          null,
          85,
          85,
          85,
          85,
          85,
          85,
          85,
          85,
          85,
          85,
          85,
          85,
          85,
          85,
          85,
          85,
          22,
          22,
          22,
          null,
          null,
          106,
          106,
          106,
          106,
          106,
          106,
          106,
          106,
          106,
          106,
          106,
          106,
          106,
          106,
          106,
          106,
          106,
          106,
          106,
          null,
          null,
          32,
          32,
          32,
          32,
          75,
          75,
          75,
          75,
          75,
          75,
          75,
          75,
          75,
          75,
          75,
          75,
          75,
          null,
          null,
          null,
          null,
          76,
          76,
          76,
          76,
          76,
          76,
          76,
          76,
          76,
          76,
          76,
          76,
          null,
          null,
          null,
          null,
          null,
          null,
          null,
          null,
          null,
          null,
          null,
          null,
          null,
          null,
          null,
          null,
          null,
          null,
          null,
          null,
          null,
          null,
          null,
          null,
          null,
          null,
          null,
          null,
          null,
          null,
          24,
          24,
          24,
          128,
          128,
          128,
          128,
          128,
          128,
          128,
          128,
          128,
          128,
          128,
          128,
          128,
          128,
          128,
          128,
          128,
          128,
          128,
          128,
          128,
          128,
          128,
          null,
          null,
          40,
          40,
          40,
          40,
          40,
          74,
          74,
          74,
          74,
          74,
          74,
          74,
          74,
          74,
          74,
          74,
          74,
          74,
          74,
          null,
          null,
          76,
          76,
          76,
          76,
          76,
          76,
          76,
          76,
          76,
          76,
          76,
          76,
          null,
          null,
          null,
          29,
          29,
          29,
          29,
          null,
          null,
          115,
          115,
          115,
          115,
          115,
          115,
          115,
          115,
          115,
          115,
          115,
          115,
          115,
          115,
          115,
          115,
          115,
          115,
          115,
          null,
          null,
          24,
          24,
          24,
          88,
          88,
          88,
          88,
          88,
          88,
          88,
          88,
          88,
          88,
          88,
          88,
          88,
          88,
          88,
          88,
          null,
          null,
          38,
          38,
          38,
          38,
          38,
          null,
          null,
          null,
          null,
          null,
          null,
          null,
          null
         ],
         "zmax": 152,
         "zmin": 6.5
        },
        {
         "hoverinfo": "skip",
         "line": {
          "color": "#9e9e9e",
          "width": 1
         },
         "mode": "lines",
         "type": "scatter",
         "x": [
          -0.5,
          -0.5
         ],
         "xaxis": "x2",
         "y": [
          4.5,
          6.5
         ],
         "yaxis": "y2"
        },
        {
         "hoverinfo": "skip",
         "line": {
          "color": "#9e9e9e",
          "width": 1
         },
         "mode": "lines",
         "type": "scatter",
         "x": [
          -0.5,
          0.5
         ],
         "xaxis": "x2",
         "y": [
          4.5,
          4.5
         ],
         "yaxis": "y2"
        },
        {
         "hoverinfo": "skip",
         "line": {
          "color": "#9e9e9e",
          "width": 1
         },
         "mode": "lines",
         "type": "scatter",
         "x": [
          0.5,
          0.5
         ],
         "xaxis": "x2",
         "y": [
          4.5,
          -0.5
         ],
         "yaxis": "y2"
        },
        {
         "hoverinfo": "skip",
         "line": {
          "color": "#9e9e9e",
          "width": 1
         },
         "mode": "lines",
         "type": "scatter",
         "x": [
          4.5,
          4.5
         ],
         "xaxis": "x2",
         "y": [
          0.5,
          6.5
         ],
         "yaxis": "y2"
        },
        {
         "hoverinfo": "skip",
         "line": {
          "color": "#9e9e9e",
          "width": 1
         },
         "mode": "lines",
         "type": "scatter",
         "x": [
          4.5,
          5.5
         ],
         "xaxis": "x2",
         "y": [
          0.5,
          0.5
         ],
         "yaxis": "y2"
        },
        {
         "hoverinfo": "skip",
         "line": {
          "color": "#9e9e9e",
          "width": 1
         },
         "mode": "lines",
         "type": "scatter",
         "x": [
          5.5,
          5.5
         ],
         "xaxis": "x2",
         "y": [
          0.5,
          -0.5
         ],
         "yaxis": "y2"
        },
        {
         "hoverinfo": "skip",
         "line": {
          "color": "#9e9e9e",
          "width": 1
         },
         "mode": "lines",
         "type": "scatter",
         "x": [
          8.5,
          8.5
         ],
         "xaxis": "x2",
         "y": [
          0.5,
          6.5
         ],
         "yaxis": "y2"
        },
        {
         "hoverinfo": "skip",
         "line": {
          "color": "#9e9e9e",
          "width": 1
         },
         "mode": "lines",
         "type": "scatter",
         "x": [
          8.5,
          9.5
         ],
         "xaxis": "x2",
         "y": [
          0.5,
          0.5
         ],
         "yaxis": "y2"
        },
        {
         "hoverinfo": "skip",
         "line": {
          "color": "#9e9e9e",
          "width": 1
         },
         "mode": "lines",
         "type": "scatter",
         "x": [
          9.5,
          9.5
         ],
         "xaxis": "x2",
         "y": [
          0.5,
          -0.5
         ],
         "yaxis": "y2"
        },
        {
         "hoverinfo": "skip",
         "line": {
          "color": "#9e9e9e",
          "width": 1
         },
         "mode": "lines",
         "type": "scatter",
         "x": [
          12.5,
          12.5
         ],
         "xaxis": "x2",
         "y": [
          3.5,
          6.5
         ],
         "yaxis": "y2"
        },
        {
         "hoverinfo": "skip",
         "line": {
          "color": "#9e9e9e",
          "width": 1
         },
         "mode": "lines",
         "type": "scatter",
         "x": [
          12.5,
          13.5
         ],
         "xaxis": "x2",
         "y": [
          3.5,
          3.5
         ],
         "yaxis": "y2"
        },
        {
         "hoverinfo": "skip",
         "line": {
          "color": "#9e9e9e",
          "width": 1
         },
         "mode": "lines",
         "type": "scatter",
         "x": [
          13.5,
          13.5
         ],
         "xaxis": "x2",
         "y": [
          3.5,
          -0.5
         ],
         "yaxis": "y2"
        },
        {
         "hoverinfo": "skip",
         "line": {
          "color": "#9e9e9e",
          "width": 1
         },
         "mode": "lines",
         "type": "scatter",
         "x": [
          16.5,
          16.5
         ],
         "xaxis": "x2",
         "y": [
          5.5,
          6.5
         ],
         "yaxis": "y2"
        },
        {
         "hoverinfo": "skip",
         "line": {
          "color": "#9e9e9e",
          "width": 1
         },
         "mode": "lines",
         "type": "scatter",
         "x": [
          16.5,
          17.5
         ],
         "xaxis": "x2",
         "y": [
          5.5,
          5.5
         ],
         "yaxis": "y2"
        },
        {
         "hoverinfo": "skip",
         "line": {
          "color": "#9e9e9e",
          "width": 1
         },
         "mode": "lines",
         "type": "scatter",
         "x": [
          17.5,
          17.5
         ],
         "xaxis": "x2",
         "y": [
          5.5,
          -0.5
         ],
         "yaxis": "y2"
        },
        {
         "hoverinfo": "skip",
         "line": {
          "color": "#9e9e9e",
          "width": 1
         },
         "mode": "lines",
         "type": "scatter",
         "x": [
          21.5,
          21.5
         ],
         "xaxis": "x2",
         "y": [
          1.5,
          6.5
         ],
         "yaxis": "y2"
        },
        {
         "hoverinfo": "skip",
         "line": {
          "color": "#9e9e9e",
          "width": 1
         },
         "mode": "lines",
         "type": "scatter",
         "x": [
          21.5,
          22.5
         ],
         "xaxis": "x2",
         "y": [
          1.5,
          1.5
         ],
         "yaxis": "y2"
        },
        {
         "hoverinfo": "skip",
         "line": {
          "color": "#9e9e9e",
          "width": 1
         },
         "mode": "lines",
         "type": "scatter",
         "x": [
          22.5,
          22.5
         ],
         "xaxis": "x2",
         "y": [
          1.5,
          -0.5
         ],
         "yaxis": "y2"
        },
        {
         "hoverinfo": "skip",
         "line": {
          "color": "#9e9e9e",
          "width": 1
         },
         "mode": "lines",
         "type": "scatter",
         "x": [
          25.5,
          25.5
         ],
         "xaxis": "x2",
         "y": [
          3.5,
          6.5
         ],
         "yaxis": "y2"
        },
        {
         "hoverinfo": "skip",
         "line": {
          "color": "#9e9e9e",
          "width": 1
         },
         "mode": "lines",
         "type": "scatter",
         "x": [
          25.5,
          26.5
         ],
         "xaxis": "x2",
         "y": [
          3.5,
          3.5
         ],
         "yaxis": "y2"
        },
        {
         "hoverinfo": "skip",
         "line": {
          "color": "#9e9e9e",
          "width": 1
         },
         "mode": "lines",
         "type": "scatter",
         "x": [
          26.5,
          26.5
         ],
         "xaxis": "x2",
         "y": [
          3.5,
          -0.5
         ],
         "yaxis": "y2"
        },
        {
         "hoverinfo": "skip",
         "line": {
          "color": "#9e9e9e",
          "width": 1
         },
         "mode": "lines",
         "type": "scatter",
         "x": [
          30.5,
          30.5
         ],
         "xaxis": "x2",
         "y": [
          -0.5,
          6.5
         ],
         "yaxis": "y2"
        },
        {
         "hoverinfo": "skip",
         "line": {
          "color": "#9e9e9e",
          "width": 1
         },
         "mode": "lines",
         "type": "scatter",
         "x": [
          34.5,
          34.5
         ],
         "xaxis": "x2",
         "y": [
          2.5,
          6.5
         ],
         "yaxis": "y2"
        },
        {
         "hoverinfo": "skip",
         "line": {
          "color": "#9e9e9e",
          "width": 1
         },
         "mode": "lines",
         "type": "scatter",
         "x": [
          34.5,
          35.5
         ],
         "xaxis": "x2",
         "y": [
          2.5,
          2.5
         ],
         "yaxis": "y2"
        },
        {
         "hoverinfo": "skip",
         "line": {
          "color": "#9e9e9e",
          "width": 1
         },
         "mode": "lines",
         "type": "scatter",
         "x": [
          35.5,
          35.5
         ],
         "xaxis": "x2",
         "y": [
          2.5,
          -0.5
         ],
         "yaxis": "y2"
        },
        {
         "hoverinfo": "skip",
         "line": {
          "color": "#9e9e9e",
          "width": 1
         },
         "mode": "lines",
         "type": "scatter",
         "x": [
          38.5,
          38.5
         ],
         "xaxis": "x2",
         "y": [
          4.5,
          6.5
         ],
         "yaxis": "y2"
        },
        {
         "hoverinfo": "skip",
         "line": {
          "color": "#9e9e9e",
          "width": 1
         },
         "mode": "lines",
         "type": "scatter",
         "x": [
          38.5,
          39.5
         ],
         "xaxis": "x2",
         "y": [
          4.5,
          4.5
         ],
         "yaxis": "y2"
        },
        {
         "hoverinfo": "skip",
         "line": {
          "color": "#9e9e9e",
          "width": 1
         },
         "mode": "lines",
         "type": "scatter",
         "x": [
          39.5,
          39.5
         ],
         "xaxis": "x2",
         "y": [
          4.5,
          -0.5
         ],
         "yaxis": "y2"
        },
        {
         "hoverinfo": "skip",
         "line": {
          "color": "#9e9e9e",
          "width": 1
         },
         "mode": "lines",
         "type": "scatter",
         "x": [
          43.5,
          43.5
         ],
         "xaxis": "x2",
         "y": [
          0.5,
          6.5
         ],
         "yaxis": "y2"
        },
        {
         "hoverinfo": "skip",
         "line": {
          "color": "#9e9e9e",
          "width": 1
         },
         "mode": "lines",
         "type": "scatter",
         "x": [
          43.5,
          44.5
         ],
         "xaxis": "x2",
         "y": [
          0.5,
          0.5
         ],
         "yaxis": "y2"
        },
        {
         "hoverinfo": "skip",
         "line": {
          "color": "#9e9e9e",
          "width": 1
         },
         "mode": "lines",
         "type": "scatter",
         "x": [
          44.5,
          44.5
         ],
         "xaxis": "x2",
         "y": [
          0.5,
          -0.5
         ],
         "yaxis": "y2"
        },
        {
         "hoverinfo": "skip",
         "line": {
          "color": "#9e9e9e",
          "width": 1
         },
         "mode": "lines",
         "type": "scatter",
         "x": [
          47.5,
          47.5
         ],
         "xaxis": "x2",
         "y": [
          2.5,
          6.5
         ],
         "yaxis": "y2"
        },
        {
         "hoverinfo": "skip",
         "line": {
          "color": "#9e9e9e",
          "width": 1
         },
         "mode": "lines",
         "type": "scatter",
         "x": [
          47.5,
          48.5
         ],
         "xaxis": "x2",
         "y": [
          2.5,
          2.5
         ],
         "yaxis": "y2"
        },
        {
         "hoverinfo": "skip",
         "line": {
          "color": "#9e9e9e",
          "width": 1
         },
         "mode": "lines",
         "type": "scatter",
         "x": [
          48.5,
          48.5
         ],
         "xaxis": "x2",
         "y": [
          2.5,
          -0.5
         ],
         "yaxis": "y2"
        },
        {
         "colorscale": [
          [
           0,
           "rgb(247,252,245)"
          ],
          [
           0.125,
           "rgb(229,245,224)"
          ],
          [
           0.25,
           "rgb(199,233,192)"
          ],
          [
           0.375,
           "rgb(161,217,155)"
          ],
          [
           0.5,
           "rgb(116,196,118)"
          ],
          [
           0.625,
           "rgb(65,171,93)"
          ],
          [
           0.75,
           "rgb(35,139,69)"
          ],
          [
           0.875,
           "rgb(0,109,44)"
          ],
          [
           1,
           "rgb(0,68,27)"
          ]
         ],
         "customdata": [
          [
           "2023-01-01",
           "y"
          ],
          [
           "2023-01-02",
           "y"
          ],
          [
           "2023-01-03",
           "y"
          ],
          [
           "2023-01-04",
           "y"
          ],
          [
           "2023-01-05",
           "y"
          ],
          [
           "2023-01-06",
           "y"
          ],
          [
           "2023-01-07",
           "y"
          ],
          [
           "2023-01-08",
           "y"
          ],
          [
           "2023-01-09",
           "y"
          ],
          [
           "2023-01-10",
           "y"
          ],
          [
           "2023-01-11",
           "y"
          ],
          [
           "2023-01-12",
           "y"
          ],
          [
           "2023-01-13",
           "y"
          ],
          [
           "2023-01-14",
           "y"
          ],
          [
           "2023-01-15",
           "y"
          ],
          [
           "2023-01-16",
           "y"
          ],
          [
           "2023-01-17",
           "y"
          ],
          [
           "2023-01-18",
           "y"
          ],
          [
           "2023-01-19",
           "y"
          ],
          [
           "2023-01-20",
           "y"
          ],
          [
           "2023-01-21",
           "y"
          ],
          [
           "2023-01-22",
           "y"
          ],
          [
           "2023-01-23",
           "y"
          ],
          [
           "2023-01-24",
           "y"
          ],
          [
           "2023-01-25",
           "y"
          ],
          [
           "2023-01-26",
           "y"
          ],
          [
           "2023-01-27",
           "y"
          ],
          [
           "2023-01-28",
           "y"
          ],
          [
           "2023-01-29",
           "y"
          ],
          [
           "2023-01-30",
           "y"
          ],
          [
           "2023-01-31",
           "y"
          ],
          [
           "2023-02-01",
           "y"
          ],
          [
           "2023-02-02",
           "y"
          ],
          [
           "2023-02-03",
           "y"
          ],
          [
           "2023-02-04",
           "y"
          ],
          [
           "2023-02-05",
           "y"
          ],
          [
           "2023-02-06",
           "y"
          ],
          [
           "2023-02-07",
           "y"
          ],
          [
           "2023-02-08",
           "y"
          ],
          [
           "2023-02-09",
           "y"
          ],
          [
           "2023-02-10",
           "y"
          ],
          [
           "2023-02-11",
           "y"
          ],
          [
           "2023-02-12",
           "y"
          ],
          [
           "2023-02-13",
           "y"
          ],
          [
           "2023-02-14",
           "y"
          ],
          [
           "2023-02-15",
           "y"
          ],
          [
           "2023-02-16",
           "y"
          ],
          [
           "2023-02-17",
           "y"
          ],
          [
           "2023-02-18",
           "y"
          ],
          [
           "2023-02-19",
           "y"
          ],
          [
           "2023-02-20",
           "y"
          ],
          [
           "2023-02-21",
           "y"
          ],
          [
           "2023-02-22",
           "y"
          ],
          [
           "2023-02-23",
           "y"
          ],
          [
           "2023-02-24",
           "y"
          ],
          [
           "2023-02-25",
           "y"
          ],
          [
           "2023-02-26",
           "y"
          ],
          [
           "2023-02-27",
           "y"
          ],
          [
           "2023-02-28",
           "y"
          ],
          [
           "2023-03-01",
           "y"
          ],
          [
           "2023-03-02",
           "y"
          ],
          [
           "2023-03-03",
           "y"
          ],
          [
           "2023-03-04",
           "y"
          ],
          [
           "2023-03-05",
           "y"
          ],
          [
           "2023-03-06",
           "y"
          ],
          [
           "2023-03-07",
           "y"
          ],
          [
           "2023-03-08",
           "y"
          ],
          [
           "2023-03-09",
           "y"
          ],
          [
           "2023-03-10",
           "y"
          ],
          [
           "2023-03-11",
           "y"
          ],
          [
           "2023-03-12",
           "y"
          ],
          [
           "2023-03-13",
           "y"
          ],
          [
           "2023-03-14",
           "y"
          ],
          [
           "2023-03-15",
           "y"
          ],
          [
           "2023-03-16",
           "y"
          ],
          [
           "2023-03-17",
           "y"
          ],
          [
           "2023-03-18",
           "y"
          ],
          [
           "2023-03-19",
           "y"
          ],
          [
           "2023-03-20",
           "y"
          ],
          [
           "2023-03-21",
           "y"
          ],
          [
           "2023-03-22",
           "y"
          ],
          [
           "2023-03-23",
           "y"
          ],
          [
           "2023-03-24",
           "y"
          ],
          [
           "2023-03-25",
           "y"
          ],
          [
           "2023-03-26",
           "y"
          ],
          [
           "2023-03-27",
           "y"
          ],
          [
           "2023-03-28",
           "y"
          ],
          [
           "2023-03-29",
           "y"
          ],
          [
           "2023-03-30",
           "y"
          ],
          [
           "2023-03-31",
           "y"
          ],
          [
           "2023-04-01",
           "y"
          ],
          [
           "2023-04-02",
           "y"
          ],
          [
           "2023-04-03",
           "y"
          ],
          [
           "2023-04-04",
           "y"
          ],
          [
           "2023-04-05",
           "y"
          ],
          [
           "2023-04-06",
           "y"
          ],
          [
           "2023-04-07",
           "y"
          ],
          [
           "2023-04-08",
           "y"
          ],
          [
           "2023-04-09",
           "y"
          ],
          [
           "2023-04-10",
           "y"
          ],
          [
           "2023-04-11",
           "y"
          ],
          [
           "2023-04-12",
           "y"
          ],
          [
           "2023-04-13",
           "y"
          ],
          [
           "2023-04-14",
           "y"
          ],
          [
           "2023-04-15",
           "y"
          ],
          [
           "2023-04-16",
           "y"
          ],
          [
           "2023-04-17",
           "y"
          ],
          [
           "2023-04-18",
           "y"
          ],
          [
           "2023-04-19",
           "y"
          ],
          [
           "2023-04-20",
           "y"
          ],
          [
           "2023-04-21",
           "y"
          ],
          [
           "2023-04-22",
           "y"
          ],
          [
           "2023-04-23",
           "y"
          ],
          [
           "2023-04-24",
           "y"
          ],
          [
           "2023-04-25",
           "y"
          ],
          [
           "2023-04-26",
           "y"
          ],
          [
           "2023-04-27",
           "y"
          ],
          [
           "2023-04-28",
           "y"
          ],
          [
           "2023-04-29",
           "y"
          ],
          [
           "2023-04-30",
           "y"
          ],
          [
           "2023-05-01",
           "y"
          ],
          [
           "2023-05-02",
           "y"
          ],
          [
           "2023-05-03",
           "y"
          ],
          [
           "2023-05-04",
           "y"
          ],
          [
           "2023-05-05",
           "y"
          ],
          [
           "2023-05-06",
           "y"
          ],
          [
           "2023-05-07",
           "y"
          ],
          [
           "2023-05-08",
           "y"
          ],
          [
           "2023-05-09",
           "y"
          ],
          [
           "2023-05-10",
           "y"
          ],
          [
           "2023-05-11",
           "y"
          ],
          [
           "2023-05-12",
           "y"
          ],
          [
           "2023-05-13",
           "y"
          ],
          [
           "2023-05-14",
           "y"
          ],
          [
           "2023-05-15",
           "y"
          ],
          [
           "2023-05-16",
           "y"
          ],
          [
           "2023-05-17",
           "y"
          ],
          [
           "2023-05-18",
           "y"
          ],
          [
           "2023-05-19",
           "y"
          ],
          [
           "2023-05-20",
           "y"
          ],
          [
           "2023-05-21",
           "y"
          ],
          [
           "2023-05-22",
           "y"
          ],
          [
           "2023-05-23",
           "y"
          ],
          [
           "2023-05-24",
           "y"
          ],
          [
           "2023-05-25",
           "y"
          ],
          [
           "2023-05-26",
           "y"
          ],
          [
           "2023-05-27",
           "y"
          ],
          [
           "2023-05-28",
           "y"
          ],
          [
           "2023-05-29",
           "y"
          ],
          [
           "2023-05-30",
           "y"
          ],
          [
           "2023-05-31",
           "y"
          ],
          [
           "2023-06-01",
           "y"
          ],
          [
           "2023-06-02",
           "y"
          ],
          [
           "2023-06-03",
           "y"
          ],
          [
           "2023-06-04",
           "y"
          ],
          [
           "2023-06-05",
           "y"
          ],
          [
           "2023-06-06",
           "y"
          ],
          [
           "2023-06-07",
           "y"
          ],
          [
           "2023-06-08",
           "y"
          ],
          [
           "2023-06-09",
           "y"
          ],
          [
           "2023-06-10",
           "y"
          ],
          [
           "2023-06-11",
           "y"
          ],
          [
           "2023-06-12",
           "y"
          ],
          [
           "2023-06-13",
           "y"
          ],
          [
           "2023-06-14",
           "y"
          ],
          [
           "2023-06-15",
           "y"
          ],
          [
           "2023-06-16",
           "y"
          ],
          [
           "2023-06-17",
           "y"
          ],
          [
           "2023-06-18",
           "y"
          ],
          [
           "2023-06-19",
           "y"
          ],
          [
           "2023-06-20",
           "y"
          ],
          [
           "2023-06-21",
           "y"
          ],
          [
           "2023-06-22",
           "y"
          ],
          [
           "2023-06-23",
           "y"
          ],
          [
           "2023-06-24",
           "y"
          ],
          [
           "2023-06-25",
           "y"
          ],
          [
           "2023-06-26",
           "y"
          ],
          [
           "2023-06-27",
           "y"
          ],
          [
           "2023-06-28",
           "y"
          ],
          [
           "2023-06-29",
           "y"
          ],
          [
           "2023-06-30",
           "y"
          ],
          [
           "2023-07-01",
           "y"
          ],
          [
           "2023-07-02",
           "y"
          ],
          [
           "2023-07-03",
           "y"
          ],
          [
           "2023-07-04",
           "y"
          ],
          [
           "2023-07-05",
           "y"
          ],
          [
           "2023-07-06",
           "y"
          ],
          [
           "2023-07-07",
           "y"
          ],
          [
           "2023-07-08",
           "y"
          ],
          [
           "2023-07-09",
           "y"
          ],
          [
           "2023-07-10",
           "y"
          ],
          [
           "2023-07-11",
           "y"
          ],
          [
           "2023-07-12",
           "y"
          ],
          [
           "2023-07-13",
           "y"
          ],
          [
           "2023-07-14",
           "y"
          ],
          [
           "2023-07-15",
           "y"
          ],
          [
           "2023-07-16",
           "y"
          ],
          [
           "2023-07-17",
           "y"
          ],
          [
           "2023-07-18",
           "y"
          ],
          [
           "2023-07-19",
           "y"
          ],
          [
           "2023-07-20",
           "y"
          ],
          [
           "2023-07-21",
           "y"
          ],
          [
           "2023-07-22",
           "y"
          ],
          [
           "2023-07-23",
           "y"
          ],
          [
           "2023-07-24",
           "y"
          ],
          [
           "2023-07-25",
           "y"
          ],
          [
           "2023-07-26",
           "y"
          ],
          [
           "2023-07-27",
           "y"
          ],
          [
           "2023-07-28",
           "y"
          ],
          [
           "2023-07-29",
           "y"
          ],
          [
           "2023-07-30",
           "y"
          ],
          [
           "2023-07-31",
           "y"
          ],
          [
           "2023-08-01",
           "y"
          ],
          [
           "2023-08-02",
           "y"
          ],
          [
           "2023-08-03",
           "y"
          ],
          [
           "2023-08-04",
           "y"
          ],
          [
           "2023-08-05",
           "y"
          ],
          [
           "2023-08-06",
           "y"
          ],
          [
           "2023-08-07",
           "y"
          ],
          [
           "2023-08-08",
           "y"
          ],
          [
           "2023-08-09",
           "y"
          ],
          [
           "2023-08-10",
           "y"
          ],
          [
           "2023-08-11",
           "y"
          ],
          [
           "2023-08-12",
           "y"
          ],
          [
           "2023-08-13",
           "y"
          ],
          [
           "2023-08-14",
           "y"
          ],
          [
           "2023-08-15",
           "y"
          ],
          [
           "2023-08-16",
           "y"
          ],
          [
           "2023-08-17",
           "y"
          ],
          [
           "2023-08-18",
           "y"
          ],
          [
           "2023-08-19",
           "y"
          ],
          [
           "2023-08-20",
           "y"
          ],
          [
           "2023-08-21",
           "y"
          ],
          [
           "2023-08-22",
           "y"
          ],
          [
           "2023-08-23",
           "y"
          ],
          [
           "2023-08-24",
           "y"
          ],
          [
           "2023-08-25",
           "y"
          ],
          [
           "2023-08-26",
           "y"
          ],
          [
           "2023-08-27",
           "y"
          ],
          [
           "2023-08-28",
           "y"
          ],
          [
           "2023-08-29",
           "y"
          ],
          [
           "2023-08-30",
           "y"
          ],
          [
           "2023-08-31",
           "y"
          ],
          [
           "2023-09-01",
           "y"
          ],
          [
           "2023-09-02",
           "y"
          ],
          [
           "2023-09-03",
           "y"
          ],
          [
           "2023-09-04",
           "y"
          ],
          [
           "2023-09-05",
           "y"
          ],
          [
           "2023-09-06",
           "y"
          ],
          [
           "2023-09-07",
           "y"
          ],
          [
           "2023-09-08",
           "y"
          ],
          [
           "2023-09-09",
           "y"
          ],
          [
           "2023-09-10",
           "y"
          ],
          [
           "2023-09-11",
           "y"
          ],
          [
           "2023-09-12",
           "y"
          ],
          [
           "2023-09-13",
           "y"
          ],
          [
           "2023-09-14",
           "y"
          ],
          [
           "2023-09-15",
           "y"
          ],
          [
           "2023-09-16",
           "y"
          ],
          [
           "2023-09-17",
           "y"
          ],
          [
           "2023-09-18",
           "y"
          ],
          [
           "2023-09-19",
           "y"
          ],
          [
           "2023-09-20",
           "y"
          ],
          [
           "2023-09-21",
           "y"
          ],
          [
           "2023-09-22",
           "y"
          ],
          [
           "2023-09-23",
           "y"
          ],
          [
           "2023-09-24",
           "y"
          ],
          [
           "2023-09-25",
           "y"
          ],
          [
           "2023-09-26",
           "y"
          ],
          [
           "2023-09-27",
           "y"
          ],
          [
           "2023-09-28",
           "y"
          ],
          [
           "2023-09-29",
           "y"
          ],
          [
           "2023-09-30",
           "y"
          ],
          [
           "2023-10-01",
           "y"
          ],
          [
           "2023-10-02",
           "y"
          ],
          [
           "2023-10-03",
           "y"
          ],
          [
           "2023-10-04",
           "y"
          ],
          [
           "2023-10-05",
           "y"
          ],
          [
           "2023-10-06",
           "y"
          ],
          [
           "2023-10-07",
           "y"
          ],
          [
           "2023-10-08",
           "y"
          ],
          [
           "2023-10-09",
           "y"
          ],
          [
           "2023-10-10",
           "y"
          ],
          [
           "2023-10-11",
           "y"
          ],
          [
           "2023-10-12",
           "y"
          ],
          [
           "2023-10-13",
           "y"
          ],
          [
           "2023-10-14",
           "y"
          ],
          [
           "2023-10-15",
           "y"
          ],
          [
           "2023-10-16",
           "y"
          ],
          [
           "2023-10-17",
           "y"
          ],
          [
           "2023-10-18",
           "y"
          ],
          [
           "2023-10-19",
           "y"
          ],
          [
           "2023-10-20",
           "y"
          ],
          [
           "2023-10-21",
           "y"
          ],
          [
           "2023-10-22",
           "y"
          ],
          [
           "2023-10-23",
           "y"
          ],
          [
           "2023-10-24",
           "y"
          ],
          [
           "2023-10-25",
           "y"
          ],
          [
           "2023-10-26",
           "y"
          ],
          [
           "2023-10-27",
           "y"
          ],
          [
           "2023-10-28",
           "y"
          ],
          [
           "2023-10-29",
           "y"
          ],
          [
           "2023-10-30",
           "y"
          ],
          [
           "2023-10-31",
           "y"
          ],
          [
           "2023-11-01",
           "y"
          ],
          [
           "2023-11-02",
           "y"
          ],
          [
           "2023-11-03",
           "y"
          ],
          [
           "2023-11-04",
           "y"
          ],
          [
           "2023-11-05",
           "y"
          ],
          [
           "2023-11-06",
           "y"
          ],
          [
           "2023-11-07",
           "y"
          ],
          [
           "2023-11-08",
           "y"
          ],
          [
           "2023-11-09",
           "y"
          ],
          [
           "2023-11-10",
           "y"
          ],
          [
           "2023-11-11",
           "y"
          ],
          [
           "2023-11-12",
           "y"
          ],
          [
           "2023-11-13",
           "y"
          ],
          [
           "2023-11-14",
           "y"
          ],
          [
           "2023-11-15",
           "y"
          ],
          [
           "2023-11-16",
           "y"
          ],
          [
           "2023-11-17",
           "y"
          ],
          [
           "2023-11-18",
           "y"
          ],
          [
           "2023-11-19",
           "y"
          ],
          [
           "2023-11-20",
           "y"
          ],
          [
           "2023-11-21",
           "y"
          ],
          [
           "2023-11-22",
           "y"
          ],
          [
           "2023-11-23",
           "y"
          ],
          [
           "2023-11-24",
           "y"
          ],
          [
           "2023-11-25",
           "y"
          ],
          [
           "2023-11-26",
           "y"
          ],
          [
           "2023-11-27",
           "y"
          ],
          [
           "2023-11-28",
           "y"
          ],
          [
           "2023-11-29",
           "y"
          ],
          [
           "2023-11-30",
           "y"
          ],
          [
           "2023-12-01",
           "y"
          ],
          [
           "2023-12-02",
           "y"
          ],
          [
           "2023-12-03",
           "y"
          ],
          [
           "2023-12-04",
           "y"
          ],
          [
           "2023-12-05",
           "y"
          ],
          [
           "2023-12-06",
           "y"
          ],
          [
           "2023-12-07",
           "y"
          ],
          [
           "2023-12-08",
           "y"
          ],
          [
           "2023-12-09",
           "y"
          ],
          [
           "2023-12-10",
           "y"
          ],
          [
           "2023-12-11",
           "y"
          ],
          [
           "2023-12-12",
           "y"
          ],
          [
           "2023-12-13",
           "y"
          ],
          [
           "2023-12-14",
           "y"
          ],
          [
           "2023-12-15",
           "y"
          ],
          [
           "2023-12-16",
           "y"
          ],
          [
           "2023-12-17",
           "y"
          ],
          [
           "2023-12-18",
           "y"
          ],
          [
           "2023-12-19",
           "y"
          ],
          [
           "2023-12-20",
           "y"
          ],
          [
           "2023-12-21",
           "y"
          ],
          [
           "2023-12-22",
           "y"
          ],
          [
           "2023-12-23",
           "y"
          ],
          [
           "2023-12-24",
           "y"
          ],
          [
           "2023-12-25",
           "y"
          ],
          [
           "2023-12-26",
           "y"
          ],
          [
           "2023-12-27",
           "y"
          ],
          [
           "2023-12-28",
           "y"
          ],
          [
           "2023-12-29",
           "y"
          ],
          [
           "2023-12-30",
           "y"
          ],
          [
           "2023-12-31",
           "y"
          ]
         ],
         "hovertemplate": "%{customdata[0]} <br>Week=%{x} <br>%{customdata[1]}=%{z}",
         "name": "2023",
         "showscale": false,
         "type": "heatmap",
         "x": [
          0,
          1,
          1,
          1,
          1,
          1,
          1,
          1,
          2,
          2,
          2,
          2,
          2,
          2,
          2,
          3,
          3,
          3,
          3,
          3,
          3,
          3,
          4,
          4,
          4,
          4,
          4,
          4,
          4,
          5,
          5,
          5,
          5,
          5,
          5,
          5,
          6,
          6,
          6,
          6,
          6,
          6,
          6,
          7,
          7,
          7,
          7,
          7,
          7,
          7,
          8,
          8,
          8,
          8,
          8,
          8,
          8,
          9,
          9,
          9,
          9,
          9,
          9,
          9,
          10,
          10,
          10,
          10,
          10,
          10,
          10,
          11,
          11,
          11,
          11,
          11,
          11,
          11,
          12,
          12,
          12,
          12,
          12,
          12,
          12,
          13,
          13,
          13,
          13,
          13,
          13,
          13,
          14,
          14,
          14,
          14,
          14,
          14,
          14,
          15,
          15,
          15,
          15,
          15,
          15,
          15,
          16,
          16,
          16,
          16,
          16,
          16,
          16,
          17,
          17,
          17,
          17,
          17,
          17,
          17,
          18,
          18,
          18,
          18,
          18,
          18,
          18,
          19,
          19,
          19,
          19,
          19,
          19,
          19,
          20,
          20,
          20,
          20,
          20,
          20,
          20,
          21,
          21,
          21,
          21,
          21,
          21,
          21,
          22,
          22,
          22,
          22,
          22,
          22,
          22,
          23,
          23,
          23,
          23,
          23,
          23,
          23,
          24,
          24,
          24,
          24,
          24,
          24,
          24,
          25,
          25,
          25,
          25,
          25,
          25,
          25,
          26,
          26,
          26,
          26,
          26,
          26,
          26,
          27,
          27,
          27,
          27,
          27,
          27,
          27,
          28,
          28,
          28,
          28,
          28,
          28,
          28,
          29,
          29,
          29,
          29,
          29,
          29,
          29,
          30,
          30,
          30,
          30,
          30,
          30,
          30,
          31,
          31,
          31,
          31,
          31,
          31,
          31,
          32,
          32,
          32,
          32,
          32,
          32,
          32,
          33,
          33,
          33,
          33,
          33,
          33,
          33,
          34,
          34,
          34,
          34,
          34,
          34,
          34,
          35,
          35,
          35,
          35,
          35,
          35,
          35,
          36,
          36,
          36,
          36,
          36,
          36,
          36,
          37,
          37,
          37,
          37,
          37,
          37,
          37,
          38,
          38,
          38,
          38,
          38,
          38,
          38,
          39,
          39,
          39,
          39,
          39,
          39,
          39,
          40,
          40,
          40,
          40,
          40,
          40,
          40,
          41,
          41,
          41,
          41,
          41,
          41,
          41,
          42,
          42,
          42,
          42,
          42,
          42,
          42,
          43,
          43,
          43,
          43,
          43,
          43,
          43,
          44,
          44,
          44,
          44,
          44,
          44,
          44,
          45,
          45,
          45,
          45,
          45,
          45,
          45,
          46,
          46,
          46,
          46,
          46,
          46,
          46,
          47,
          47,
          47,
          47,
          47,
          47,
          47,
          48,
          48,
          48,
          48,
          48,
          48,
          48,
          49,
          49,
          49,
          49,
          49,
          49,
          49,
          50,
          50,
          50,
          50,
          50,
          50,
          50,
          51,
          51,
          51,
          51,
          51,
          51,
          51,
          52,
          52,
          52,
          52,
          52,
          52,
          52
         ],
         "xaxis": "x3",
         "xgap": 1,
         "y": [
          6,
          0,
          1,
          2,
          3,
          4,
          5,
          6,
          0,
          1,
          2,
          3,
          4,
          5,
          6,
          0,
          1,
          2,
          3,
          4,
          5,
          6,
          0,
          1,
          2,
          3,
          4,
          5,
          6,
          0,
          1,
          2,
          3,
          4,
          5,
          6,
          0,
          1,
          2,
          3,
          4,
          5,
          6,
          0,
          1,
          2,
          3,
          4,
          5,
          6,
          0,
          1,
          2,
          3,
          4,
          5,
          6,
          0,
          1,
          2,
          3,
          4,
          5,
          6,
          0,
          1,
          2,
          3,
          4,
          5,
          6,
          0,
          1,
          2,
          3,
          4,
          5,
          6,
          0,
          1,
          2,
          3,
          4,
          5,
          6,
          0,
          1,
          2,
          3,
          4,
          5,
          6,
          0,
          1,
          2,
          3,
          4,
          5,
          6,
          0,
          1,
          2,
          3,
          4,
          5,
          6,
          0,
          1,
          2,
          3,
          4,
          5,
          6,
          0,
          1,
          2,
          3,
          4,
          5,
          6,
          0,
          1,
          2,
          3,
          4,
          5,
          6,
          0,
          1,
          2,
          3,
          4,
          5,
          6,
          0,
          1,
          2,
          3,
          4,
          5,
          6,
          0,
          1,
          2,
          3,
          4,
          5,
          6,
          0,
          1,
          2,
          3,
          4,
          5,
          6,
          0,
          1,
          2,
          3,
          4,
          5,
          6,
          0,
          1,
          2,
          3,
          4,
          5,
          6,
          0,
          1,
          2,
          3,
          4,
          5,
          6,
          0,
          1,
          2,
          3,
          4,
          5,
          6,
          0,
          1,
          2,
          3,
          4,
          5,
          6,
          0,
          1,
          2,
          3,
          4,
          5,
          6,
          0,
          1,
          2,
          3,
          4,
          5,
          6,
          0,
          1,
          2,
          3,
          4,
          5,
          6,
          0,
          1,
          2,
          3,
          4,
          5,
          6,
          0,
          1,
          2,
          3,
          4,
          5,
          6,
          0,
          1,
          2,
          3,
          4,
          5,
          6,
          0,
          1,
          2,
          3,
          4,
          5,
          6,
          0,
          1,
          2,
          3,
          4,
          5,
          6,
          0,
          1,
          2,
          3,
          4,
          5,
          6,
          0,
          1,
          2,
          3,
          4,
          5,
          6,
          0,
          1,
          2,
          3,
          4,
          5,
          6,
          0,
          1,
          2,
          3,
          4,
          5,
          6,
          0,
          1,
          2,
          3,
          4,
          5,
          6,
          0,
          1,
          2,
          3,
          4,
          5,
          6,
          0,
          1,
          2,
          3,
          4,
          5,
          6,
          0,
          1,
          2,
          3,
          4,
          5,
          6,
          0,
          1,
          2,
          3,
          4,
          5,
          6,
          0,
          1,
          2,
          3,
          4,
          5,
          6,
          0,
          1,
          2,
          3,
          4,
          5,
          6,
          0,
          1,
          2,
          3,
          4,
          5,
          6,
          0,
          1,
          2,
          3,
          4,
          5,
          6,
          0,
          1,
          2,
          3,
          4,
          5,
          6,
          0,
          1,
          2,
          3,
          4,
          5,
          6,
          0,
          1,
          2,
          3,
          4,
          5,
          6,
          0,
          1,
          2,
          3,
          4,
          5,
          6
         ],
         "yaxis": "y3",
         "ygap": 1,
         "z": [
          null,
          null,
          null,
          null,
          null,
          null,
          null,
          null,
          114,
          114,
          114,
          114,
          114,
          114,
          114,
          114,
          114,
          114,
          114,
          114,
          114,
          114,
          114,
          114,
          114,
          114,
          114,
          null,
          null,
          16,
          16,
          68,
          68,
          68,
          68,
          68,
          68,
          68,
          68,
          68,
          68,
          68,
          68,
          68,
          68,
          68,
          68,
          68,
          null,
          null,
          54,
          54,
          54,
          54,
          54,
          54,
          54,
          54,
          54,
          62,
          62,
          62,
          62,
          62,
          62,
          62,
          62,
          62,
          62,
          null,
          null,
          108,
          108,
          108,
          108,
          108,
          108,
          108,
          108,
          108,
          108,
          108,
          108,
          108,
          108,
          108,
          108,
          108,
          108,
          108,
          null,
          null,
          113,
          113,
          113,
          113,
          113,
          113,
          113,
          113,
          113,
          113,
          113,
          113,
          113,
          113,
          113,
          113,
          113,
          113,
          113,
          null,
          null,
          38.5,
          38.5,
          38.5,
          38.5,
          38.5,
          null,
          null,
          74,
          74,
          74,
          74,
          74,
          74,
          74,
          74,
          74,
          74,
          74,
          74,
          null,
          null,
          85,
          85,
          85,
          85,
          85,
          85,
          85,
          85,
          85,
          85,
          85,
          85,
          85,
          85,
          85,
          85,
          85,
          null,
          null,
          null,
          null,
          null,
          null,
          null,
          null,
          null,
          null,
          null,
          null,
          null,
          null,
          null,
          null,
          null,
          null,
          null,
          null,
          null,
          null,
          null,
          null,
          null,
          null,
          null,
          null,
          null,
          null,
          null,
          null,
          null,
          null,
          null,
          null,
          null,
          null,
          null,
          null,
          null,
          null,
          null,
          null,
          null,
          null,
          null,
          null,
          null,
          null,
          null,
          null,
          null,
          null,
          null,
          null,
          null,
          null,
          null,
          null,
          null,
          null,
          null,
          null,
          null,
          null,
          null,
          null,
          null,
          null,
          null,
          null,
          null,
          null,
          null,
          null,
          null,
          null,
          null,
          null,
          null,
          null,
          null,
          null,
          null,
          null,
          null,
          null,
          null,
          null,
          null,
          null,
          null,
          null,
          null,
          null,
          null,
          null,
          null,
          null,
          null,
          null,
          null,
          null,
          null,
          null,
          null,
          null,
          null,
          null,
          null,
          null,
          null,
          null,
          null,
          null,
          null,
          null,
          null,
          null,
          null,
          null,
          null,
          null,
          null,
          null,
          null,
          null,
          null,
          null,
          null,
          null,
          null,
          null,
          null,
          null,
          null,
          null,
          null,
          null,
          null,
          null,
          null,
          null,
          null,
          null,
          null,
          null,
          null,
          null,
          null,
          null,
          null,
          null,
          null,
          null,
          null,
          null,
          null,
          null,
          null,
          null,
          null,
          null,
          null,
          null,
          null,
          null,
          null,
          null,
          null,
          null,
          null,
          null,
          null,
          null,
          null,
          null,
          null,
          null,
          null,
          null,
          null,
          null,
          null,
          null,
          null,
          null,
          null,
          null,
          null,
          null,
          null,
          null,
          null,
          null,
          null,
          null,
          null,
          null,
          null,
          null,
          null,
          null,
          null,
          null,
          null,
          null,
          null,
          null,
          null,
          null,
          null,
          null
         ],
         "zmax": 152,
         "zmin": 6.5
        },
        {
         "hoverinfo": "skip",
         "line": {
          "color": "#9e9e9e",
          "width": 1
         },
         "mode": "lines",
         "type": "scatter",
         "x": [
          -0.5,
          -0.5
         ],
         "xaxis": "x3",
         "y": [
          5.5,
          6.5
         ],
         "yaxis": "y3"
        },
        {
         "hoverinfo": "skip",
         "line": {
          "color": "#9e9e9e",
          "width": 1
         },
         "mode": "lines",
         "type": "scatter",
         "x": [
          -0.5,
          0.5
         ],
         "xaxis": "x3",
         "y": [
          5.5,
          5.5
         ],
         "yaxis": "y3"
        },
        {
         "hoverinfo": "skip",
         "line": {
          "color": "#9e9e9e",
          "width": 1
         },
         "mode": "lines",
         "type": "scatter",
         "x": [
          0.5,
          0.5
         ],
         "xaxis": "x3",
         "y": [
          5.5,
          -0.5
         ],
         "yaxis": "y3"
        },
        {
         "hoverinfo": "skip",
         "line": {
          "color": "#9e9e9e",
          "width": 1
         },
         "mode": "lines",
         "type": "scatter",
         "x": [
          4.5,
          4.5
         ],
         "xaxis": "x3",
         "y": [
          1.5,
          6.5
         ],
         "yaxis": "y3"
        },
        {
         "hoverinfo": "skip",
         "line": {
          "color": "#9e9e9e",
          "width": 1
         },
         "mode": "lines",
         "type": "scatter",
         "x": [
          4.5,
          5.5
         ],
         "xaxis": "x3",
         "y": [
          1.5,
          1.5
         ],
         "yaxis": "y3"
        },
        {
         "hoverinfo": "skip",
         "line": {
          "color": "#9e9e9e",
          "width": 1
         },
         "mode": "lines",
         "type": "scatter",
         "x": [
          5.5,
          5.5
         ],
         "xaxis": "x3",
         "y": [
          1.5,
          -0.5
         ],
         "yaxis": "y3"
        },
        {
         "hoverinfo": "skip",
         "line": {
          "color": "#9e9e9e",
          "width": 1
         },
         "mode": "lines",
         "type": "scatter",
         "x": [
          8.5,
          8.5
         ],
         "xaxis": "x3",
         "y": [
          1.5,
          6.5
         ],
         "yaxis": "y3"
        },
        {
         "hoverinfo": "skip",
         "line": {
          "color": "#9e9e9e",
          "width": 1
         },
         "mode": "lines",
         "type": "scatter",
         "x": [
          8.5,
          9.5
         ],
         "xaxis": "x3",
         "y": [
          1.5,
          1.5
         ],
         "yaxis": "y3"
        },
        {
         "hoverinfo": "skip",
         "line": {
          "color": "#9e9e9e",
          "width": 1
         },
         "mode": "lines",
         "type": "scatter",
         "x": [
          9.5,
          9.5
         ],
         "xaxis": "x3",
         "y": [
          1.5,
          -0.5
         ],
         "yaxis": "y3"
        },
        {
         "hoverinfo": "skip",
         "line": {
          "color": "#9e9e9e",
          "width": 1
         },
         "mode": "lines",
         "type": "scatter",
         "x": [
          12.5,
          12.5
         ],
         "xaxis": "x3",
         "y": [
          4.5,
          6.5
         ],
         "yaxis": "y3"
        },
        {
         "hoverinfo": "skip",
         "line": {
          "color": "#9e9e9e",
          "width": 1
         },
         "mode": "lines",
         "type": "scatter",
         "x": [
          12.5,
          13.5
         ],
         "xaxis": "x3",
         "y": [
          4.5,
          4.5
         ],
         "yaxis": "y3"
        },
        {
         "hoverinfo": "skip",
         "line": {
          "color": "#9e9e9e",
          "width": 1
         },
         "mode": "lines",
         "type": "scatter",
         "x": [
          13.5,
          13.5
         ],
         "xaxis": "x3",
         "y": [
          4.5,
          -0.5
         ],
         "yaxis": "y3"
        },
        {
         "hoverinfo": "skip",
         "line": {
          "color": "#9e9e9e",
          "width": 1
         },
         "mode": "lines",
         "type": "scatter",
         "x": [
          17.5,
          17.5
         ],
         "xaxis": "x3",
         "y": [
          -0.5,
          6.5
         ],
         "yaxis": "y3"
        },
        {
         "hoverinfo": "skip",
         "line": {
          "color": "#9e9e9e",
          "width": 1
         },
         "mode": "lines",
         "type": "scatter",
         "x": [
          21.5,
          21.5
         ],
         "xaxis": "x3",
         "y": [
          2.5,
          6.5
         ],
         "yaxis": "y3"
        },
        {
         "hoverinfo": "skip",
         "line": {
          "color": "#9e9e9e",
          "width": 1
         },
         "mode": "lines",
         "type": "scatter",
         "x": [
          21.5,
          22.5
         ],
         "xaxis": "x3",
         "y": [
          2.5,
          2.5
         ],
         "yaxis": "y3"
        },
        {
         "hoverinfo": "skip",
         "line": {
          "color": "#9e9e9e",
          "width": 1
         },
         "mode": "lines",
         "type": "scatter",
         "x": [
          22.5,
          22.5
         ],
         "xaxis": "x3",
         "y": [
          2.5,
          -0.5
         ],
         "yaxis": "y3"
        },
        {
         "hoverinfo": "skip",
         "line": {
          "color": "#9e9e9e",
          "width": 1
         },
         "mode": "lines",
         "type": "scatter",
         "x": [
          25.5,
          25.5
         ],
         "xaxis": "x3",
         "y": [
          4.5,
          6.5
         ],
         "yaxis": "y3"
        },
        {
         "hoverinfo": "skip",
         "line": {
          "color": "#9e9e9e",
          "width": 1
         },
         "mode": "lines",
         "type": "scatter",
         "x": [
          25.5,
          26.5
         ],
         "xaxis": "x3",
         "y": [
          4.5,
          4.5
         ],
         "yaxis": "y3"
        },
        {
         "hoverinfo": "skip",
         "line": {
          "color": "#9e9e9e",
          "width": 1
         },
         "mode": "lines",
         "type": "scatter",
         "x": [
          26.5,
          26.5
         ],
         "xaxis": "x3",
         "y": [
          4.5,
          -0.5
         ],
         "yaxis": "y3"
        },
        {
         "hoverinfo": "skip",
         "line": {
          "color": "#9e9e9e",
          "width": 1
         },
         "mode": "lines",
         "type": "scatter",
         "x": [
          30.5,
          30.5
         ],
         "xaxis": "x3",
         "y": [
          0.5,
          6.5
         ],
         "yaxis": "y3"
        },
        {
         "hoverinfo": "skip",
         "line": {
          "color": "#9e9e9e",
          "width": 1
         },
         "mode": "lines",
         "type": "scatter",
         "x": [
          30.5,
          31.5
         ],
         "xaxis": "x3",
         "y": [
          0.5,
          0.5
         ],
         "yaxis": "y3"
        },
        {
         "hoverinfo": "skip",
         "line": {
          "color": "#9e9e9e",
          "width": 1
         },
         "mode": "lines",
         "type": "scatter",
         "x": [
          31.5,
          31.5
         ],
         "xaxis": "x3",
         "y": [
          0.5,
          -0.5
         ],
         "yaxis": "y3"
        },
        {
         "hoverinfo": "skip",
         "line": {
          "color": "#9e9e9e",
          "width": 1
         },
         "mode": "lines",
         "type": "scatter",
         "x": [
          34.5,
          34.5
         ],
         "xaxis": "x3",
         "y": [
          3.5,
          6.5
         ],
         "yaxis": "y3"
        },
        {
         "hoverinfo": "skip",
         "line": {
          "color": "#9e9e9e",
          "width": 1
         },
         "mode": "lines",
         "type": "scatter",
         "x": [
          34.5,
          35.5
         ],
         "xaxis": "x3",
         "y": [
          3.5,
          3.5
         ],
         "yaxis": "y3"
        },
        {
         "hoverinfo": "skip",
         "line": {
          "color": "#9e9e9e",
          "width": 1
         },
         "mode": "lines",
         "type": "scatter",
         "x": [
          35.5,
          35.5
         ],
         "xaxis": "x3",
         "y": [
          3.5,
          -0.5
         ],
         "yaxis": "y3"
        },
        {
         "hoverinfo": "skip",
         "line": {
          "color": "#9e9e9e",
          "width": 1
         },
         "mode": "lines",
         "type": "scatter",
         "x": [
          38.5,
          38.5
         ],
         "xaxis": "x3",
         "y": [
          5.5,
          6.5
         ],
         "yaxis": "y3"
        },
        {
         "hoverinfo": "skip",
         "line": {
          "color": "#9e9e9e",
          "width": 1
         },
         "mode": "lines",
         "type": "scatter",
         "x": [
          38.5,
          39.5
         ],
         "xaxis": "x3",
         "y": [
          5.5,
          5.5
         ],
         "yaxis": "y3"
        },
        {
         "hoverinfo": "skip",
         "line": {
          "color": "#9e9e9e",
          "width": 1
         },
         "mode": "lines",
         "type": "scatter",
         "x": [
          39.5,
          39.5
         ],
         "xaxis": "x3",
         "y": [
          5.5,
          -0.5
         ],
         "yaxis": "y3"
        },
        {
         "hoverinfo": "skip",
         "line": {
          "color": "#9e9e9e",
          "width": 1
         },
         "mode": "lines",
         "type": "scatter",
         "x": [
          43.5,
          43.5
         ],
         "xaxis": "x3",
         "y": [
          1.5,
          6.5
         ],
         "yaxis": "y3"
        },
        {
         "hoverinfo": "skip",
         "line": {
          "color": "#9e9e9e",
          "width": 1
         },
         "mode": "lines",
         "type": "scatter",
         "x": [
          43.5,
          44.5
         ],
         "xaxis": "x3",
         "y": [
          1.5,
          1.5
         ],
         "yaxis": "y3"
        },
        {
         "hoverinfo": "skip",
         "line": {
          "color": "#9e9e9e",
          "width": 1
         },
         "mode": "lines",
         "type": "scatter",
         "x": [
          44.5,
          44.5
         ],
         "xaxis": "x3",
         "y": [
          1.5,
          -0.5
         ],
         "yaxis": "y3"
        },
        {
         "hoverinfo": "skip",
         "line": {
          "color": "#9e9e9e",
          "width": 1
         },
         "mode": "lines",
         "type": "scatter",
         "x": [
          47.5,
          47.5
         ],
         "xaxis": "x3",
         "y": [
          3.5,
          6.5
         ],
         "yaxis": "y3"
        },
        {
         "hoverinfo": "skip",
         "line": {
          "color": "#9e9e9e",
          "width": 1
         },
         "mode": "lines",
         "type": "scatter",
         "x": [
          47.5,
          48.5
         ],
         "xaxis": "x3",
         "y": [
          3.5,
          3.5
         ],
         "yaxis": "y3"
        },
        {
         "hoverinfo": "skip",
         "line": {
          "color": "#9e9e9e",
          "width": 1
         },
         "mode": "lines",
         "type": "scatter",
         "x": [
          48.5,
          48.5
         ],
         "xaxis": "x3",
         "y": [
          3.5,
          -0.5
         ],
         "yaxis": "y3"
        }
       ],
       "layout": {
        "annotations": [
         {
          "font": {
           "size": 16
          },
          "showarrow": false,
          "text": "2021",
          "x": 0.5,
          "xanchor": "center",
          "xref": "paper",
          "y": 1,
          "yanchor": "bottom",
          "yref": "paper"
         },
         {
          "font": {
           "size": 16
          },
          "showarrow": false,
          "text": "2022",
          "x": 0.5,
          "xanchor": "center",
          "xref": "paper",
          "y": 0.6399999999999999,
          "yanchor": "bottom",
          "yref": "paper"
         },
         {
          "font": {
           "size": 16
          },
          "showarrow": false,
          "text": "2023",
          "x": 0.5,
          "xanchor": "center",
          "xref": "paper",
          "y": 0.27999999999999997,
          "yanchor": "bottom",
          "yref": "paper"
         }
        ],
        "font": {
         "color": "#9e9e9e",
         "size": 10
        },
        "height": 450,
        "margin": {
         "b": 20,
         "t": 20
        },
        "plot_bgcolor": "#fff",
        "showlegend": false,
        "template": {
         "data": {
          "bar": [
           {
            "error_x": {
             "color": "#2a3f5f"
            },
            "error_y": {
             "color": "#2a3f5f"
            },
            "marker": {
             "line": {
              "color": "#E5ECF6",
              "width": 0.5
             },
             "pattern": {
              "fillmode": "overlay",
              "size": 10,
              "solidity": 0.2
             }
            },
            "type": "bar"
           }
          ],
          "barpolar": [
           {
            "marker": {
             "line": {
              "color": "#E5ECF6",
              "width": 0.5
             },
             "pattern": {
              "fillmode": "overlay",
              "size": 10,
              "solidity": 0.2
             }
            },
            "type": "barpolar"
           }
          ],
          "carpet": [
           {
            "aaxis": {
             "endlinecolor": "#2a3f5f",
             "gridcolor": "white",
             "linecolor": "white",
             "minorgridcolor": "white",
             "startlinecolor": "#2a3f5f"
            },
            "baxis": {
             "endlinecolor": "#2a3f5f",
             "gridcolor": "white",
             "linecolor": "white",
             "minorgridcolor": "white",
             "startlinecolor": "#2a3f5f"
            },
            "type": "carpet"
           }
          ],
          "choropleth": [
           {
            "colorbar": {
             "outlinewidth": 0,
             "ticks": ""
            },
            "type": "choropleth"
           }
          ],
          "contour": [
           {
            "colorbar": {
             "outlinewidth": 0,
             "ticks": ""
            },
            "colorscale": [
             [
              0,
              "#0d0887"
             ],
             [
              0.1111111111111111,
              "#46039f"
             ],
             [
              0.2222222222222222,
              "#7201a8"
             ],
             [
              0.3333333333333333,
              "#9c179e"
             ],
             [
              0.4444444444444444,
              "#bd3786"
             ],
             [
              0.5555555555555556,
              "#d8576b"
             ],
             [
              0.6666666666666666,
              "#ed7953"
             ],
             [
              0.7777777777777778,
              "#fb9f3a"
             ],
             [
              0.8888888888888888,
              "#fdca26"
             ],
             [
              1,
              "#f0f921"
             ]
            ],
            "type": "contour"
           }
          ],
          "contourcarpet": [
           {
            "colorbar": {
             "outlinewidth": 0,
             "ticks": ""
            },
            "type": "contourcarpet"
           }
          ],
          "heatmap": [
           {
            "colorbar": {
             "outlinewidth": 0,
             "ticks": ""
            },
            "colorscale": [
             [
              0,
              "#0d0887"
             ],
             [
              0.1111111111111111,
              "#46039f"
             ],
             [
              0.2222222222222222,
              "#7201a8"
             ],
             [
              0.3333333333333333,
              "#9c179e"
             ],
             [
              0.4444444444444444,
              "#bd3786"
             ],
             [
              0.5555555555555556,
              "#d8576b"
             ],
             [
              0.6666666666666666,
              "#ed7953"
             ],
             [
              0.7777777777777778,
              "#fb9f3a"
             ],
             [
              0.8888888888888888,
              "#fdca26"
             ],
             [
              1,
              "#f0f921"
             ]
            ],
            "type": "heatmap"
           }
          ],
          "heatmapgl": [
           {
            "colorbar": {
             "outlinewidth": 0,
             "ticks": ""
            },
            "colorscale": [
             [
              0,
              "#0d0887"
             ],
             [
              0.1111111111111111,
              "#46039f"
             ],
             [
              0.2222222222222222,
              "#7201a8"
             ],
             [
              0.3333333333333333,
              "#9c179e"
             ],
             [
              0.4444444444444444,
              "#bd3786"
             ],
             [
              0.5555555555555556,
              "#d8576b"
             ],
             [
              0.6666666666666666,
              "#ed7953"
             ],
             [
              0.7777777777777778,
              "#fb9f3a"
             ],
             [
              0.8888888888888888,
              "#fdca26"
             ],
             [
              1,
              "#f0f921"
             ]
            ],
            "type": "heatmapgl"
           }
          ],
          "histogram": [
           {
            "marker": {
             "pattern": {
              "fillmode": "overlay",
              "size": 10,
              "solidity": 0.2
             }
            },
            "type": "histogram"
           }
          ],
          "histogram2d": [
           {
            "colorbar": {
             "outlinewidth": 0,
             "ticks": ""
            },
            "colorscale": [
             [
              0,
              "#0d0887"
             ],
             [
              0.1111111111111111,
              "#46039f"
             ],
             [
              0.2222222222222222,
              "#7201a8"
             ],
             [
              0.3333333333333333,
              "#9c179e"
             ],
             [
              0.4444444444444444,
              "#bd3786"
             ],
             [
              0.5555555555555556,
              "#d8576b"
             ],
             [
              0.6666666666666666,
              "#ed7953"
             ],
             [
              0.7777777777777778,
              "#fb9f3a"
             ],
             [
              0.8888888888888888,
              "#fdca26"
             ],
             [
              1,
              "#f0f921"
             ]
            ],
            "type": "histogram2d"
           }
          ],
          "histogram2dcontour": [
           {
            "colorbar": {
             "outlinewidth": 0,
             "ticks": ""
            },
            "colorscale": [
             [
              0,
              "#0d0887"
             ],
             [
              0.1111111111111111,
              "#46039f"
             ],
             [
              0.2222222222222222,
              "#7201a8"
             ],
             [
              0.3333333333333333,
              "#9c179e"
             ],
             [
              0.4444444444444444,
              "#bd3786"
             ],
             [
              0.5555555555555556,
              "#d8576b"
             ],
             [
              0.6666666666666666,
              "#ed7953"
             ],
             [
              0.7777777777777778,
              "#fb9f3a"
             ],
             [
              0.8888888888888888,
              "#fdca26"
             ],
             [
              1,
              "#f0f921"
             ]
            ],
            "type": "histogram2dcontour"
           }
          ],
          "mesh3d": [
           {
            "colorbar": {
             "outlinewidth": 0,
             "ticks": ""
            },
            "type": "mesh3d"
           }
          ],
          "parcoords": [
           {
            "line": {
             "colorbar": {
              "outlinewidth": 0,
              "ticks": ""
             }
            },
            "type": "parcoords"
           }
          ],
          "pie": [
           {
            "automargin": true,
            "type": "pie"
           }
          ],
          "scatter": [
           {
            "fillpattern": {
             "fillmode": "overlay",
             "size": 10,
             "solidity": 0.2
            },
            "type": "scatter"
           }
          ],
          "scatter3d": [
           {
            "line": {
             "colorbar": {
              "outlinewidth": 0,
              "ticks": ""
             }
            },
            "marker": {
             "colorbar": {
              "outlinewidth": 0,
              "ticks": ""
             }
            },
            "type": "scatter3d"
           }
          ],
          "scattercarpet": [
           {
            "marker": {
             "colorbar": {
              "outlinewidth": 0,
              "ticks": ""
             }
            },
            "type": "scattercarpet"
           }
          ],
          "scattergeo": [
           {
            "marker": {
             "colorbar": {
              "outlinewidth": 0,
              "ticks": ""
             }
            },
            "type": "scattergeo"
           }
          ],
          "scattergl": [
           {
            "marker": {
             "colorbar": {
              "outlinewidth": 0,
              "ticks": ""
             }
            },
            "type": "scattergl"
           }
          ],
          "scattermapbox": [
           {
            "marker": {
             "colorbar": {
              "outlinewidth": 0,
              "ticks": ""
             }
            },
            "type": "scattermapbox"
           }
          ],
          "scatterpolar": [
           {
            "marker": {
             "colorbar": {
              "outlinewidth": 0,
              "ticks": ""
             }
            },
            "type": "scatterpolar"
           }
          ],
          "scatterpolargl": [
           {
            "marker": {
             "colorbar": {
              "outlinewidth": 0,
              "ticks": ""
             }
            },
            "type": "scatterpolargl"
           }
          ],
          "scatterternary": [
           {
            "marker": {
             "colorbar": {
              "outlinewidth": 0,
              "ticks": ""
             }
            },
            "type": "scatterternary"
           }
          ],
          "surface": [
           {
            "colorbar": {
             "outlinewidth": 0,
             "ticks": ""
            },
            "colorscale": [
             [
              0,
              "#0d0887"
             ],
             [
              0.1111111111111111,
              "#46039f"
             ],
             [
              0.2222222222222222,
              "#7201a8"
             ],
             [
              0.3333333333333333,
              "#9c179e"
             ],
             [
              0.4444444444444444,
              "#bd3786"
             ],
             [
              0.5555555555555556,
              "#d8576b"
             ],
             [
              0.6666666666666666,
              "#ed7953"
             ],
             [
              0.7777777777777778,
              "#fb9f3a"
             ],
             [
              0.8888888888888888,
              "#fdca26"
             ],
             [
              1,
              "#f0f921"
             ]
            ],
            "type": "surface"
           }
          ],
          "table": [
           {
            "cells": {
             "fill": {
              "color": "#EBF0F8"
             },
             "line": {
              "color": "white"
             }
            },
            "header": {
             "fill": {
              "color": "#C8D4E3"
             },
             "line": {
              "color": "white"
             }
            },
            "type": "table"
           }
          ]
         },
         "layout": {
          "annotationdefaults": {
           "arrowcolor": "#2a3f5f",
           "arrowhead": 0,
           "arrowwidth": 1
          },
          "autotypenumbers": "strict",
          "coloraxis": {
           "colorbar": {
            "outlinewidth": 0,
            "ticks": ""
           }
          },
          "colorscale": {
           "diverging": [
            [
             0,
             "#8e0152"
            ],
            [
             0.1,
             "#c51b7d"
            ],
            [
             0.2,
             "#de77ae"
            ],
            [
             0.3,
             "#f1b6da"
            ],
            [
             0.4,
             "#fde0ef"
            ],
            [
             0.5,
             "#f7f7f7"
            ],
            [
             0.6,
             "#e6f5d0"
            ],
            [
             0.7,
             "#b8e186"
            ],
            [
             0.8,
             "#7fbc41"
            ],
            [
             0.9,
             "#4d9221"
            ],
            [
             1,
             "#276419"
            ]
           ],
           "sequential": [
            [
             0,
             "#0d0887"
            ],
            [
             0.1111111111111111,
             "#46039f"
            ],
            [
             0.2222222222222222,
             "#7201a8"
            ],
            [
             0.3333333333333333,
             "#9c179e"
            ],
            [
             0.4444444444444444,
             "#bd3786"
            ],
            [
             0.5555555555555556,
             "#d8576b"
            ],
            [
             0.6666666666666666,
             "#ed7953"
            ],
            [
             0.7777777777777778,
             "#fb9f3a"
            ],
            [
             0.8888888888888888,
             "#fdca26"
            ],
            [
             1,
             "#f0f921"
            ]
           ],
           "sequentialminus": [
            [
             0,
             "#0d0887"
            ],
            [
             0.1111111111111111,
             "#46039f"
            ],
            [
             0.2222222222222222,
             "#7201a8"
            ],
            [
             0.3333333333333333,
             "#9c179e"
            ],
            [
             0.4444444444444444,
             "#bd3786"
            ],
            [
             0.5555555555555556,
             "#d8576b"
            ],
            [
             0.6666666666666666,
             "#ed7953"
            ],
            [
             0.7777777777777778,
             "#fb9f3a"
            ],
            [
             0.8888888888888888,
             "#fdca26"
            ],
            [
             1,
             "#f0f921"
            ]
           ]
          },
          "colorway": [
           "#636efa",
           "#EF553B",
           "#00cc96",
           "#ab63fa",
           "#FFA15A",
           "#19d3f3",
           "#FF6692",
           "#B6E880",
           "#FF97FF",
           "#FECB52"
          ],
          "font": {
           "color": "#2a3f5f"
          },
          "geo": {
           "bgcolor": "white",
           "lakecolor": "white",
           "landcolor": "#E5ECF6",
           "showlakes": true,
           "showland": true,
           "subunitcolor": "white"
          },
          "hoverlabel": {
           "align": "left"
          },
          "hovermode": "closest",
          "mapbox": {
           "style": "light"
          },
          "paper_bgcolor": "white",
          "plot_bgcolor": "#E5ECF6",
          "polar": {
           "angularaxis": {
            "gridcolor": "white",
            "linecolor": "white",
            "ticks": ""
           },
           "bgcolor": "#E5ECF6",
           "radialaxis": {
            "gridcolor": "white",
            "linecolor": "white",
            "ticks": ""
           }
          },
          "scene": {
           "xaxis": {
            "backgroundcolor": "#E5ECF6",
            "gridcolor": "white",
            "gridwidth": 2,
            "linecolor": "white",
            "showbackground": true,
            "ticks": "",
            "zerolinecolor": "white"
           },
           "yaxis": {
            "backgroundcolor": "#E5ECF6",
            "gridcolor": "white",
            "gridwidth": 2,
            "linecolor": "white",
            "showbackground": true,
            "ticks": "",
            "zerolinecolor": "white"
           },
           "zaxis": {
            "backgroundcolor": "#E5ECF6",
            "gridcolor": "white",
            "gridwidth": 2,
            "linecolor": "white",
            "showbackground": true,
            "ticks": "",
            "zerolinecolor": "white"
           }
          },
          "shapedefaults": {
           "line": {
            "color": "#2a3f5f"
           }
          },
          "ternary": {
           "aaxis": {
            "gridcolor": "white",
            "linecolor": "white",
            "ticks": ""
           },
           "baxis": {
            "gridcolor": "white",
            "linecolor": "white",
            "ticks": ""
           },
           "bgcolor": "#E5ECF6",
           "caxis": {
            "gridcolor": "white",
            "linecolor": "white",
            "ticks": ""
           }
          },
          "title": {
           "x": 0.05
          },
          "xaxis": {
           "automargin": true,
           "gridcolor": "white",
           "linecolor": "white",
           "ticks": "",
           "title": {
            "standoff": 15
           },
           "zerolinecolor": "white",
           "zerolinewidth": 2
          },
          "yaxis": {
           "automargin": true,
           "gridcolor": "white",
           "linecolor": "white",
           "ticks": "",
           "title": {
            "standoff": 15
           },
           "zerolinecolor": "white",
           "zerolinewidth": 2
          }
         }
        },
        "title": {
         "text": ""
        },
        "xaxis": {
         "anchor": "y",
         "domain": [
          0,
          1
         ],
         "showgrid": false,
         "showline": false,
         "tickmode": "array",
         "ticktext": [
          "January",
          "February",
          "March",
          "April",
          "May",
          "June",
          "July",
          "August",
          "September",
          "October",
          "November",
          "December"
         ],
         "tickvals": [
          1.5,
          5.909090909090909,
          10.318181818181818,
          14.727272727272727,
          19.136363636363637,
          23.545454545454547,
          27.954545454545453,
          32.36363636363636,
          36.77272727272727,
          41.18181818181818,
          45.59090909090909,
          50
         ],
         "zeroline": false
        },
        "xaxis2": {
         "anchor": "y2",
         "domain": [
          0,
          1
         ],
         "showgrid": false,
         "showline": false,
         "tickmode": "array",
         "ticktext": [
          "January",
          "February",
          "March",
          "April",
          "May",
          "June",
          "July",
          "August",
          "September",
          "October",
          "November",
          "December"
         ],
         "tickvals": [
          1.5,
          5.909090909090909,
          10.318181818181818,
          14.727272727272727,
          19.136363636363637,
          23.545454545454547,
          27.954545454545453,
          32.36363636363636,
          36.77272727272727,
          41.18181818181818,
          45.59090909090909,
          50
         ],
         "zeroline": false
        },
        "xaxis3": {
         "anchor": "y3",
         "domain": [
          0,
          1
         ],
         "showgrid": false,
         "showline": false,
         "tickmode": "array",
         "ticktext": [
          "January",
          "February",
          "March",
          "April",
          "May",
          "June",
          "July",
          "August",
          "September",
          "October",
          "November",
          "December"
         ],
         "tickvals": [
          1.5,
          5.909090909090909,
          10.318181818181818,
          14.727272727272727,
          19.136363636363637,
          23.545454545454547,
          27.954545454545453,
          32.36363636363636,
          36.77272727272727,
          41.18181818181818,
          45.59090909090909,
          50
         ],
         "zeroline": false
        },
        "yaxis": {
         "anchor": "x",
         "autorange": "reversed",
         "domain": [
          0.72,
          1
         ],
         "showgrid": false,
         "showline": false,
         "tickmode": "array",
         "ticktext": [
          "Mon",
          "Tue",
          "Wed",
          "Thu",
          "Fri",
          "Sat",
          "Sun"
         ],
         "tickvals": [
          0,
          1,
          2,
          3,
          4,
          5,
          6
         ],
         "zeroline": false
        },
        "yaxis2": {
         "anchor": "x2",
         "autorange": "reversed",
         "domain": [
          0.36,
          0.6399999999999999
         ],
         "showgrid": false,
         "showline": false,
         "tickmode": "array",
         "ticktext": [
          "Mon",
          "Tue",
          "Wed",
          "Thu",
          "Fri",
          "Sat",
          "Sun"
         ],
         "tickvals": [
          0,
          1,
          2,
          3,
          4,
          5,
          6
         ],
         "zeroline": false
        },
        "yaxis3": {
         "anchor": "x3",
         "autorange": "reversed",
         "domain": [
          0,
          0.27999999999999997
         ],
         "showgrid": false,
         "showline": false,
         "tickmode": "array",
         "ticktext": [
          "Mon",
          "Tue",
          "Wed",
          "Thu",
          "Fri",
          "Sat",
          "Sun"
         ],
         "tickvals": [
          0,
          1,
          2,
          3,
          4,
          5,
          6
         ],
         "zeroline": false
        }
       }
      },
      "text/html": [
       "<div>                            <div id=\"0db4218d-e525-4537-8a4b-f45b31bbad3b\" class=\"plotly-graph-div\" style=\"height:450px; width:100%;\"></div>            <script type=\"text/javascript\">                require([\"plotly\"], function(Plotly) {                    window.PLOTLYENV=window.PLOTLYENV || {};                                    if (document.getElementById(\"0db4218d-e525-4537-8a4b-f45b31bbad3b\")) {                    Plotly.newPlot(                        \"0db4218d-e525-4537-8a4b-f45b31bbad3b\",                        [{\"colorscale\":[[0.0,\"rgb(247,252,245)\"],[0.125,\"rgb(229,245,224)\"],[0.25,\"rgb(199,233,192)\"],[0.375,\"rgb(161,217,155)\"],[0.5,\"rgb(116,196,118)\"],[0.625,\"rgb(65,171,93)\"],[0.75,\"rgb(35,139,69)\"],[0.875,\"rgb(0,109,44)\"],[1.0,\"rgb(0,68,27)\"]],\"customdata\":[[\"2021-01-01\",\"y\"],[\"2021-01-02\",\"y\"],[\"2021-01-03\",\"y\"],[\"2021-01-04\",\"y\"],[\"2021-01-05\",\"y\"],[\"2021-01-06\",\"y\"],[\"2021-01-07\",\"y\"],[\"2021-01-08\",\"y\"],[\"2021-01-09\",\"y\"],[\"2021-01-10\",\"y\"],[\"2021-01-11\",\"y\"],[\"2021-01-12\",\"y\"],[\"2021-01-13\",\"y\"],[\"2021-01-14\",\"y\"],[\"2021-01-15\",\"y\"],[\"2021-01-16\",\"y\"],[\"2021-01-17\",\"y\"],[\"2021-01-18\",\"y\"],[\"2021-01-19\",\"y\"],[\"2021-01-20\",\"y\"],[\"2021-01-21\",\"y\"],[\"2021-01-22\",\"y\"],[\"2021-01-23\",\"y\"],[\"2021-01-24\",\"y\"],[\"2021-01-25\",\"y\"],[\"2021-01-26\",\"y\"],[\"2021-01-27\",\"y\"],[\"2021-01-28\",\"y\"],[\"2021-01-29\",\"y\"],[\"2021-01-30\",\"y\"],[\"2021-01-31\",\"y\"],[\"2021-02-01\",\"y\"],[\"2021-02-02\",\"y\"],[\"2021-02-03\",\"y\"],[\"2021-02-04\",\"y\"],[\"2021-02-05\",\"y\"],[\"2021-02-06\",\"y\"],[\"2021-02-07\",\"y\"],[\"2021-02-08\",\"y\"],[\"2021-02-09\",\"y\"],[\"2021-02-10\",\"y\"],[\"2021-02-11\",\"y\"],[\"2021-02-12\",\"y\"],[\"2021-02-13\",\"y\"],[\"2021-02-14\",\"y\"],[\"2021-02-15\",\"y\"],[\"2021-02-16\",\"y\"],[\"2021-02-17\",\"y\"],[\"2021-02-18\",\"y\"],[\"2021-02-19\",\"y\"],[\"2021-02-20\",\"y\"],[\"2021-02-21\",\"y\"],[\"2021-02-22\",\"y\"],[\"2021-02-23\",\"y\"],[\"2021-02-24\",\"y\"],[\"2021-02-25\",\"y\"],[\"2021-02-26\",\"y\"],[\"2021-02-27\",\"y\"],[\"2021-02-28\",\"y\"],[\"2021-03-01\",\"y\"],[\"2021-03-02\",\"y\"],[\"2021-03-03\",\"y\"],[\"2021-03-04\",\"y\"],[\"2021-03-05\",\"y\"],[\"2021-03-06\",\"y\"],[\"2021-03-07\",\"y\"],[\"2021-03-08\",\"y\"],[\"2021-03-09\",\"y\"],[\"2021-03-10\",\"y\"],[\"2021-03-11\",\"y\"],[\"2021-03-12\",\"y\"],[\"2021-03-13\",\"y\"],[\"2021-03-14\",\"y\"],[\"2021-03-15\",\"y\"],[\"2021-03-16\",\"y\"],[\"2021-03-17\",\"y\"],[\"2021-03-18\",\"y\"],[\"2021-03-19\",\"y\"],[\"2021-03-20\",\"y\"],[\"2021-03-21\",\"y\"],[\"2021-03-22\",\"y\"],[\"2021-03-23\",\"y\"],[\"2021-03-24\",\"y\"],[\"2021-03-25\",\"y\"],[\"2021-03-26\",\"y\"],[\"2021-03-27\",\"y\"],[\"2021-03-28\",\"y\"],[\"2021-03-29\",\"y\"],[\"2021-03-30\",\"y\"],[\"2021-03-31\",\"y\"],[\"2021-04-01\",\"y\"],[\"2021-04-02\",\"y\"],[\"2021-04-03\",\"y\"],[\"2021-04-04\",\"y\"],[\"2021-04-05\",\"y\"],[\"2021-04-06\",\"y\"],[\"2021-04-07\",\"y\"],[\"2021-04-08\",\"y\"],[\"2021-04-09\",\"y\"],[\"2021-04-10\",\"y\"],[\"2021-04-11\",\"y\"],[\"2021-04-12\",\"y\"],[\"2021-04-13\",\"y\"],[\"2021-04-14\",\"y\"],[\"2021-04-15\",\"y\"],[\"2021-04-16\",\"y\"],[\"2021-04-17\",\"y\"],[\"2021-04-18\",\"y\"],[\"2021-04-19\",\"y\"],[\"2021-04-20\",\"y\"],[\"2021-04-21\",\"y\"],[\"2021-04-22\",\"y\"],[\"2021-04-23\",\"y\"],[\"2021-04-24\",\"y\"],[\"2021-04-25\",\"y\"],[\"2021-04-26\",\"y\"],[\"2021-04-27\",\"y\"],[\"2021-04-28\",\"y\"],[\"2021-04-29\",\"y\"],[\"2021-04-30\",\"y\"],[\"2021-05-01\",\"y\"],[\"2021-05-02\",\"y\"],[\"2021-05-03\",\"y\"],[\"2021-05-04\",\"y\"],[\"2021-05-05\",\"y\"],[\"2021-05-06\",\"y\"],[\"2021-05-07\",\"y\"],[\"2021-05-08\",\"y\"],[\"2021-05-09\",\"y\"],[\"2021-05-10\",\"y\"],[\"2021-05-11\",\"y\"],[\"2021-05-12\",\"y\"],[\"2021-05-13\",\"y\"],[\"2021-05-14\",\"y\"],[\"2021-05-15\",\"y\"],[\"2021-05-16\",\"y\"],[\"2021-05-17\",\"y\"],[\"2021-05-18\",\"y\"],[\"2021-05-19\",\"y\"],[\"2021-05-20\",\"y\"],[\"2021-05-21\",\"y\"],[\"2021-05-22\",\"y\"],[\"2021-05-23\",\"y\"],[\"2021-05-24\",\"y\"],[\"2021-05-25\",\"y\"],[\"2021-05-26\",\"y\"],[\"2021-05-27\",\"y\"],[\"2021-05-28\",\"y\"],[\"2021-05-29\",\"y\"],[\"2021-05-30\",\"y\"],[\"2021-05-31\",\"y\"],[\"2021-06-01\",\"y\"],[\"2021-06-02\",\"y\"],[\"2021-06-03\",\"y\"],[\"2021-06-04\",\"y\"],[\"2021-06-05\",\"y\"],[\"2021-06-06\",\"y\"],[\"2021-06-07\",\"y\"],[\"2021-06-08\",\"y\"],[\"2021-06-09\",\"y\"],[\"2021-06-10\",\"y\"],[\"2021-06-11\",\"y\"],[\"2021-06-12\",\"y\"],[\"2021-06-13\",\"y\"],[\"2021-06-14\",\"y\"],[\"2021-06-15\",\"y\"],[\"2021-06-16\",\"y\"],[\"2021-06-17\",\"y\"],[\"2021-06-18\",\"y\"],[\"2021-06-19\",\"y\"],[\"2021-06-20\",\"y\"],[\"2021-06-21\",\"y\"],[\"2021-06-22\",\"y\"],[\"2021-06-23\",\"y\"],[\"2021-06-24\",\"y\"],[\"2021-06-25\",\"y\"],[\"2021-06-26\",\"y\"],[\"2021-06-27\",\"y\"],[\"2021-06-28\",\"y\"],[\"2021-06-29\",\"y\"],[\"2021-06-30\",\"y\"],[\"2021-07-01\",\"y\"],[\"2021-07-02\",\"y\"],[\"2021-07-03\",\"y\"],[\"2021-07-04\",\"y\"],[\"2021-07-05\",\"y\"],[\"2021-07-06\",\"y\"],[\"2021-07-07\",\"y\"],[\"2021-07-08\",\"y\"],[\"2021-07-09\",\"y\"],[\"2021-07-10\",\"y\"],[\"2021-07-11\",\"y\"],[\"2021-07-12\",\"y\"],[\"2021-07-13\",\"y\"],[\"2021-07-14\",\"y\"],[\"2021-07-15\",\"y\"],[\"2021-07-16\",\"y\"],[\"2021-07-17\",\"y\"],[\"2021-07-18\",\"y\"],[\"2021-07-19\",\"y\"],[\"2021-07-20\",\"y\"],[\"2021-07-21\",\"y\"],[\"2021-07-22\",\"y\"],[\"2021-07-23\",\"y\"],[\"2021-07-24\",\"y\"],[\"2021-07-25\",\"y\"],[\"2021-07-26\",\"y\"],[\"2021-07-27\",\"y\"],[\"2021-07-28\",\"y\"],[\"2021-07-29\",\"y\"],[\"2021-07-30\",\"y\"],[\"2021-07-31\",\"y\"],[\"2021-08-01\",\"y\"],[\"2021-08-02\",\"y\"],[\"2021-08-03\",\"y\"],[\"2021-08-04\",\"y\"],[\"2021-08-05\",\"y\"],[\"2021-08-06\",\"y\"],[\"2021-08-07\",\"y\"],[\"2021-08-08\",\"y\"],[\"2021-08-09\",\"y\"],[\"2021-08-10\",\"y\"],[\"2021-08-11\",\"y\"],[\"2021-08-12\",\"y\"],[\"2021-08-13\",\"y\"],[\"2021-08-14\",\"y\"],[\"2021-08-15\",\"y\"],[\"2021-08-16\",\"y\"],[\"2021-08-17\",\"y\"],[\"2021-08-18\",\"y\"],[\"2021-08-19\",\"y\"],[\"2021-08-20\",\"y\"],[\"2021-08-21\",\"y\"],[\"2021-08-22\",\"y\"],[\"2021-08-23\",\"y\"],[\"2021-08-24\",\"y\"],[\"2021-08-25\",\"y\"],[\"2021-08-26\",\"y\"],[\"2021-08-27\",\"y\"],[\"2021-08-28\",\"y\"],[\"2021-08-29\",\"y\"],[\"2021-08-30\",\"y\"],[\"2021-08-31\",\"y\"],[\"2021-09-01\",\"y\"],[\"2021-09-02\",\"y\"],[\"2021-09-03\",\"y\"],[\"2021-09-04\",\"y\"],[\"2021-09-05\",\"y\"],[\"2021-09-06\",\"y\"],[\"2021-09-07\",\"y\"],[\"2021-09-08\",\"y\"],[\"2021-09-09\",\"y\"],[\"2021-09-10\",\"y\"],[\"2021-09-11\",\"y\"],[\"2021-09-12\",\"y\"],[\"2021-09-13\",\"y\"],[\"2021-09-14\",\"y\"],[\"2021-09-15\",\"y\"],[\"2021-09-16\",\"y\"],[\"2021-09-17\",\"y\"],[\"2021-09-18\",\"y\"],[\"2021-09-19\",\"y\"],[\"2021-09-20\",\"y\"],[\"2021-09-21\",\"y\"],[\"2021-09-22\",\"y\"],[\"2021-09-23\",\"y\"],[\"2021-09-24\",\"y\"],[\"2021-09-25\",\"y\"],[\"2021-09-26\",\"y\"],[\"2021-09-27\",\"y\"],[\"2021-09-28\",\"y\"],[\"2021-09-29\",\"y\"],[\"2021-09-30\",\"y\"],[\"2021-10-01\",\"y\"],[\"2021-10-02\",\"y\"],[\"2021-10-03\",\"y\"],[\"2021-10-04\",\"y\"],[\"2021-10-05\",\"y\"],[\"2021-10-06\",\"y\"],[\"2021-10-07\",\"y\"],[\"2021-10-08\",\"y\"],[\"2021-10-09\",\"y\"],[\"2021-10-10\",\"y\"],[\"2021-10-11\",\"y\"],[\"2021-10-12\",\"y\"],[\"2021-10-13\",\"y\"],[\"2021-10-14\",\"y\"],[\"2021-10-15\",\"y\"],[\"2021-10-16\",\"y\"],[\"2021-10-17\",\"y\"],[\"2021-10-18\",\"y\"],[\"2021-10-19\",\"y\"],[\"2021-10-20\",\"y\"],[\"2021-10-21\",\"y\"],[\"2021-10-22\",\"y\"],[\"2021-10-23\",\"y\"],[\"2021-10-24\",\"y\"],[\"2021-10-25\",\"y\"],[\"2021-10-26\",\"y\"],[\"2021-10-27\",\"y\"],[\"2021-10-28\",\"y\"],[\"2021-10-29\",\"y\"],[\"2021-10-30\",\"y\"],[\"2021-10-31\",\"y\"],[\"2021-11-01\",\"y\"],[\"2021-11-02\",\"y\"],[\"2021-11-03\",\"y\"],[\"2021-11-04\",\"y\"],[\"2021-11-05\",\"y\"],[\"2021-11-06\",\"y\"],[\"2021-11-07\",\"y\"],[\"2021-11-08\",\"y\"],[\"2021-11-09\",\"y\"],[\"2021-11-10\",\"y\"],[\"2021-11-11\",\"y\"],[\"2021-11-12\",\"y\"],[\"2021-11-13\",\"y\"],[\"2021-11-14\",\"y\"],[\"2021-11-15\",\"y\"],[\"2021-11-16\",\"y\"],[\"2021-11-17\",\"y\"],[\"2021-11-18\",\"y\"],[\"2021-11-19\",\"y\"],[\"2021-11-20\",\"y\"],[\"2021-11-21\",\"y\"],[\"2021-11-22\",\"y\"],[\"2021-11-23\",\"y\"],[\"2021-11-24\",\"y\"],[\"2021-11-25\",\"y\"],[\"2021-11-26\",\"y\"],[\"2021-11-27\",\"y\"],[\"2021-11-28\",\"y\"],[\"2021-11-29\",\"y\"],[\"2021-11-30\",\"y\"],[\"2021-12-01\",\"y\"],[\"2021-12-02\",\"y\"],[\"2021-12-03\",\"y\"],[\"2021-12-04\",\"y\"],[\"2021-12-05\",\"y\"],[\"2021-12-06\",\"y\"],[\"2021-12-07\",\"y\"],[\"2021-12-08\",\"y\"],[\"2021-12-09\",\"y\"],[\"2021-12-10\",\"y\"],[\"2021-12-11\",\"y\"],[\"2021-12-12\",\"y\"],[\"2021-12-13\",\"y\"],[\"2021-12-14\",\"y\"],[\"2021-12-15\",\"y\"],[\"2021-12-16\",\"y\"],[\"2021-12-17\",\"y\"],[\"2021-12-18\",\"y\"],[\"2021-12-19\",\"y\"],[\"2021-12-20\",\"y\"],[\"2021-12-21\",\"y\"],[\"2021-12-22\",\"y\"],[\"2021-12-23\",\"y\"],[\"2021-12-24\",\"y\"],[\"2021-12-25\",\"y\"],[\"2021-12-26\",\"y\"],[\"2021-12-27\",\"y\"],[\"2021-12-28\",\"y\"],[\"2021-12-29\",\"y\"],[\"2021-12-30\",\"y\"],[\"2021-12-31\",\"y\"]],\"hovertemplate\":\"%{customdata[0]} \\u003cbr\\u003eWeek=%{x} \\u003cbr\\u003e%{customdata[1]}=%{z}\",\"name\":\"2021\",\"showscale\":false,\"x\":[0,0,0,1,1,1,1,1,1,1,2,2,2,2,2,2,2,3,3,3,3,3,3,3,4,4,4,4,4,4,4,5,5,5,5,5,5,5,6,6,6,6,6,6,6,7,7,7,7,7,7,7,8,8,8,8,8,8,8,9,9,9,9,9,9,9,10,10,10,10,10,10,10,11,11,11,11,11,11,11,12,12,12,12,12,12,12,13,13,13,13,13,13,13,14,14,14,14,14,14,14,15,15,15,15,15,15,15,16,16,16,16,16,16,16,17,17,17,17,17,17,17,18,18,18,18,18,18,18,19,19,19,19,19,19,19,20,20,20,20,20,20,20,21,21,21,21,21,21,21,22,22,22,22,22,22,22,23,23,23,23,23,23,23,24,24,24,24,24,24,24,25,25,25,25,25,25,25,26,26,26,26,26,26,26,27,27,27,27,27,27,27,28,28,28,28,28,28,28,29,29,29,29,29,29,29,30,30,30,30,30,30,30,31,31,31,31,31,31,31,32,32,32,32,32,32,32,33,33,33,33,33,33,33,34,34,34,34,34,34,34,35,35,35,35,35,35,35,36,36,36,36,36,36,36,37,37,37,37,37,37,37,38,38,38,38,38,38,38,39,39,39,39,39,39,39,40,40,40,40,40,40,40,41,41,41,41,41,41,41,42,42,42,42,42,42,42,43,43,43,43,43,43,43,44,44,44,44,44,44,44,45,45,45,45,45,45,45,46,46,46,46,46,46,46,47,47,47,47,47,47,47,48,48,48,48,48,48,48,49,49,49,49,49,49,49,50,50,50,50,50,50,50,51,51,51,51,51,51,51,52,52,52,52,52],\"xgap\":1,\"y\":[4,5,6,0,1,2,3,4,5,6,0,1,2,3,4,5,6,0,1,2,3,4,5,6,0,1,2,3,4,5,6,0,1,2,3,4,5,6,0,1,2,3,4,5,6,0,1,2,3,4,5,6,0,1,2,3,4,5,6,0,1,2,3,4,5,6,0,1,2,3,4,5,6,0,1,2,3,4,5,6,0,1,2,3,4,5,6,0,1,2,3,4,5,6,0,1,2,3,4,5,6,0,1,2,3,4,5,6,0,1,2,3,4,5,6,0,1,2,3,4,5,6,0,1,2,3,4,5,6,0,1,2,3,4,5,6,0,1,2,3,4,5,6,0,1,2,3,4,5,6,0,1,2,3,4,5,6,0,1,2,3,4,5,6,0,1,2,3,4,5,6,0,1,2,3,4,5,6,0,1,2,3,4,5,6,0,1,2,3,4,5,6,0,1,2,3,4,5,6,0,1,2,3,4,5,6,0,1,2,3,4,5,6,0,1,2,3,4,5,6,0,1,2,3,4,5,6,0,1,2,3,4,5,6,0,1,2,3,4,5,6,0,1,2,3,4,5,6,0,1,2,3,4,5,6,0,1,2,3,4,5,6,0,1,2,3,4,5,6,0,1,2,3,4,5,6,0,1,2,3,4,5,6,0,1,2,3,4,5,6,0,1,2,3,4,5,6,0,1,2,3,4,5,6,0,1,2,3,4,5,6,0,1,2,3,4,5,6,0,1,2,3,4,5,6,0,1,2,3,4,5,6,0,1,2,3,4,5,6,0,1,2,3,4,5,6,0,1,2,3,4,5,6,0,1,2,3,4,5,6,0,1,2,3,4],\"ygap\":1,\"z\":[null,null,null,null,null,null,null,null,null,null,115.0,115.0,115.0,115.0,115.0,115.0,115.0,115.0,115.0,115.0,115.0,115.0,115.0,115.0,115.0,115.0,115.0,115.0,115.0,null,null,112.0,112.0,112.0,112.0,112.0,112.0,112.0,112.0,112.0,112.0,112.0,112.0,112.0,112.0,112.0,112.0,112.0,112.0,112.0,null,null,36.0,36.0,36.0,36.0,36.0,null,null,76.0,76.0,76.0,76.0,76.0,76.0,76.0,76.0,76.0,76.0,76.0,76.0,null,null,100.0,100.0,100.0,100.0,100.0,100.0,100.0,100.0,100.0,100.0,100.0,100.0,100.0,100.0,100.0,100.0,100.0,14.0,14.0,null,null,null,113.0,113.0,113.0,113.0,113.0,113.0,113.0,113.0,113.0,113.0,113.0,113.0,113.0,113.0,113.0,113.0,113.0,113.0,null,null,35.0,35.0,35.0,35.0,35.0,null,null,null,null,null,null,null,null,null,null,null,null,null,null,null,null,null,null,null,null,null,null,null,null,7.0,28.0,28.0,28.0,28.0,28.0,28.0,137.5,137.5,137.5,137.5,137.5,137.5,137.5,137.5,137.5,137.5,137.5,137.5,137.5,137.5,137.5,137.5,137.5,137.5,137.5,137.5,137.5,137.5,137.5,137.5,137.5,null,null,null,null,null,null,null,null,null,null,null,null,null,null,null,null,null,null,null,null,null,null,null,null,null,null,null,null,null,null,null,null,null,15.0,15.0,null,36.0,36.0,36.0,36.0,36.0,36.0,null,null,63.0,63.0,63.0,63.0,63.0,63.0,63.0,63.0,63.0,63.0,63.0,null,null,null,null,null,null,null,null,null,null,null,null,null,null,null,null,null,115.0,115.0,115.0,115.0,115.0,115.0,115.0,115.0,115.0,115.0,115.0,115.0,115.0,115.0,115.0,115.0,115.0,115.0,115.0,null,null,32.0,32.0,32.0,32.0,80.0,80.0,80.0,80.0,80.0,80.0,80.0,80.0,80.0,80.0,80.0,80.0,80.0,80.0,80.0,null,null,78.0,78.0,78.0,78.0,78.0,78.0,78.0,78.0,78.0,78.0,78.0,78.0,null,null,37.0,37.0,37.0,37.0,37.0,null,null,102.0,102.0,102.0,102.0,102.0,102.0,102.0,102.0,102.0,102.0,102.0,102.0,102.0,102.0,102.0,102.0,102.0,102.0,102.0,null,null,16.0,16.0,98.0,98.0,98.0,98.0,98.0,98.0,98.0,98.0,98.0,98.0,98.0,98.0,98.0,98.0,98.0,98.0,98.0,null,null,null,null,null,null,null,null,null,null,null,null,null,null],\"type\":\"heatmap\",\"xaxis\":\"x\",\"yaxis\":\"y\",\"zmax\":152.0,\"zmin\":6.5},{\"hoverinfo\":\"skip\",\"line\":{\"color\":\"#9e9e9e\",\"width\":1},\"mode\":\"lines\",\"x\":[-0.5,-0.5],\"y\":[3.5,6.5],\"type\":\"scatter\",\"xaxis\":\"x\",\"yaxis\":\"y\"},{\"hoverinfo\":\"skip\",\"line\":{\"color\":\"#9e9e9e\",\"width\":1},\"mode\":\"lines\",\"x\":[-0.5,0.5],\"y\":[3.5,3.5],\"type\":\"scatter\",\"xaxis\":\"x\",\"yaxis\":\"y\"},{\"hoverinfo\":\"skip\",\"line\":{\"color\":\"#9e9e9e\",\"width\":1},\"mode\":\"lines\",\"x\":[0.5,0.5],\"y\":[3.5,-0.5],\"type\":\"scatter\",\"xaxis\":\"x\",\"yaxis\":\"y\"},{\"hoverinfo\":\"skip\",\"line\":{\"color\":\"#9e9e9e\",\"width\":1},\"mode\":\"lines\",\"x\":[4.5,4.5],\"y\":[-0.5,6.5],\"type\":\"scatter\",\"xaxis\":\"x\",\"yaxis\":\"y\"},{\"hoverinfo\":\"skip\",\"line\":{\"color\":\"#9e9e9e\",\"width\":1},\"mode\":\"lines\",\"x\":[8.5,8.5],\"y\":[-0.5,6.5],\"type\":\"scatter\",\"xaxis\":\"x\",\"yaxis\":\"y\"},{\"hoverinfo\":\"skip\",\"line\":{\"color\":\"#9e9e9e\",\"width\":1},\"mode\":\"lines\",\"x\":[12.5,12.5],\"y\":[2.5,6.5],\"type\":\"scatter\",\"xaxis\":\"x\",\"yaxis\":\"y\"},{\"hoverinfo\":\"skip\",\"line\":{\"color\":\"#9e9e9e\",\"width\":1},\"mode\":\"lines\",\"x\":[12.5,13.5],\"y\":[2.5,2.5],\"type\":\"scatter\",\"xaxis\":\"x\",\"yaxis\":\"y\"},{\"hoverinfo\":\"skip\",\"line\":{\"color\":\"#9e9e9e\",\"width\":1},\"mode\":\"lines\",\"x\":[13.5,13.5],\"y\":[2.5,-0.5],\"type\":\"scatter\",\"xaxis\":\"x\",\"yaxis\":\"y\"},{\"hoverinfo\":\"skip\",\"line\":{\"color\":\"#9e9e9e\",\"width\":1},\"mode\":\"lines\",\"x\":[16.5,16.5],\"y\":[4.5,6.5],\"type\":\"scatter\",\"xaxis\":\"x\",\"yaxis\":\"y\"},{\"hoverinfo\":\"skip\",\"line\":{\"color\":\"#9e9e9e\",\"width\":1},\"mode\":\"lines\",\"x\":[16.5,17.5],\"y\":[4.5,4.5],\"type\":\"scatter\",\"xaxis\":\"x\",\"yaxis\":\"y\"},{\"hoverinfo\":\"skip\",\"line\":{\"color\":\"#9e9e9e\",\"width\":1},\"mode\":\"lines\",\"x\":[17.5,17.5],\"y\":[4.5,-0.5],\"type\":\"scatter\",\"xaxis\":\"x\",\"yaxis\":\"y\"},{\"hoverinfo\":\"skip\",\"line\":{\"color\":\"#9e9e9e\",\"width\":1},\"mode\":\"lines\",\"x\":[21.5,21.5],\"y\":[0.5,6.5],\"type\":\"scatter\",\"xaxis\":\"x\",\"yaxis\":\"y\"},{\"hoverinfo\":\"skip\",\"line\":{\"color\":\"#9e9e9e\",\"width\":1},\"mode\":\"lines\",\"x\":[21.5,22.5],\"y\":[0.5,0.5],\"type\":\"scatter\",\"xaxis\":\"x\",\"yaxis\":\"y\"},{\"hoverinfo\":\"skip\",\"line\":{\"color\":\"#9e9e9e\",\"width\":1},\"mode\":\"lines\",\"x\":[22.5,22.5],\"y\":[0.5,-0.5],\"type\":\"scatter\",\"xaxis\":\"x\",\"yaxis\":\"y\"},{\"hoverinfo\":\"skip\",\"line\":{\"color\":\"#9e9e9e\",\"width\":1},\"mode\":\"lines\",\"x\":[25.5,25.5],\"y\":[2.5,6.5],\"type\":\"scatter\",\"xaxis\":\"x\",\"yaxis\":\"y\"},{\"hoverinfo\":\"skip\",\"line\":{\"color\":\"#9e9e9e\",\"width\":1},\"mode\":\"lines\",\"x\":[25.5,26.5],\"y\":[2.5,2.5],\"type\":\"scatter\",\"xaxis\":\"x\",\"yaxis\":\"y\"},{\"hoverinfo\":\"skip\",\"line\":{\"color\":\"#9e9e9e\",\"width\":1},\"mode\":\"lines\",\"x\":[26.5,26.5],\"y\":[2.5,-0.5],\"type\":\"scatter\",\"xaxis\":\"x\",\"yaxis\":\"y\"},{\"hoverinfo\":\"skip\",\"line\":{\"color\":\"#9e9e9e\",\"width\":1},\"mode\":\"lines\",\"x\":[29.5,29.5],\"y\":[5.5,6.5],\"type\":\"scatter\",\"xaxis\":\"x\",\"yaxis\":\"y\"},{\"hoverinfo\":\"skip\",\"line\":{\"color\":\"#9e9e9e\",\"width\":1},\"mode\":\"lines\",\"x\":[29.5,30.5],\"y\":[5.5,5.5],\"type\":\"scatter\",\"xaxis\":\"x\",\"yaxis\":\"y\"},{\"hoverinfo\":\"skip\",\"line\":{\"color\":\"#9e9e9e\",\"width\":1},\"mode\":\"lines\",\"x\":[30.5,30.5],\"y\":[5.5,-0.5],\"type\":\"scatter\",\"xaxis\":\"x\",\"yaxis\":\"y\"},{\"hoverinfo\":\"skip\",\"line\":{\"color\":\"#9e9e9e\",\"width\":1},\"mode\":\"lines\",\"x\":[34.5,34.5],\"y\":[1.5,6.5],\"type\":\"scatter\",\"xaxis\":\"x\",\"yaxis\":\"y\"},{\"hoverinfo\":\"skip\",\"line\":{\"color\":\"#9e9e9e\",\"width\":1},\"mode\":\"lines\",\"x\":[34.5,35.5],\"y\":[1.5,1.5],\"type\":\"scatter\",\"xaxis\":\"x\",\"yaxis\":\"y\"},{\"hoverinfo\":\"skip\",\"line\":{\"color\":\"#9e9e9e\",\"width\":1},\"mode\":\"lines\",\"x\":[35.5,35.5],\"y\":[1.5,-0.5],\"type\":\"scatter\",\"xaxis\":\"x\",\"yaxis\":\"y\"},{\"hoverinfo\":\"skip\",\"line\":{\"color\":\"#9e9e9e\",\"width\":1},\"mode\":\"lines\",\"x\":[38.5,38.5],\"y\":[3.5,6.5],\"type\":\"scatter\",\"xaxis\":\"x\",\"yaxis\":\"y\"},{\"hoverinfo\":\"skip\",\"line\":{\"color\":\"#9e9e9e\",\"width\":1},\"mode\":\"lines\",\"x\":[38.5,39.5],\"y\":[3.5,3.5],\"type\":\"scatter\",\"xaxis\":\"x\",\"yaxis\":\"y\"},{\"hoverinfo\":\"skip\",\"line\":{\"color\":\"#9e9e9e\",\"width\":1},\"mode\":\"lines\",\"x\":[39.5,39.5],\"y\":[3.5,-0.5],\"type\":\"scatter\",\"xaxis\":\"x\",\"yaxis\":\"y\"},{\"hoverinfo\":\"skip\",\"line\":{\"color\":\"#9e9e9e\",\"width\":1},\"mode\":\"lines\",\"x\":[43.5,43.5],\"y\":[-0.5,6.5],\"type\":\"scatter\",\"xaxis\":\"x\",\"yaxis\":\"y\"},{\"hoverinfo\":\"skip\",\"line\":{\"color\":\"#9e9e9e\",\"width\":1},\"mode\":\"lines\",\"x\":[47.5,47.5],\"y\":[1.5,6.5],\"type\":\"scatter\",\"xaxis\":\"x\",\"yaxis\":\"y\"},{\"hoverinfo\":\"skip\",\"line\":{\"color\":\"#9e9e9e\",\"width\":1},\"mode\":\"lines\",\"x\":[47.5,48.5],\"y\":[1.5,1.5],\"type\":\"scatter\",\"xaxis\":\"x\",\"yaxis\":\"y\"},{\"hoverinfo\":\"skip\",\"line\":{\"color\":\"#9e9e9e\",\"width\":1},\"mode\":\"lines\",\"x\":[48.5,48.5],\"y\":[1.5,-0.5],\"type\":\"scatter\",\"xaxis\":\"x\",\"yaxis\":\"y\"},{\"colorscale\":[[0.0,\"rgb(247,252,245)\"],[0.125,\"rgb(229,245,224)\"],[0.25,\"rgb(199,233,192)\"],[0.375,\"rgb(161,217,155)\"],[0.5,\"rgb(116,196,118)\"],[0.625,\"rgb(65,171,93)\"],[0.75,\"rgb(35,139,69)\"],[0.875,\"rgb(0,109,44)\"],[1.0,\"rgb(0,68,27)\"]],\"customdata\":[[\"2022-01-01\",\"y\"],[\"2022-01-02\",\"y\"],[\"2022-01-03\",\"y\"],[\"2022-01-04\",\"y\"],[\"2022-01-05\",\"y\"],[\"2022-01-06\",\"y\"],[\"2022-01-07\",\"y\"],[\"2022-01-08\",\"y\"],[\"2022-01-09\",\"y\"],[\"2022-01-10\",\"y\"],[\"2022-01-11\",\"y\"],[\"2022-01-12\",\"y\"],[\"2022-01-13\",\"y\"],[\"2022-01-14\",\"y\"],[\"2022-01-15\",\"y\"],[\"2022-01-16\",\"y\"],[\"2022-01-17\",\"y\"],[\"2022-01-18\",\"y\"],[\"2022-01-19\",\"y\"],[\"2022-01-20\",\"y\"],[\"2022-01-21\",\"y\"],[\"2022-01-22\",\"y\"],[\"2022-01-23\",\"y\"],[\"2022-01-24\",\"y\"],[\"2022-01-25\",\"y\"],[\"2022-01-26\",\"y\"],[\"2022-01-27\",\"y\"],[\"2022-01-28\",\"y\"],[\"2022-01-29\",\"y\"],[\"2022-01-30\",\"y\"],[\"2022-01-31\",\"y\"],[\"2022-02-01\",\"y\"],[\"2022-02-02\",\"y\"],[\"2022-02-03\",\"y\"],[\"2022-02-04\",\"y\"],[\"2022-02-05\",\"y\"],[\"2022-02-06\",\"y\"],[\"2022-02-07\",\"y\"],[\"2022-02-08\",\"y\"],[\"2022-02-09\",\"y\"],[\"2022-02-10\",\"y\"],[\"2022-02-11\",\"y\"],[\"2022-02-12\",\"y\"],[\"2022-02-13\",\"y\"],[\"2022-02-14\",\"y\"],[\"2022-02-15\",\"y\"],[\"2022-02-16\",\"y\"],[\"2022-02-17\",\"y\"],[\"2022-02-18\",\"y\"],[\"2022-02-19\",\"y\"],[\"2022-02-20\",\"y\"],[\"2022-02-21\",\"y\"],[\"2022-02-22\",\"y\"],[\"2022-02-23\",\"y\"],[\"2022-02-24\",\"y\"],[\"2022-02-25\",\"y\"],[\"2022-02-26\",\"y\"],[\"2022-02-27\",\"y\"],[\"2022-02-28\",\"y\"],[\"2022-03-01\",\"y\"],[\"2022-03-02\",\"y\"],[\"2022-03-03\",\"y\"],[\"2022-03-04\",\"y\"],[\"2022-03-05\",\"y\"],[\"2022-03-06\",\"y\"],[\"2022-03-07\",\"y\"],[\"2022-03-08\",\"y\"],[\"2022-03-09\",\"y\"],[\"2022-03-10\",\"y\"],[\"2022-03-11\",\"y\"],[\"2022-03-12\",\"y\"],[\"2022-03-13\",\"y\"],[\"2022-03-14\",\"y\"],[\"2022-03-15\",\"y\"],[\"2022-03-16\",\"y\"],[\"2022-03-17\",\"y\"],[\"2022-03-18\",\"y\"],[\"2022-03-19\",\"y\"],[\"2022-03-20\",\"y\"],[\"2022-03-21\",\"y\"],[\"2022-03-22\",\"y\"],[\"2022-03-23\",\"y\"],[\"2022-03-24\",\"y\"],[\"2022-03-25\",\"y\"],[\"2022-03-26\",\"y\"],[\"2022-03-27\",\"y\"],[\"2022-03-28\",\"y\"],[\"2022-03-29\",\"y\"],[\"2022-03-30\",\"y\"],[\"2022-03-31\",\"y\"],[\"2022-04-01\",\"y\"],[\"2022-04-02\",\"y\"],[\"2022-04-03\",\"y\"],[\"2022-04-04\",\"y\"],[\"2022-04-05\",\"y\"],[\"2022-04-06\",\"y\"],[\"2022-04-07\",\"y\"],[\"2022-04-08\",\"y\"],[\"2022-04-09\",\"y\"],[\"2022-04-10\",\"y\"],[\"2022-04-11\",\"y\"],[\"2022-04-12\",\"y\"],[\"2022-04-13\",\"y\"],[\"2022-04-14\",\"y\"],[\"2022-04-15\",\"y\"],[\"2022-04-16\",\"y\"],[\"2022-04-17\",\"y\"],[\"2022-04-18\",\"y\"],[\"2022-04-19\",\"y\"],[\"2022-04-20\",\"y\"],[\"2022-04-21\",\"y\"],[\"2022-04-22\",\"y\"],[\"2022-04-23\",\"y\"],[\"2022-04-24\",\"y\"],[\"2022-04-25\",\"y\"],[\"2022-04-26\",\"y\"],[\"2022-04-27\",\"y\"],[\"2022-04-28\",\"y\"],[\"2022-04-29\",\"y\"],[\"2022-04-30\",\"y\"],[\"2022-05-01\",\"y\"],[\"2022-05-02\",\"y\"],[\"2022-05-03\",\"y\"],[\"2022-05-04\",\"y\"],[\"2022-05-05\",\"y\"],[\"2022-05-06\",\"y\"],[\"2022-05-07\",\"y\"],[\"2022-05-08\",\"y\"],[\"2022-05-09\",\"y\"],[\"2022-05-10\",\"y\"],[\"2022-05-11\",\"y\"],[\"2022-05-12\",\"y\"],[\"2022-05-13\",\"y\"],[\"2022-05-14\",\"y\"],[\"2022-05-15\",\"y\"],[\"2022-05-16\",\"y\"],[\"2022-05-17\",\"y\"],[\"2022-05-18\",\"y\"],[\"2022-05-19\",\"y\"],[\"2022-05-20\",\"y\"],[\"2022-05-21\",\"y\"],[\"2022-05-22\",\"y\"],[\"2022-05-23\",\"y\"],[\"2022-05-24\",\"y\"],[\"2022-05-25\",\"y\"],[\"2022-05-26\",\"y\"],[\"2022-05-27\",\"y\"],[\"2022-05-28\",\"y\"],[\"2022-05-29\",\"y\"],[\"2022-05-30\",\"y\"],[\"2022-05-31\",\"y\"],[\"2022-06-01\",\"y\"],[\"2022-06-02\",\"y\"],[\"2022-06-03\",\"y\"],[\"2022-06-04\",\"y\"],[\"2022-06-05\",\"y\"],[\"2022-06-06\",\"y\"],[\"2022-06-07\",\"y\"],[\"2022-06-08\",\"y\"],[\"2022-06-09\",\"y\"],[\"2022-06-10\",\"y\"],[\"2022-06-11\",\"y\"],[\"2022-06-12\",\"y\"],[\"2022-06-13\",\"y\"],[\"2022-06-14\",\"y\"],[\"2022-06-15\",\"y\"],[\"2022-06-16\",\"y\"],[\"2022-06-17\",\"y\"],[\"2022-06-18\",\"y\"],[\"2022-06-19\",\"y\"],[\"2022-06-20\",\"y\"],[\"2022-06-21\",\"y\"],[\"2022-06-22\",\"y\"],[\"2022-06-23\",\"y\"],[\"2022-06-24\",\"y\"],[\"2022-06-25\",\"y\"],[\"2022-06-26\",\"y\"],[\"2022-06-27\",\"y\"],[\"2022-06-28\",\"y\"],[\"2022-06-29\",\"y\"],[\"2022-06-30\",\"y\"],[\"2022-07-01\",\"y\"],[\"2022-07-02\",\"y\"],[\"2022-07-03\",\"y\"],[\"2022-07-04\",\"y\"],[\"2022-07-05\",\"y\"],[\"2022-07-06\",\"y\"],[\"2022-07-07\",\"y\"],[\"2022-07-08\",\"y\"],[\"2022-07-09\",\"y\"],[\"2022-07-10\",\"y\"],[\"2022-07-11\",\"y\"],[\"2022-07-12\",\"y\"],[\"2022-07-13\",\"y\"],[\"2022-07-14\",\"y\"],[\"2022-07-15\",\"y\"],[\"2022-07-16\",\"y\"],[\"2022-07-17\",\"y\"],[\"2022-07-18\",\"y\"],[\"2022-07-19\",\"y\"],[\"2022-07-20\",\"y\"],[\"2022-07-21\",\"y\"],[\"2022-07-22\",\"y\"],[\"2022-07-23\",\"y\"],[\"2022-07-24\",\"y\"],[\"2022-07-25\",\"y\"],[\"2022-07-26\",\"y\"],[\"2022-07-27\",\"y\"],[\"2022-07-28\",\"y\"],[\"2022-07-29\",\"y\"],[\"2022-07-30\",\"y\"],[\"2022-07-31\",\"y\"],[\"2022-08-01\",\"y\"],[\"2022-08-02\",\"y\"],[\"2022-08-03\",\"y\"],[\"2022-08-04\",\"y\"],[\"2022-08-05\",\"y\"],[\"2022-08-06\",\"y\"],[\"2022-08-07\",\"y\"],[\"2022-08-08\",\"y\"],[\"2022-08-09\",\"y\"],[\"2022-08-10\",\"y\"],[\"2022-08-11\",\"y\"],[\"2022-08-12\",\"y\"],[\"2022-08-13\",\"y\"],[\"2022-08-14\",\"y\"],[\"2022-08-15\",\"y\"],[\"2022-08-16\",\"y\"],[\"2022-08-17\",\"y\"],[\"2022-08-18\",\"y\"],[\"2022-08-19\",\"y\"],[\"2022-08-20\",\"y\"],[\"2022-08-21\",\"y\"],[\"2022-08-22\",\"y\"],[\"2022-08-23\",\"y\"],[\"2022-08-24\",\"y\"],[\"2022-08-25\",\"y\"],[\"2022-08-26\",\"y\"],[\"2022-08-27\",\"y\"],[\"2022-08-28\",\"y\"],[\"2022-08-29\",\"y\"],[\"2022-08-30\",\"y\"],[\"2022-08-31\",\"y\"],[\"2022-09-01\",\"y\"],[\"2022-09-02\",\"y\"],[\"2022-09-03\",\"y\"],[\"2022-09-04\",\"y\"],[\"2022-09-05\",\"y\"],[\"2022-09-06\",\"y\"],[\"2022-09-07\",\"y\"],[\"2022-09-08\",\"y\"],[\"2022-09-09\",\"y\"],[\"2022-09-10\",\"y\"],[\"2022-09-11\",\"y\"],[\"2022-09-12\",\"y\"],[\"2022-09-13\",\"y\"],[\"2022-09-14\",\"y\"],[\"2022-09-15\",\"y\"],[\"2022-09-16\",\"y\"],[\"2022-09-17\",\"y\"],[\"2022-09-18\",\"y\"],[\"2022-09-19\",\"y\"],[\"2022-09-20\",\"y\"],[\"2022-09-21\",\"y\"],[\"2022-09-22\",\"y\"],[\"2022-09-23\",\"y\"],[\"2022-09-24\",\"y\"],[\"2022-09-25\",\"y\"],[\"2022-09-26\",\"y\"],[\"2022-09-27\",\"y\"],[\"2022-09-28\",\"y\"],[\"2022-09-29\",\"y\"],[\"2022-09-30\",\"y\"],[\"2022-10-01\",\"y\"],[\"2022-10-02\",\"y\"],[\"2022-10-03\",\"y\"],[\"2022-10-04\",\"y\"],[\"2022-10-05\",\"y\"],[\"2022-10-06\",\"y\"],[\"2022-10-07\",\"y\"],[\"2022-10-08\",\"y\"],[\"2022-10-09\",\"y\"],[\"2022-10-10\",\"y\"],[\"2022-10-11\",\"y\"],[\"2022-10-12\",\"y\"],[\"2022-10-13\",\"y\"],[\"2022-10-14\",\"y\"],[\"2022-10-15\",\"y\"],[\"2022-10-16\",\"y\"],[\"2022-10-17\",\"y\"],[\"2022-10-18\",\"y\"],[\"2022-10-19\",\"y\"],[\"2022-10-20\",\"y\"],[\"2022-10-21\",\"y\"],[\"2022-10-22\",\"y\"],[\"2022-10-23\",\"y\"],[\"2022-10-24\",\"y\"],[\"2022-10-25\",\"y\"],[\"2022-10-26\",\"y\"],[\"2022-10-27\",\"y\"],[\"2022-10-28\",\"y\"],[\"2022-10-29\",\"y\"],[\"2022-10-30\",\"y\"],[\"2022-10-31\",\"y\"],[\"2022-11-01\",\"y\"],[\"2022-11-02\",\"y\"],[\"2022-11-03\",\"y\"],[\"2022-11-04\",\"y\"],[\"2022-11-05\",\"y\"],[\"2022-11-06\",\"y\"],[\"2022-11-07\",\"y\"],[\"2022-11-08\",\"y\"],[\"2022-11-09\",\"y\"],[\"2022-11-10\",\"y\"],[\"2022-11-11\",\"y\"],[\"2022-11-12\",\"y\"],[\"2022-11-13\",\"y\"],[\"2022-11-14\",\"y\"],[\"2022-11-15\",\"y\"],[\"2022-11-16\",\"y\"],[\"2022-11-17\",\"y\"],[\"2022-11-18\",\"y\"],[\"2022-11-19\",\"y\"],[\"2022-11-20\",\"y\"],[\"2022-11-21\",\"y\"],[\"2022-11-22\",\"y\"],[\"2022-11-23\",\"y\"],[\"2022-11-24\",\"y\"],[\"2022-11-25\",\"y\"],[\"2022-11-26\",\"y\"],[\"2022-11-27\",\"y\"],[\"2022-11-28\",\"y\"],[\"2022-11-29\",\"y\"],[\"2022-11-30\",\"y\"],[\"2022-12-01\",\"y\"],[\"2022-12-02\",\"y\"],[\"2022-12-03\",\"y\"],[\"2022-12-04\",\"y\"],[\"2022-12-05\",\"y\"],[\"2022-12-06\",\"y\"],[\"2022-12-07\",\"y\"],[\"2022-12-08\",\"y\"],[\"2022-12-09\",\"y\"],[\"2022-12-10\",\"y\"],[\"2022-12-11\",\"y\"],[\"2022-12-12\",\"y\"],[\"2022-12-13\",\"y\"],[\"2022-12-14\",\"y\"],[\"2022-12-15\",\"y\"],[\"2022-12-16\",\"y\"],[\"2022-12-17\",\"y\"],[\"2022-12-18\",\"y\"],[\"2022-12-19\",\"y\"],[\"2022-12-20\",\"y\"],[\"2022-12-21\",\"y\"],[\"2022-12-22\",\"y\"],[\"2022-12-23\",\"y\"],[\"2022-12-24\",\"y\"],[\"2022-12-25\",\"y\"],[\"2022-12-26\",\"y\"],[\"2022-12-27\",\"y\"],[\"2022-12-28\",\"y\"],[\"2022-12-29\",\"y\"],[\"2022-12-30\",\"y\"],[\"2022-12-31\",\"y\"]],\"hovertemplate\":\"%{customdata[0]} \\u003cbr\\u003eWeek=%{x} \\u003cbr\\u003e%{customdata[1]}=%{z}\",\"name\":\"2022\",\"showscale\":false,\"x\":[0,0,1,1,1,1,1,1,1,2,2,2,2,2,2,2,3,3,3,3,3,3,3,4,4,4,4,4,4,4,5,5,5,5,5,5,5,6,6,6,6,6,6,6,7,7,7,7,7,7,7,8,8,8,8,8,8,8,9,9,9,9,9,9,9,10,10,10,10,10,10,10,11,11,11,11,11,11,11,12,12,12,12,12,12,12,13,13,13,13,13,13,13,14,14,14,14,14,14,14,15,15,15,15,15,15,15,16,16,16,16,16,16,16,17,17,17,17,17,17,17,18,18,18,18,18,18,18,19,19,19,19,19,19,19,20,20,20,20,20,20,20,21,21,21,21,21,21,21,22,22,22,22,22,22,22,23,23,23,23,23,23,23,24,24,24,24,24,24,24,25,25,25,25,25,25,25,26,26,26,26,26,26,26,27,27,27,27,27,27,27,28,28,28,28,28,28,28,29,29,29,29,29,29,29,30,30,30,30,30,30,30,31,31,31,31,31,31,31,32,32,32,32,32,32,32,33,33,33,33,33,33,33,34,34,34,34,34,34,34,35,35,35,35,35,35,35,36,36,36,36,36,36,36,37,37,37,37,37,37,37,38,38,38,38,38,38,38,39,39,39,39,39,39,39,40,40,40,40,40,40,40,41,41,41,41,41,41,41,42,42,42,42,42,42,42,43,43,43,43,43,43,43,44,44,44,44,44,44,44,45,45,45,45,45,45,45,46,46,46,46,46,46,46,47,47,47,47,47,47,47,48,48,48,48,48,48,48,49,49,49,49,49,49,49,50,50,50,50,50,50,50,51,51,51,51,51,51,51,52,52,52,52,52,52],\"xgap\":1,\"y\":[5,6,0,1,2,3,4,5,6,0,1,2,3,4,5,6,0,1,2,3,4,5,6,0,1,2,3,4,5,6,0,1,2,3,4,5,6,0,1,2,3,4,5,6,0,1,2,3,4,5,6,0,1,2,3,4,5,6,0,1,2,3,4,5,6,0,1,2,3,4,5,6,0,1,2,3,4,5,6,0,1,2,3,4,5,6,0,1,2,3,4,5,6,0,1,2,3,4,5,6,0,1,2,3,4,5,6,0,1,2,3,4,5,6,0,1,2,3,4,5,6,0,1,2,3,4,5,6,0,1,2,3,4,5,6,0,1,2,3,4,5,6,0,1,2,3,4,5,6,0,1,2,3,4,5,6,0,1,2,3,4,5,6,0,1,2,3,4,5,6,0,1,2,3,4,5,6,0,1,2,3,4,5,6,0,1,2,3,4,5,6,0,1,2,3,4,5,6,0,1,2,3,4,5,6,0,1,2,3,4,5,6,0,1,2,3,4,5,6,0,1,2,3,4,5,6,0,1,2,3,4,5,6,0,1,2,3,4,5,6,0,1,2,3,4,5,6,0,1,2,3,4,5,6,0,1,2,3,4,5,6,0,1,2,3,4,5,6,0,1,2,3,4,5,6,0,1,2,3,4,5,6,0,1,2,3,4,5,6,0,1,2,3,4,5,6,0,1,2,3,4,5,6,0,1,2,3,4,5,6,0,1,2,3,4,5,6,0,1,2,3,4,5,6,0,1,2,3,4,5,6,0,1,2,3,4,5,6,0,1,2,3,4,5,6,0,1,2,3,4,5,6,0,1,2,3,4,5,6,0,1,2,3,4,5],\"ygap\":1,\"z\":[null,null,152.0,152.0,152.0,152.0,152.0,152.0,152.0,152.0,152.0,152.0,152.0,152.0,152.0,152.0,152.0,152.0,152.0,152.0,152.0,152.0,152.0,152.0,152.0,152.0,152.0,152.0,null,null,8.0,107.0,107.0,107.0,107.0,107.0,107.0,107.0,107.0,107.0,107.0,107.0,107.0,107.0,107.0,107.0,107.0,107.0,107.0,null,null,49.0,49.0,49.0,49.0,49.0,49.0,49.0,49.0,72.5,72.5,72.5,72.5,72.5,72.5,72.5,72.5,72.5,72.5,72.5,null,null,115.0,115.0,115.0,115.0,115.0,115.0,115.0,115.0,115.0,115.0,115.0,115.0,115.0,115.0,115.0,115.0,115.0,115.0,6.5,null,null,116.5,116.5,116.5,116.5,116.5,116.5,116.5,116.5,116.5,116.5,116.5,116.5,116.5,116.5,116.5,116.5,116.5,116.5,116.5,null,null,38.0,38.0,38.0,38.0,38.0,null,76.0,76.0,76.0,76.0,76.0,76.0,76.0,76.0,76.0,76.0,76.0,76.0,76.0,null,null,85.0,85.0,85.0,85.0,85.0,85.0,85.0,85.0,85.0,85.0,85.0,85.0,85.0,85.0,85.0,85.0,22.0,22.0,22.0,null,null,106.0,106.0,106.0,106.0,106.0,106.0,106.0,106.0,106.0,106.0,106.0,106.0,106.0,106.0,106.0,106.0,106.0,106.0,106.0,null,null,32.0,32.0,32.0,32.0,75.0,75.0,75.0,75.0,75.0,75.0,75.0,75.0,75.0,75.0,75.0,75.0,75.0,null,null,null,null,76.0,76.0,76.0,76.0,76.0,76.0,76.0,76.0,76.0,76.0,76.0,76.0,null,null,null,null,null,null,null,null,null,null,null,null,null,null,null,null,null,null,null,null,null,null,null,null,null,null,null,null,null,null,24.0,24.0,24.0,128.0,128.0,128.0,128.0,128.0,128.0,128.0,128.0,128.0,128.0,128.0,128.0,128.0,128.0,128.0,128.0,128.0,128.0,128.0,128.0,128.0,128.0,128.0,null,null,40.0,40.0,40.0,40.0,40.0,74.0,74.0,74.0,74.0,74.0,74.0,74.0,74.0,74.0,74.0,74.0,74.0,74.0,74.0,null,null,76.0,76.0,76.0,76.0,76.0,76.0,76.0,76.0,76.0,76.0,76.0,76.0,null,null,null,29.0,29.0,29.0,29.0,null,null,115.0,115.0,115.0,115.0,115.0,115.0,115.0,115.0,115.0,115.0,115.0,115.0,115.0,115.0,115.0,115.0,115.0,115.0,115.0,null,null,24.0,24.0,24.0,88.0,88.0,88.0,88.0,88.0,88.0,88.0,88.0,88.0,88.0,88.0,88.0,88.0,88.0,88.0,88.0,null,null,38.0,38.0,38.0,38.0,38.0,null,null,null,null,null,null,null,null],\"type\":\"heatmap\",\"xaxis\":\"x2\",\"yaxis\":\"y2\",\"zmax\":152.0,\"zmin\":6.5},{\"hoverinfo\":\"skip\",\"line\":{\"color\":\"#9e9e9e\",\"width\":1},\"mode\":\"lines\",\"x\":[-0.5,-0.5],\"y\":[4.5,6.5],\"type\":\"scatter\",\"xaxis\":\"x2\",\"yaxis\":\"y2\"},{\"hoverinfo\":\"skip\",\"line\":{\"color\":\"#9e9e9e\",\"width\":1},\"mode\":\"lines\",\"x\":[-0.5,0.5],\"y\":[4.5,4.5],\"type\":\"scatter\",\"xaxis\":\"x2\",\"yaxis\":\"y2\"},{\"hoverinfo\":\"skip\",\"line\":{\"color\":\"#9e9e9e\",\"width\":1},\"mode\":\"lines\",\"x\":[0.5,0.5],\"y\":[4.5,-0.5],\"type\":\"scatter\",\"xaxis\":\"x2\",\"yaxis\":\"y2\"},{\"hoverinfo\":\"skip\",\"line\":{\"color\":\"#9e9e9e\",\"width\":1},\"mode\":\"lines\",\"x\":[4.5,4.5],\"y\":[0.5,6.5],\"type\":\"scatter\",\"xaxis\":\"x2\",\"yaxis\":\"y2\"},{\"hoverinfo\":\"skip\",\"line\":{\"color\":\"#9e9e9e\",\"width\":1},\"mode\":\"lines\",\"x\":[4.5,5.5],\"y\":[0.5,0.5],\"type\":\"scatter\",\"xaxis\":\"x2\",\"yaxis\":\"y2\"},{\"hoverinfo\":\"skip\",\"line\":{\"color\":\"#9e9e9e\",\"width\":1},\"mode\":\"lines\",\"x\":[5.5,5.5],\"y\":[0.5,-0.5],\"type\":\"scatter\",\"xaxis\":\"x2\",\"yaxis\":\"y2\"},{\"hoverinfo\":\"skip\",\"line\":{\"color\":\"#9e9e9e\",\"width\":1},\"mode\":\"lines\",\"x\":[8.5,8.5],\"y\":[0.5,6.5],\"type\":\"scatter\",\"xaxis\":\"x2\",\"yaxis\":\"y2\"},{\"hoverinfo\":\"skip\",\"line\":{\"color\":\"#9e9e9e\",\"width\":1},\"mode\":\"lines\",\"x\":[8.5,9.5],\"y\":[0.5,0.5],\"type\":\"scatter\",\"xaxis\":\"x2\",\"yaxis\":\"y2\"},{\"hoverinfo\":\"skip\",\"line\":{\"color\":\"#9e9e9e\",\"width\":1},\"mode\":\"lines\",\"x\":[9.5,9.5],\"y\":[0.5,-0.5],\"type\":\"scatter\",\"xaxis\":\"x2\",\"yaxis\":\"y2\"},{\"hoverinfo\":\"skip\",\"line\":{\"color\":\"#9e9e9e\",\"width\":1},\"mode\":\"lines\",\"x\":[12.5,12.5],\"y\":[3.5,6.5],\"type\":\"scatter\",\"xaxis\":\"x2\",\"yaxis\":\"y2\"},{\"hoverinfo\":\"skip\",\"line\":{\"color\":\"#9e9e9e\",\"width\":1},\"mode\":\"lines\",\"x\":[12.5,13.5],\"y\":[3.5,3.5],\"type\":\"scatter\",\"xaxis\":\"x2\",\"yaxis\":\"y2\"},{\"hoverinfo\":\"skip\",\"line\":{\"color\":\"#9e9e9e\",\"width\":1},\"mode\":\"lines\",\"x\":[13.5,13.5],\"y\":[3.5,-0.5],\"type\":\"scatter\",\"xaxis\":\"x2\",\"yaxis\":\"y2\"},{\"hoverinfo\":\"skip\",\"line\":{\"color\":\"#9e9e9e\",\"width\":1},\"mode\":\"lines\",\"x\":[16.5,16.5],\"y\":[5.5,6.5],\"type\":\"scatter\",\"xaxis\":\"x2\",\"yaxis\":\"y2\"},{\"hoverinfo\":\"skip\",\"line\":{\"color\":\"#9e9e9e\",\"width\":1},\"mode\":\"lines\",\"x\":[16.5,17.5],\"y\":[5.5,5.5],\"type\":\"scatter\",\"xaxis\":\"x2\",\"yaxis\":\"y2\"},{\"hoverinfo\":\"skip\",\"line\":{\"color\":\"#9e9e9e\",\"width\":1},\"mode\":\"lines\",\"x\":[17.5,17.5],\"y\":[5.5,-0.5],\"type\":\"scatter\",\"xaxis\":\"x2\",\"yaxis\":\"y2\"},{\"hoverinfo\":\"skip\",\"line\":{\"color\":\"#9e9e9e\",\"width\":1},\"mode\":\"lines\",\"x\":[21.5,21.5],\"y\":[1.5,6.5],\"type\":\"scatter\",\"xaxis\":\"x2\",\"yaxis\":\"y2\"},{\"hoverinfo\":\"skip\",\"line\":{\"color\":\"#9e9e9e\",\"width\":1},\"mode\":\"lines\",\"x\":[21.5,22.5],\"y\":[1.5,1.5],\"type\":\"scatter\",\"xaxis\":\"x2\",\"yaxis\":\"y2\"},{\"hoverinfo\":\"skip\",\"line\":{\"color\":\"#9e9e9e\",\"width\":1},\"mode\":\"lines\",\"x\":[22.5,22.5],\"y\":[1.5,-0.5],\"type\":\"scatter\",\"xaxis\":\"x2\",\"yaxis\":\"y2\"},{\"hoverinfo\":\"skip\",\"line\":{\"color\":\"#9e9e9e\",\"width\":1},\"mode\":\"lines\",\"x\":[25.5,25.5],\"y\":[3.5,6.5],\"type\":\"scatter\",\"xaxis\":\"x2\",\"yaxis\":\"y2\"},{\"hoverinfo\":\"skip\",\"line\":{\"color\":\"#9e9e9e\",\"width\":1},\"mode\":\"lines\",\"x\":[25.5,26.5],\"y\":[3.5,3.5],\"type\":\"scatter\",\"xaxis\":\"x2\",\"yaxis\":\"y2\"},{\"hoverinfo\":\"skip\",\"line\":{\"color\":\"#9e9e9e\",\"width\":1},\"mode\":\"lines\",\"x\":[26.5,26.5],\"y\":[3.5,-0.5],\"type\":\"scatter\",\"xaxis\":\"x2\",\"yaxis\":\"y2\"},{\"hoverinfo\":\"skip\",\"line\":{\"color\":\"#9e9e9e\",\"width\":1},\"mode\":\"lines\",\"x\":[30.5,30.5],\"y\":[-0.5,6.5],\"type\":\"scatter\",\"xaxis\":\"x2\",\"yaxis\":\"y2\"},{\"hoverinfo\":\"skip\",\"line\":{\"color\":\"#9e9e9e\",\"width\":1},\"mode\":\"lines\",\"x\":[34.5,34.5],\"y\":[2.5,6.5],\"type\":\"scatter\",\"xaxis\":\"x2\",\"yaxis\":\"y2\"},{\"hoverinfo\":\"skip\",\"line\":{\"color\":\"#9e9e9e\",\"width\":1},\"mode\":\"lines\",\"x\":[34.5,35.5],\"y\":[2.5,2.5],\"type\":\"scatter\",\"xaxis\":\"x2\",\"yaxis\":\"y2\"},{\"hoverinfo\":\"skip\",\"line\":{\"color\":\"#9e9e9e\",\"width\":1},\"mode\":\"lines\",\"x\":[35.5,35.5],\"y\":[2.5,-0.5],\"type\":\"scatter\",\"xaxis\":\"x2\",\"yaxis\":\"y2\"},{\"hoverinfo\":\"skip\",\"line\":{\"color\":\"#9e9e9e\",\"width\":1},\"mode\":\"lines\",\"x\":[38.5,38.5],\"y\":[4.5,6.5],\"type\":\"scatter\",\"xaxis\":\"x2\",\"yaxis\":\"y2\"},{\"hoverinfo\":\"skip\",\"line\":{\"color\":\"#9e9e9e\",\"width\":1},\"mode\":\"lines\",\"x\":[38.5,39.5],\"y\":[4.5,4.5],\"type\":\"scatter\",\"xaxis\":\"x2\",\"yaxis\":\"y2\"},{\"hoverinfo\":\"skip\",\"line\":{\"color\":\"#9e9e9e\",\"width\":1},\"mode\":\"lines\",\"x\":[39.5,39.5],\"y\":[4.5,-0.5],\"type\":\"scatter\",\"xaxis\":\"x2\",\"yaxis\":\"y2\"},{\"hoverinfo\":\"skip\",\"line\":{\"color\":\"#9e9e9e\",\"width\":1},\"mode\":\"lines\",\"x\":[43.5,43.5],\"y\":[0.5,6.5],\"type\":\"scatter\",\"xaxis\":\"x2\",\"yaxis\":\"y2\"},{\"hoverinfo\":\"skip\",\"line\":{\"color\":\"#9e9e9e\",\"width\":1},\"mode\":\"lines\",\"x\":[43.5,44.5],\"y\":[0.5,0.5],\"type\":\"scatter\",\"xaxis\":\"x2\",\"yaxis\":\"y2\"},{\"hoverinfo\":\"skip\",\"line\":{\"color\":\"#9e9e9e\",\"width\":1},\"mode\":\"lines\",\"x\":[44.5,44.5],\"y\":[0.5,-0.5],\"type\":\"scatter\",\"xaxis\":\"x2\",\"yaxis\":\"y2\"},{\"hoverinfo\":\"skip\",\"line\":{\"color\":\"#9e9e9e\",\"width\":1},\"mode\":\"lines\",\"x\":[47.5,47.5],\"y\":[2.5,6.5],\"type\":\"scatter\",\"xaxis\":\"x2\",\"yaxis\":\"y2\"},{\"hoverinfo\":\"skip\",\"line\":{\"color\":\"#9e9e9e\",\"width\":1},\"mode\":\"lines\",\"x\":[47.5,48.5],\"y\":[2.5,2.5],\"type\":\"scatter\",\"xaxis\":\"x2\",\"yaxis\":\"y2\"},{\"hoverinfo\":\"skip\",\"line\":{\"color\":\"#9e9e9e\",\"width\":1},\"mode\":\"lines\",\"x\":[48.5,48.5],\"y\":[2.5,-0.5],\"type\":\"scatter\",\"xaxis\":\"x2\",\"yaxis\":\"y2\"},{\"colorscale\":[[0.0,\"rgb(247,252,245)\"],[0.125,\"rgb(229,245,224)\"],[0.25,\"rgb(199,233,192)\"],[0.375,\"rgb(161,217,155)\"],[0.5,\"rgb(116,196,118)\"],[0.625,\"rgb(65,171,93)\"],[0.75,\"rgb(35,139,69)\"],[0.875,\"rgb(0,109,44)\"],[1.0,\"rgb(0,68,27)\"]],\"customdata\":[[\"2023-01-01\",\"y\"],[\"2023-01-02\",\"y\"],[\"2023-01-03\",\"y\"],[\"2023-01-04\",\"y\"],[\"2023-01-05\",\"y\"],[\"2023-01-06\",\"y\"],[\"2023-01-07\",\"y\"],[\"2023-01-08\",\"y\"],[\"2023-01-09\",\"y\"],[\"2023-01-10\",\"y\"],[\"2023-01-11\",\"y\"],[\"2023-01-12\",\"y\"],[\"2023-01-13\",\"y\"],[\"2023-01-14\",\"y\"],[\"2023-01-15\",\"y\"],[\"2023-01-16\",\"y\"],[\"2023-01-17\",\"y\"],[\"2023-01-18\",\"y\"],[\"2023-01-19\",\"y\"],[\"2023-01-20\",\"y\"],[\"2023-01-21\",\"y\"],[\"2023-01-22\",\"y\"],[\"2023-01-23\",\"y\"],[\"2023-01-24\",\"y\"],[\"2023-01-25\",\"y\"],[\"2023-01-26\",\"y\"],[\"2023-01-27\",\"y\"],[\"2023-01-28\",\"y\"],[\"2023-01-29\",\"y\"],[\"2023-01-30\",\"y\"],[\"2023-01-31\",\"y\"],[\"2023-02-01\",\"y\"],[\"2023-02-02\",\"y\"],[\"2023-02-03\",\"y\"],[\"2023-02-04\",\"y\"],[\"2023-02-05\",\"y\"],[\"2023-02-06\",\"y\"],[\"2023-02-07\",\"y\"],[\"2023-02-08\",\"y\"],[\"2023-02-09\",\"y\"],[\"2023-02-10\",\"y\"],[\"2023-02-11\",\"y\"],[\"2023-02-12\",\"y\"],[\"2023-02-13\",\"y\"],[\"2023-02-14\",\"y\"],[\"2023-02-15\",\"y\"],[\"2023-02-16\",\"y\"],[\"2023-02-17\",\"y\"],[\"2023-02-18\",\"y\"],[\"2023-02-19\",\"y\"],[\"2023-02-20\",\"y\"],[\"2023-02-21\",\"y\"],[\"2023-02-22\",\"y\"],[\"2023-02-23\",\"y\"],[\"2023-02-24\",\"y\"],[\"2023-02-25\",\"y\"],[\"2023-02-26\",\"y\"],[\"2023-02-27\",\"y\"],[\"2023-02-28\",\"y\"],[\"2023-03-01\",\"y\"],[\"2023-03-02\",\"y\"],[\"2023-03-03\",\"y\"],[\"2023-03-04\",\"y\"],[\"2023-03-05\",\"y\"],[\"2023-03-06\",\"y\"],[\"2023-03-07\",\"y\"],[\"2023-03-08\",\"y\"],[\"2023-03-09\",\"y\"],[\"2023-03-10\",\"y\"],[\"2023-03-11\",\"y\"],[\"2023-03-12\",\"y\"],[\"2023-03-13\",\"y\"],[\"2023-03-14\",\"y\"],[\"2023-03-15\",\"y\"],[\"2023-03-16\",\"y\"],[\"2023-03-17\",\"y\"],[\"2023-03-18\",\"y\"],[\"2023-03-19\",\"y\"],[\"2023-03-20\",\"y\"],[\"2023-03-21\",\"y\"],[\"2023-03-22\",\"y\"],[\"2023-03-23\",\"y\"],[\"2023-03-24\",\"y\"],[\"2023-03-25\",\"y\"],[\"2023-03-26\",\"y\"],[\"2023-03-27\",\"y\"],[\"2023-03-28\",\"y\"],[\"2023-03-29\",\"y\"],[\"2023-03-30\",\"y\"],[\"2023-03-31\",\"y\"],[\"2023-04-01\",\"y\"],[\"2023-04-02\",\"y\"],[\"2023-04-03\",\"y\"],[\"2023-04-04\",\"y\"],[\"2023-04-05\",\"y\"],[\"2023-04-06\",\"y\"],[\"2023-04-07\",\"y\"],[\"2023-04-08\",\"y\"],[\"2023-04-09\",\"y\"],[\"2023-04-10\",\"y\"],[\"2023-04-11\",\"y\"],[\"2023-04-12\",\"y\"],[\"2023-04-13\",\"y\"],[\"2023-04-14\",\"y\"],[\"2023-04-15\",\"y\"],[\"2023-04-16\",\"y\"],[\"2023-04-17\",\"y\"],[\"2023-04-18\",\"y\"],[\"2023-04-19\",\"y\"],[\"2023-04-20\",\"y\"],[\"2023-04-21\",\"y\"],[\"2023-04-22\",\"y\"],[\"2023-04-23\",\"y\"],[\"2023-04-24\",\"y\"],[\"2023-04-25\",\"y\"],[\"2023-04-26\",\"y\"],[\"2023-04-27\",\"y\"],[\"2023-04-28\",\"y\"],[\"2023-04-29\",\"y\"],[\"2023-04-30\",\"y\"],[\"2023-05-01\",\"y\"],[\"2023-05-02\",\"y\"],[\"2023-05-03\",\"y\"],[\"2023-05-04\",\"y\"],[\"2023-05-05\",\"y\"],[\"2023-05-06\",\"y\"],[\"2023-05-07\",\"y\"],[\"2023-05-08\",\"y\"],[\"2023-05-09\",\"y\"],[\"2023-05-10\",\"y\"],[\"2023-05-11\",\"y\"],[\"2023-05-12\",\"y\"],[\"2023-05-13\",\"y\"],[\"2023-05-14\",\"y\"],[\"2023-05-15\",\"y\"],[\"2023-05-16\",\"y\"],[\"2023-05-17\",\"y\"],[\"2023-05-18\",\"y\"],[\"2023-05-19\",\"y\"],[\"2023-05-20\",\"y\"],[\"2023-05-21\",\"y\"],[\"2023-05-22\",\"y\"],[\"2023-05-23\",\"y\"],[\"2023-05-24\",\"y\"],[\"2023-05-25\",\"y\"],[\"2023-05-26\",\"y\"],[\"2023-05-27\",\"y\"],[\"2023-05-28\",\"y\"],[\"2023-05-29\",\"y\"],[\"2023-05-30\",\"y\"],[\"2023-05-31\",\"y\"],[\"2023-06-01\",\"y\"],[\"2023-06-02\",\"y\"],[\"2023-06-03\",\"y\"],[\"2023-06-04\",\"y\"],[\"2023-06-05\",\"y\"],[\"2023-06-06\",\"y\"],[\"2023-06-07\",\"y\"],[\"2023-06-08\",\"y\"],[\"2023-06-09\",\"y\"],[\"2023-06-10\",\"y\"],[\"2023-06-11\",\"y\"],[\"2023-06-12\",\"y\"],[\"2023-06-13\",\"y\"],[\"2023-06-14\",\"y\"],[\"2023-06-15\",\"y\"],[\"2023-06-16\",\"y\"],[\"2023-06-17\",\"y\"],[\"2023-06-18\",\"y\"],[\"2023-06-19\",\"y\"],[\"2023-06-20\",\"y\"],[\"2023-06-21\",\"y\"],[\"2023-06-22\",\"y\"],[\"2023-06-23\",\"y\"],[\"2023-06-24\",\"y\"],[\"2023-06-25\",\"y\"],[\"2023-06-26\",\"y\"],[\"2023-06-27\",\"y\"],[\"2023-06-28\",\"y\"],[\"2023-06-29\",\"y\"],[\"2023-06-30\",\"y\"],[\"2023-07-01\",\"y\"],[\"2023-07-02\",\"y\"],[\"2023-07-03\",\"y\"],[\"2023-07-04\",\"y\"],[\"2023-07-05\",\"y\"],[\"2023-07-06\",\"y\"],[\"2023-07-07\",\"y\"],[\"2023-07-08\",\"y\"],[\"2023-07-09\",\"y\"],[\"2023-07-10\",\"y\"],[\"2023-07-11\",\"y\"],[\"2023-07-12\",\"y\"],[\"2023-07-13\",\"y\"],[\"2023-07-14\",\"y\"],[\"2023-07-15\",\"y\"],[\"2023-07-16\",\"y\"],[\"2023-07-17\",\"y\"],[\"2023-07-18\",\"y\"],[\"2023-07-19\",\"y\"],[\"2023-07-20\",\"y\"],[\"2023-07-21\",\"y\"],[\"2023-07-22\",\"y\"],[\"2023-07-23\",\"y\"],[\"2023-07-24\",\"y\"],[\"2023-07-25\",\"y\"],[\"2023-07-26\",\"y\"],[\"2023-07-27\",\"y\"],[\"2023-07-28\",\"y\"],[\"2023-07-29\",\"y\"],[\"2023-07-30\",\"y\"],[\"2023-07-31\",\"y\"],[\"2023-08-01\",\"y\"],[\"2023-08-02\",\"y\"],[\"2023-08-03\",\"y\"],[\"2023-08-04\",\"y\"],[\"2023-08-05\",\"y\"],[\"2023-08-06\",\"y\"],[\"2023-08-07\",\"y\"],[\"2023-08-08\",\"y\"],[\"2023-08-09\",\"y\"],[\"2023-08-10\",\"y\"],[\"2023-08-11\",\"y\"],[\"2023-08-12\",\"y\"],[\"2023-08-13\",\"y\"],[\"2023-08-14\",\"y\"],[\"2023-08-15\",\"y\"],[\"2023-08-16\",\"y\"],[\"2023-08-17\",\"y\"],[\"2023-08-18\",\"y\"],[\"2023-08-19\",\"y\"],[\"2023-08-20\",\"y\"],[\"2023-08-21\",\"y\"],[\"2023-08-22\",\"y\"],[\"2023-08-23\",\"y\"],[\"2023-08-24\",\"y\"],[\"2023-08-25\",\"y\"],[\"2023-08-26\",\"y\"],[\"2023-08-27\",\"y\"],[\"2023-08-28\",\"y\"],[\"2023-08-29\",\"y\"],[\"2023-08-30\",\"y\"],[\"2023-08-31\",\"y\"],[\"2023-09-01\",\"y\"],[\"2023-09-02\",\"y\"],[\"2023-09-03\",\"y\"],[\"2023-09-04\",\"y\"],[\"2023-09-05\",\"y\"],[\"2023-09-06\",\"y\"],[\"2023-09-07\",\"y\"],[\"2023-09-08\",\"y\"],[\"2023-09-09\",\"y\"],[\"2023-09-10\",\"y\"],[\"2023-09-11\",\"y\"],[\"2023-09-12\",\"y\"],[\"2023-09-13\",\"y\"],[\"2023-09-14\",\"y\"],[\"2023-09-15\",\"y\"],[\"2023-09-16\",\"y\"],[\"2023-09-17\",\"y\"],[\"2023-09-18\",\"y\"],[\"2023-09-19\",\"y\"],[\"2023-09-20\",\"y\"],[\"2023-09-21\",\"y\"],[\"2023-09-22\",\"y\"],[\"2023-09-23\",\"y\"],[\"2023-09-24\",\"y\"],[\"2023-09-25\",\"y\"],[\"2023-09-26\",\"y\"],[\"2023-09-27\",\"y\"],[\"2023-09-28\",\"y\"],[\"2023-09-29\",\"y\"],[\"2023-09-30\",\"y\"],[\"2023-10-01\",\"y\"],[\"2023-10-02\",\"y\"],[\"2023-10-03\",\"y\"],[\"2023-10-04\",\"y\"],[\"2023-10-05\",\"y\"],[\"2023-10-06\",\"y\"],[\"2023-10-07\",\"y\"],[\"2023-10-08\",\"y\"],[\"2023-10-09\",\"y\"],[\"2023-10-10\",\"y\"],[\"2023-10-11\",\"y\"],[\"2023-10-12\",\"y\"],[\"2023-10-13\",\"y\"],[\"2023-10-14\",\"y\"],[\"2023-10-15\",\"y\"],[\"2023-10-16\",\"y\"],[\"2023-10-17\",\"y\"],[\"2023-10-18\",\"y\"],[\"2023-10-19\",\"y\"],[\"2023-10-20\",\"y\"],[\"2023-10-21\",\"y\"],[\"2023-10-22\",\"y\"],[\"2023-10-23\",\"y\"],[\"2023-10-24\",\"y\"],[\"2023-10-25\",\"y\"],[\"2023-10-26\",\"y\"],[\"2023-10-27\",\"y\"],[\"2023-10-28\",\"y\"],[\"2023-10-29\",\"y\"],[\"2023-10-30\",\"y\"],[\"2023-10-31\",\"y\"],[\"2023-11-01\",\"y\"],[\"2023-11-02\",\"y\"],[\"2023-11-03\",\"y\"],[\"2023-11-04\",\"y\"],[\"2023-11-05\",\"y\"],[\"2023-11-06\",\"y\"],[\"2023-11-07\",\"y\"],[\"2023-11-08\",\"y\"],[\"2023-11-09\",\"y\"],[\"2023-11-10\",\"y\"],[\"2023-11-11\",\"y\"],[\"2023-11-12\",\"y\"],[\"2023-11-13\",\"y\"],[\"2023-11-14\",\"y\"],[\"2023-11-15\",\"y\"],[\"2023-11-16\",\"y\"],[\"2023-11-17\",\"y\"],[\"2023-11-18\",\"y\"],[\"2023-11-19\",\"y\"],[\"2023-11-20\",\"y\"],[\"2023-11-21\",\"y\"],[\"2023-11-22\",\"y\"],[\"2023-11-23\",\"y\"],[\"2023-11-24\",\"y\"],[\"2023-11-25\",\"y\"],[\"2023-11-26\",\"y\"],[\"2023-11-27\",\"y\"],[\"2023-11-28\",\"y\"],[\"2023-11-29\",\"y\"],[\"2023-11-30\",\"y\"],[\"2023-12-01\",\"y\"],[\"2023-12-02\",\"y\"],[\"2023-12-03\",\"y\"],[\"2023-12-04\",\"y\"],[\"2023-12-05\",\"y\"],[\"2023-12-06\",\"y\"],[\"2023-12-07\",\"y\"],[\"2023-12-08\",\"y\"],[\"2023-12-09\",\"y\"],[\"2023-12-10\",\"y\"],[\"2023-12-11\",\"y\"],[\"2023-12-12\",\"y\"],[\"2023-12-13\",\"y\"],[\"2023-12-14\",\"y\"],[\"2023-12-15\",\"y\"],[\"2023-12-16\",\"y\"],[\"2023-12-17\",\"y\"],[\"2023-12-18\",\"y\"],[\"2023-12-19\",\"y\"],[\"2023-12-20\",\"y\"],[\"2023-12-21\",\"y\"],[\"2023-12-22\",\"y\"],[\"2023-12-23\",\"y\"],[\"2023-12-24\",\"y\"],[\"2023-12-25\",\"y\"],[\"2023-12-26\",\"y\"],[\"2023-12-27\",\"y\"],[\"2023-12-28\",\"y\"],[\"2023-12-29\",\"y\"],[\"2023-12-30\",\"y\"],[\"2023-12-31\",\"y\"]],\"hovertemplate\":\"%{customdata[0]} \\u003cbr\\u003eWeek=%{x} \\u003cbr\\u003e%{customdata[1]}=%{z}\",\"name\":\"2023\",\"showscale\":false,\"x\":[0,1,1,1,1,1,1,1,2,2,2,2,2,2,2,3,3,3,3,3,3,3,4,4,4,4,4,4,4,5,5,5,5,5,5,5,6,6,6,6,6,6,6,7,7,7,7,7,7,7,8,8,8,8,8,8,8,9,9,9,9,9,9,9,10,10,10,10,10,10,10,11,11,11,11,11,11,11,12,12,12,12,12,12,12,13,13,13,13,13,13,13,14,14,14,14,14,14,14,15,15,15,15,15,15,15,16,16,16,16,16,16,16,17,17,17,17,17,17,17,18,18,18,18,18,18,18,19,19,19,19,19,19,19,20,20,20,20,20,20,20,21,21,21,21,21,21,21,22,22,22,22,22,22,22,23,23,23,23,23,23,23,24,24,24,24,24,24,24,25,25,25,25,25,25,25,26,26,26,26,26,26,26,27,27,27,27,27,27,27,28,28,28,28,28,28,28,29,29,29,29,29,29,29,30,30,30,30,30,30,30,31,31,31,31,31,31,31,32,32,32,32,32,32,32,33,33,33,33,33,33,33,34,34,34,34,34,34,34,35,35,35,35,35,35,35,36,36,36,36,36,36,36,37,37,37,37,37,37,37,38,38,38,38,38,38,38,39,39,39,39,39,39,39,40,40,40,40,40,40,40,41,41,41,41,41,41,41,42,42,42,42,42,42,42,43,43,43,43,43,43,43,44,44,44,44,44,44,44,45,45,45,45,45,45,45,46,46,46,46,46,46,46,47,47,47,47,47,47,47,48,48,48,48,48,48,48,49,49,49,49,49,49,49,50,50,50,50,50,50,50,51,51,51,51,51,51,51,52,52,52,52,52,52,52],\"xgap\":1,\"y\":[6,0,1,2,3,4,5,6,0,1,2,3,4,5,6,0,1,2,3,4,5,6,0,1,2,3,4,5,6,0,1,2,3,4,5,6,0,1,2,3,4,5,6,0,1,2,3,4,5,6,0,1,2,3,4,5,6,0,1,2,3,4,5,6,0,1,2,3,4,5,6,0,1,2,3,4,5,6,0,1,2,3,4,5,6,0,1,2,3,4,5,6,0,1,2,3,4,5,6,0,1,2,3,4,5,6,0,1,2,3,4,5,6,0,1,2,3,4,5,6,0,1,2,3,4,5,6,0,1,2,3,4,5,6,0,1,2,3,4,5,6,0,1,2,3,4,5,6,0,1,2,3,4,5,6,0,1,2,3,4,5,6,0,1,2,3,4,5,6,0,1,2,3,4,5,6,0,1,2,3,4,5,6,0,1,2,3,4,5,6,0,1,2,3,4,5,6,0,1,2,3,4,5,6,0,1,2,3,4,5,6,0,1,2,3,4,5,6,0,1,2,3,4,5,6,0,1,2,3,4,5,6,0,1,2,3,4,5,6,0,1,2,3,4,5,6,0,1,2,3,4,5,6,0,1,2,3,4,5,6,0,1,2,3,4,5,6,0,1,2,3,4,5,6,0,1,2,3,4,5,6,0,1,2,3,4,5,6,0,1,2,3,4,5,6,0,1,2,3,4,5,6,0,1,2,3,4,5,6,0,1,2,3,4,5,6,0,1,2,3,4,5,6,0,1,2,3,4,5,6,0,1,2,3,4,5,6,0,1,2,3,4,5,6,0,1,2,3,4,5,6,0,1,2,3,4,5,6,0,1,2,3,4,5,6],\"ygap\":1,\"z\":[null,null,null,null,null,null,null,null,114.0,114.0,114.0,114.0,114.0,114.0,114.0,114.0,114.0,114.0,114.0,114.0,114.0,114.0,114.0,114.0,114.0,114.0,114.0,null,null,16.0,16.0,68.0,68.0,68.0,68.0,68.0,68.0,68.0,68.0,68.0,68.0,68.0,68.0,68.0,68.0,68.0,68.0,68.0,null,null,54.0,54.0,54.0,54.0,54.0,54.0,54.0,54.0,54.0,62.0,62.0,62.0,62.0,62.0,62.0,62.0,62.0,62.0,62.0,null,null,108.0,108.0,108.0,108.0,108.0,108.0,108.0,108.0,108.0,108.0,108.0,108.0,108.0,108.0,108.0,108.0,108.0,108.0,108.0,null,null,113.0,113.0,113.0,113.0,113.0,113.0,113.0,113.0,113.0,113.0,113.0,113.0,113.0,113.0,113.0,113.0,113.0,113.0,113.0,null,null,38.5,38.5,38.5,38.5,38.5,null,null,74.0,74.0,74.0,74.0,74.0,74.0,74.0,74.0,74.0,74.0,74.0,74.0,null,null,85.0,85.0,85.0,85.0,85.0,85.0,85.0,85.0,85.0,85.0,85.0,85.0,85.0,85.0,85.0,85.0,85.0,null,null,null,null,null,null,null,null,null,null,null,null,null,null,null,null,null,null,null,null,null,null,null,null,null,null,null,null,null,null,null,null,null,null,null,null,null,null,null,null,null,null,null,null,null,null,null,null,null,null,null,null,null,null,null,null,null,null,null,null,null,null,null,null,null,null,null,null,null,null,null,null,null,null,null,null,null,null,null,null,null,null,null,null,null,null,null,null,null,null,null,null,null,null,null,null,null,null,null,null,null,null,null,null,null,null,null,null,null,null,null,null,null,null,null,null,null,null,null,null,null,null,null,null,null,null,null,null,null,null,null,null,null,null,null,null,null,null,null,null,null,null,null,null,null,null,null,null,null,null,null,null,null,null,null,null,null,null,null,null,null,null,null,null,null,null,null,null,null,null,null,null,null,null,null,null,null,null,null,null,null,null,null,null,null,null,null,null,null,null,null,null,null,null,null,null,null,null,null,null,null,null,null,null,null,null,null,null,null,null,null,null,null,null],\"type\":\"heatmap\",\"xaxis\":\"x3\",\"yaxis\":\"y3\",\"zmax\":152.0,\"zmin\":6.5},{\"hoverinfo\":\"skip\",\"line\":{\"color\":\"#9e9e9e\",\"width\":1},\"mode\":\"lines\",\"x\":[-0.5,-0.5],\"y\":[5.5,6.5],\"type\":\"scatter\",\"xaxis\":\"x3\",\"yaxis\":\"y3\"},{\"hoverinfo\":\"skip\",\"line\":{\"color\":\"#9e9e9e\",\"width\":1},\"mode\":\"lines\",\"x\":[-0.5,0.5],\"y\":[5.5,5.5],\"type\":\"scatter\",\"xaxis\":\"x3\",\"yaxis\":\"y3\"},{\"hoverinfo\":\"skip\",\"line\":{\"color\":\"#9e9e9e\",\"width\":1},\"mode\":\"lines\",\"x\":[0.5,0.5],\"y\":[5.5,-0.5],\"type\":\"scatter\",\"xaxis\":\"x3\",\"yaxis\":\"y3\"},{\"hoverinfo\":\"skip\",\"line\":{\"color\":\"#9e9e9e\",\"width\":1},\"mode\":\"lines\",\"x\":[4.5,4.5],\"y\":[1.5,6.5],\"type\":\"scatter\",\"xaxis\":\"x3\",\"yaxis\":\"y3\"},{\"hoverinfo\":\"skip\",\"line\":{\"color\":\"#9e9e9e\",\"width\":1},\"mode\":\"lines\",\"x\":[4.5,5.5],\"y\":[1.5,1.5],\"type\":\"scatter\",\"xaxis\":\"x3\",\"yaxis\":\"y3\"},{\"hoverinfo\":\"skip\",\"line\":{\"color\":\"#9e9e9e\",\"width\":1},\"mode\":\"lines\",\"x\":[5.5,5.5],\"y\":[1.5,-0.5],\"type\":\"scatter\",\"xaxis\":\"x3\",\"yaxis\":\"y3\"},{\"hoverinfo\":\"skip\",\"line\":{\"color\":\"#9e9e9e\",\"width\":1},\"mode\":\"lines\",\"x\":[8.5,8.5],\"y\":[1.5,6.5],\"type\":\"scatter\",\"xaxis\":\"x3\",\"yaxis\":\"y3\"},{\"hoverinfo\":\"skip\",\"line\":{\"color\":\"#9e9e9e\",\"width\":1},\"mode\":\"lines\",\"x\":[8.5,9.5],\"y\":[1.5,1.5],\"type\":\"scatter\",\"xaxis\":\"x3\",\"yaxis\":\"y3\"},{\"hoverinfo\":\"skip\",\"line\":{\"color\":\"#9e9e9e\",\"width\":1},\"mode\":\"lines\",\"x\":[9.5,9.5],\"y\":[1.5,-0.5],\"type\":\"scatter\",\"xaxis\":\"x3\",\"yaxis\":\"y3\"},{\"hoverinfo\":\"skip\",\"line\":{\"color\":\"#9e9e9e\",\"width\":1},\"mode\":\"lines\",\"x\":[12.5,12.5],\"y\":[4.5,6.5],\"type\":\"scatter\",\"xaxis\":\"x3\",\"yaxis\":\"y3\"},{\"hoverinfo\":\"skip\",\"line\":{\"color\":\"#9e9e9e\",\"width\":1},\"mode\":\"lines\",\"x\":[12.5,13.5],\"y\":[4.5,4.5],\"type\":\"scatter\",\"xaxis\":\"x3\",\"yaxis\":\"y3\"},{\"hoverinfo\":\"skip\",\"line\":{\"color\":\"#9e9e9e\",\"width\":1},\"mode\":\"lines\",\"x\":[13.5,13.5],\"y\":[4.5,-0.5],\"type\":\"scatter\",\"xaxis\":\"x3\",\"yaxis\":\"y3\"},{\"hoverinfo\":\"skip\",\"line\":{\"color\":\"#9e9e9e\",\"width\":1},\"mode\":\"lines\",\"x\":[17.5,17.5],\"y\":[-0.5,6.5],\"type\":\"scatter\",\"xaxis\":\"x3\",\"yaxis\":\"y3\"},{\"hoverinfo\":\"skip\",\"line\":{\"color\":\"#9e9e9e\",\"width\":1},\"mode\":\"lines\",\"x\":[21.5,21.5],\"y\":[2.5,6.5],\"type\":\"scatter\",\"xaxis\":\"x3\",\"yaxis\":\"y3\"},{\"hoverinfo\":\"skip\",\"line\":{\"color\":\"#9e9e9e\",\"width\":1},\"mode\":\"lines\",\"x\":[21.5,22.5],\"y\":[2.5,2.5],\"type\":\"scatter\",\"xaxis\":\"x3\",\"yaxis\":\"y3\"},{\"hoverinfo\":\"skip\",\"line\":{\"color\":\"#9e9e9e\",\"width\":1},\"mode\":\"lines\",\"x\":[22.5,22.5],\"y\":[2.5,-0.5],\"type\":\"scatter\",\"xaxis\":\"x3\",\"yaxis\":\"y3\"},{\"hoverinfo\":\"skip\",\"line\":{\"color\":\"#9e9e9e\",\"width\":1},\"mode\":\"lines\",\"x\":[25.5,25.5],\"y\":[4.5,6.5],\"type\":\"scatter\",\"xaxis\":\"x3\",\"yaxis\":\"y3\"},{\"hoverinfo\":\"skip\",\"line\":{\"color\":\"#9e9e9e\",\"width\":1},\"mode\":\"lines\",\"x\":[25.5,26.5],\"y\":[4.5,4.5],\"type\":\"scatter\",\"xaxis\":\"x3\",\"yaxis\":\"y3\"},{\"hoverinfo\":\"skip\",\"line\":{\"color\":\"#9e9e9e\",\"width\":1},\"mode\":\"lines\",\"x\":[26.5,26.5],\"y\":[4.5,-0.5],\"type\":\"scatter\",\"xaxis\":\"x3\",\"yaxis\":\"y3\"},{\"hoverinfo\":\"skip\",\"line\":{\"color\":\"#9e9e9e\",\"width\":1},\"mode\":\"lines\",\"x\":[30.5,30.5],\"y\":[0.5,6.5],\"type\":\"scatter\",\"xaxis\":\"x3\",\"yaxis\":\"y3\"},{\"hoverinfo\":\"skip\",\"line\":{\"color\":\"#9e9e9e\",\"width\":1},\"mode\":\"lines\",\"x\":[30.5,31.5],\"y\":[0.5,0.5],\"type\":\"scatter\",\"xaxis\":\"x3\",\"yaxis\":\"y3\"},{\"hoverinfo\":\"skip\",\"line\":{\"color\":\"#9e9e9e\",\"width\":1},\"mode\":\"lines\",\"x\":[31.5,31.5],\"y\":[0.5,-0.5],\"type\":\"scatter\",\"xaxis\":\"x3\",\"yaxis\":\"y3\"},{\"hoverinfo\":\"skip\",\"line\":{\"color\":\"#9e9e9e\",\"width\":1},\"mode\":\"lines\",\"x\":[34.5,34.5],\"y\":[3.5,6.5],\"type\":\"scatter\",\"xaxis\":\"x3\",\"yaxis\":\"y3\"},{\"hoverinfo\":\"skip\",\"line\":{\"color\":\"#9e9e9e\",\"width\":1},\"mode\":\"lines\",\"x\":[34.5,35.5],\"y\":[3.5,3.5],\"type\":\"scatter\",\"xaxis\":\"x3\",\"yaxis\":\"y3\"},{\"hoverinfo\":\"skip\",\"line\":{\"color\":\"#9e9e9e\",\"width\":1},\"mode\":\"lines\",\"x\":[35.5,35.5],\"y\":[3.5,-0.5],\"type\":\"scatter\",\"xaxis\":\"x3\",\"yaxis\":\"y3\"},{\"hoverinfo\":\"skip\",\"line\":{\"color\":\"#9e9e9e\",\"width\":1},\"mode\":\"lines\",\"x\":[38.5,38.5],\"y\":[5.5,6.5],\"type\":\"scatter\",\"xaxis\":\"x3\",\"yaxis\":\"y3\"},{\"hoverinfo\":\"skip\",\"line\":{\"color\":\"#9e9e9e\",\"width\":1},\"mode\":\"lines\",\"x\":[38.5,39.5],\"y\":[5.5,5.5],\"type\":\"scatter\",\"xaxis\":\"x3\",\"yaxis\":\"y3\"},{\"hoverinfo\":\"skip\",\"line\":{\"color\":\"#9e9e9e\",\"width\":1},\"mode\":\"lines\",\"x\":[39.5,39.5],\"y\":[5.5,-0.5],\"type\":\"scatter\",\"xaxis\":\"x3\",\"yaxis\":\"y3\"},{\"hoverinfo\":\"skip\",\"line\":{\"color\":\"#9e9e9e\",\"width\":1},\"mode\":\"lines\",\"x\":[43.5,43.5],\"y\":[1.5,6.5],\"type\":\"scatter\",\"xaxis\":\"x3\",\"yaxis\":\"y3\"},{\"hoverinfo\":\"skip\",\"line\":{\"color\":\"#9e9e9e\",\"width\":1},\"mode\":\"lines\",\"x\":[43.5,44.5],\"y\":[1.5,1.5],\"type\":\"scatter\",\"xaxis\":\"x3\",\"yaxis\":\"y3\"},{\"hoverinfo\":\"skip\",\"line\":{\"color\":\"#9e9e9e\",\"width\":1},\"mode\":\"lines\",\"x\":[44.5,44.5],\"y\":[1.5,-0.5],\"type\":\"scatter\",\"xaxis\":\"x3\",\"yaxis\":\"y3\"},{\"hoverinfo\":\"skip\",\"line\":{\"color\":\"#9e9e9e\",\"width\":1},\"mode\":\"lines\",\"x\":[47.5,47.5],\"y\":[3.5,6.5],\"type\":\"scatter\",\"xaxis\":\"x3\",\"yaxis\":\"y3\"},{\"hoverinfo\":\"skip\",\"line\":{\"color\":\"#9e9e9e\",\"width\":1},\"mode\":\"lines\",\"x\":[47.5,48.5],\"y\":[3.5,3.5],\"type\":\"scatter\",\"xaxis\":\"x3\",\"yaxis\":\"y3\"},{\"hoverinfo\":\"skip\",\"line\":{\"color\":\"#9e9e9e\",\"width\":1},\"mode\":\"lines\",\"x\":[48.5,48.5],\"y\":[3.5,-0.5],\"type\":\"scatter\",\"xaxis\":\"x3\",\"yaxis\":\"y3\"}],                        {\"template\":{\"data\":{\"histogram2dcontour\":[{\"type\":\"histogram2dcontour\",\"colorbar\":{\"outlinewidth\":0,\"ticks\":\"\"},\"colorscale\":[[0.0,\"#0d0887\"],[0.1111111111111111,\"#46039f\"],[0.2222222222222222,\"#7201a8\"],[0.3333333333333333,\"#9c179e\"],[0.4444444444444444,\"#bd3786\"],[0.5555555555555556,\"#d8576b\"],[0.6666666666666666,\"#ed7953\"],[0.7777777777777778,\"#fb9f3a\"],[0.8888888888888888,\"#fdca26\"],[1.0,\"#f0f921\"]]}],\"choropleth\":[{\"type\":\"choropleth\",\"colorbar\":{\"outlinewidth\":0,\"ticks\":\"\"}}],\"histogram2d\":[{\"type\":\"histogram2d\",\"colorbar\":{\"outlinewidth\":0,\"ticks\":\"\"},\"colorscale\":[[0.0,\"#0d0887\"],[0.1111111111111111,\"#46039f\"],[0.2222222222222222,\"#7201a8\"],[0.3333333333333333,\"#9c179e\"],[0.4444444444444444,\"#bd3786\"],[0.5555555555555556,\"#d8576b\"],[0.6666666666666666,\"#ed7953\"],[0.7777777777777778,\"#fb9f3a\"],[0.8888888888888888,\"#fdca26\"],[1.0,\"#f0f921\"]]}],\"heatmap\":[{\"type\":\"heatmap\",\"colorbar\":{\"outlinewidth\":0,\"ticks\":\"\"},\"colorscale\":[[0.0,\"#0d0887\"],[0.1111111111111111,\"#46039f\"],[0.2222222222222222,\"#7201a8\"],[0.3333333333333333,\"#9c179e\"],[0.4444444444444444,\"#bd3786\"],[0.5555555555555556,\"#d8576b\"],[0.6666666666666666,\"#ed7953\"],[0.7777777777777778,\"#fb9f3a\"],[0.8888888888888888,\"#fdca26\"],[1.0,\"#f0f921\"]]}],\"heatmapgl\":[{\"type\":\"heatmapgl\",\"colorbar\":{\"outlinewidth\":0,\"ticks\":\"\"},\"colorscale\":[[0.0,\"#0d0887\"],[0.1111111111111111,\"#46039f\"],[0.2222222222222222,\"#7201a8\"],[0.3333333333333333,\"#9c179e\"],[0.4444444444444444,\"#bd3786\"],[0.5555555555555556,\"#d8576b\"],[0.6666666666666666,\"#ed7953\"],[0.7777777777777778,\"#fb9f3a\"],[0.8888888888888888,\"#fdca26\"],[1.0,\"#f0f921\"]]}],\"contourcarpet\":[{\"type\":\"contourcarpet\",\"colorbar\":{\"outlinewidth\":0,\"ticks\":\"\"}}],\"contour\":[{\"type\":\"contour\",\"colorbar\":{\"outlinewidth\":0,\"ticks\":\"\"},\"colorscale\":[[0.0,\"#0d0887\"],[0.1111111111111111,\"#46039f\"],[0.2222222222222222,\"#7201a8\"],[0.3333333333333333,\"#9c179e\"],[0.4444444444444444,\"#bd3786\"],[0.5555555555555556,\"#d8576b\"],[0.6666666666666666,\"#ed7953\"],[0.7777777777777778,\"#fb9f3a\"],[0.8888888888888888,\"#fdca26\"],[1.0,\"#f0f921\"]]}],\"surface\":[{\"type\":\"surface\",\"colorbar\":{\"outlinewidth\":0,\"ticks\":\"\"},\"colorscale\":[[0.0,\"#0d0887\"],[0.1111111111111111,\"#46039f\"],[0.2222222222222222,\"#7201a8\"],[0.3333333333333333,\"#9c179e\"],[0.4444444444444444,\"#bd3786\"],[0.5555555555555556,\"#d8576b\"],[0.6666666666666666,\"#ed7953\"],[0.7777777777777778,\"#fb9f3a\"],[0.8888888888888888,\"#fdca26\"],[1.0,\"#f0f921\"]]}],\"mesh3d\":[{\"type\":\"mesh3d\",\"colorbar\":{\"outlinewidth\":0,\"ticks\":\"\"}}],\"scatter\":[{\"fillpattern\":{\"fillmode\":\"overlay\",\"size\":10,\"solidity\":0.2},\"type\":\"scatter\"}],\"parcoords\":[{\"type\":\"parcoords\",\"line\":{\"colorbar\":{\"outlinewidth\":0,\"ticks\":\"\"}}}],\"scatterpolargl\":[{\"type\":\"scatterpolargl\",\"marker\":{\"colorbar\":{\"outlinewidth\":0,\"ticks\":\"\"}}}],\"bar\":[{\"error_x\":{\"color\":\"#2a3f5f\"},\"error_y\":{\"color\":\"#2a3f5f\"},\"marker\":{\"line\":{\"color\":\"#E5ECF6\",\"width\":0.5},\"pattern\":{\"fillmode\":\"overlay\",\"size\":10,\"solidity\":0.2}},\"type\":\"bar\"}],\"scattergeo\":[{\"type\":\"scattergeo\",\"marker\":{\"colorbar\":{\"outlinewidth\":0,\"ticks\":\"\"}}}],\"scatterpolar\":[{\"type\":\"scatterpolar\",\"marker\":{\"colorbar\":{\"outlinewidth\":0,\"ticks\":\"\"}}}],\"histogram\":[{\"marker\":{\"pattern\":{\"fillmode\":\"overlay\",\"size\":10,\"solidity\":0.2}},\"type\":\"histogram\"}],\"scattergl\":[{\"type\":\"scattergl\",\"marker\":{\"colorbar\":{\"outlinewidth\":0,\"ticks\":\"\"}}}],\"scatter3d\":[{\"type\":\"scatter3d\",\"line\":{\"colorbar\":{\"outlinewidth\":0,\"ticks\":\"\"}},\"marker\":{\"colorbar\":{\"outlinewidth\":0,\"ticks\":\"\"}}}],\"scattermapbox\":[{\"type\":\"scattermapbox\",\"marker\":{\"colorbar\":{\"outlinewidth\":0,\"ticks\":\"\"}}}],\"scatterternary\":[{\"type\":\"scatterternary\",\"marker\":{\"colorbar\":{\"outlinewidth\":0,\"ticks\":\"\"}}}],\"scattercarpet\":[{\"type\":\"scattercarpet\",\"marker\":{\"colorbar\":{\"outlinewidth\":0,\"ticks\":\"\"}}}],\"carpet\":[{\"aaxis\":{\"endlinecolor\":\"#2a3f5f\",\"gridcolor\":\"white\",\"linecolor\":\"white\",\"minorgridcolor\":\"white\",\"startlinecolor\":\"#2a3f5f\"},\"baxis\":{\"endlinecolor\":\"#2a3f5f\",\"gridcolor\":\"white\",\"linecolor\":\"white\",\"minorgridcolor\":\"white\",\"startlinecolor\":\"#2a3f5f\"},\"type\":\"carpet\"}],\"table\":[{\"cells\":{\"fill\":{\"color\":\"#EBF0F8\"},\"line\":{\"color\":\"white\"}},\"header\":{\"fill\":{\"color\":\"#C8D4E3\"},\"line\":{\"color\":\"white\"}},\"type\":\"table\"}],\"barpolar\":[{\"marker\":{\"line\":{\"color\":\"#E5ECF6\",\"width\":0.5},\"pattern\":{\"fillmode\":\"overlay\",\"size\":10,\"solidity\":0.2}},\"type\":\"barpolar\"}],\"pie\":[{\"automargin\":true,\"type\":\"pie\"}]},\"layout\":{\"autotypenumbers\":\"strict\",\"colorway\":[\"#636efa\",\"#EF553B\",\"#00cc96\",\"#ab63fa\",\"#FFA15A\",\"#19d3f3\",\"#FF6692\",\"#B6E880\",\"#FF97FF\",\"#FECB52\"],\"font\":{\"color\":\"#2a3f5f\"},\"hovermode\":\"closest\",\"hoverlabel\":{\"align\":\"left\"},\"paper_bgcolor\":\"white\",\"plot_bgcolor\":\"#E5ECF6\",\"polar\":{\"bgcolor\":\"#E5ECF6\",\"angularaxis\":{\"gridcolor\":\"white\",\"linecolor\":\"white\",\"ticks\":\"\"},\"radialaxis\":{\"gridcolor\":\"white\",\"linecolor\":\"white\",\"ticks\":\"\"}},\"ternary\":{\"bgcolor\":\"#E5ECF6\",\"aaxis\":{\"gridcolor\":\"white\",\"linecolor\":\"white\",\"ticks\":\"\"},\"baxis\":{\"gridcolor\":\"white\",\"linecolor\":\"white\",\"ticks\":\"\"},\"caxis\":{\"gridcolor\":\"white\",\"linecolor\":\"white\",\"ticks\":\"\"}},\"coloraxis\":{\"colorbar\":{\"outlinewidth\":0,\"ticks\":\"\"}},\"colorscale\":{\"sequential\":[[0.0,\"#0d0887\"],[0.1111111111111111,\"#46039f\"],[0.2222222222222222,\"#7201a8\"],[0.3333333333333333,\"#9c179e\"],[0.4444444444444444,\"#bd3786\"],[0.5555555555555556,\"#d8576b\"],[0.6666666666666666,\"#ed7953\"],[0.7777777777777778,\"#fb9f3a\"],[0.8888888888888888,\"#fdca26\"],[1.0,\"#f0f921\"]],\"sequentialminus\":[[0.0,\"#0d0887\"],[0.1111111111111111,\"#46039f\"],[0.2222222222222222,\"#7201a8\"],[0.3333333333333333,\"#9c179e\"],[0.4444444444444444,\"#bd3786\"],[0.5555555555555556,\"#d8576b\"],[0.6666666666666666,\"#ed7953\"],[0.7777777777777778,\"#fb9f3a\"],[0.8888888888888888,\"#fdca26\"],[1.0,\"#f0f921\"]],\"diverging\":[[0,\"#8e0152\"],[0.1,\"#c51b7d\"],[0.2,\"#de77ae\"],[0.3,\"#f1b6da\"],[0.4,\"#fde0ef\"],[0.5,\"#f7f7f7\"],[0.6,\"#e6f5d0\"],[0.7,\"#b8e186\"],[0.8,\"#7fbc41\"],[0.9,\"#4d9221\"],[1,\"#276419\"]]},\"xaxis\":{\"gridcolor\":\"white\",\"linecolor\":\"white\",\"ticks\":\"\",\"title\":{\"standoff\":15},\"zerolinecolor\":\"white\",\"automargin\":true,\"zerolinewidth\":2},\"yaxis\":{\"gridcolor\":\"white\",\"linecolor\":\"white\",\"ticks\":\"\",\"title\":{\"standoff\":15},\"zerolinecolor\":\"white\",\"automargin\":true,\"zerolinewidth\":2},\"scene\":{\"xaxis\":{\"backgroundcolor\":\"#E5ECF6\",\"gridcolor\":\"white\",\"linecolor\":\"white\",\"showbackground\":true,\"ticks\":\"\",\"zerolinecolor\":\"white\",\"gridwidth\":2},\"yaxis\":{\"backgroundcolor\":\"#E5ECF6\",\"gridcolor\":\"white\",\"linecolor\":\"white\",\"showbackground\":true,\"ticks\":\"\",\"zerolinecolor\":\"white\",\"gridwidth\":2},\"zaxis\":{\"backgroundcolor\":\"#E5ECF6\",\"gridcolor\":\"white\",\"linecolor\":\"white\",\"showbackground\":true,\"ticks\":\"\",\"zerolinecolor\":\"white\",\"gridwidth\":2}},\"shapedefaults\":{\"line\":{\"color\":\"#2a3f5f\"}},\"annotationdefaults\":{\"arrowcolor\":\"#2a3f5f\",\"arrowhead\":0,\"arrowwidth\":1},\"geo\":{\"bgcolor\":\"white\",\"landcolor\":\"#E5ECF6\",\"subunitcolor\":\"white\",\"showland\":true,\"showlakes\":true,\"lakecolor\":\"white\"},\"title\":{\"x\":0.05},\"mapbox\":{\"style\":\"light\"}}},\"xaxis\":{\"anchor\":\"y\",\"domain\":[0.0,1.0],\"showgrid\":false,\"showline\":false,\"tickmode\":\"array\",\"ticktext\":[\"January\",\"February\",\"March\",\"April\",\"May\",\"June\",\"July\",\"August\",\"September\",\"October\",\"November\",\"December\"],\"tickvals\":[1.5,5.909090909090909,10.318181818181818,14.727272727272727,19.136363636363637,23.545454545454547,27.954545454545453,32.36363636363636,36.77272727272727,41.18181818181818,45.59090909090909,50.0],\"zeroline\":false},\"yaxis\":{\"anchor\":\"x\",\"domain\":[0.72,1.0],\"autorange\":\"reversed\",\"showgrid\":false,\"showline\":false,\"tickmode\":\"array\",\"ticktext\":[\"Mon\",\"Tue\",\"Wed\",\"Thu\",\"Fri\",\"Sat\",\"Sun\"],\"tickvals\":[0,1,2,3,4,5,6],\"zeroline\":false},\"xaxis2\":{\"anchor\":\"y2\",\"domain\":[0.0,1.0],\"showgrid\":false,\"showline\":false,\"tickmode\":\"array\",\"ticktext\":[\"January\",\"February\",\"March\",\"April\",\"May\",\"June\",\"July\",\"August\",\"September\",\"October\",\"November\",\"December\"],\"tickvals\":[1.5,5.909090909090909,10.318181818181818,14.727272727272727,19.136363636363637,23.545454545454547,27.954545454545453,32.36363636363636,36.77272727272727,41.18181818181818,45.59090909090909,50.0],\"zeroline\":false},\"yaxis2\":{\"anchor\":\"x2\",\"domain\":[0.36,0.6399999999999999],\"autorange\":\"reversed\",\"showgrid\":false,\"showline\":false,\"tickmode\":\"array\",\"ticktext\":[\"Mon\",\"Tue\",\"Wed\",\"Thu\",\"Fri\",\"Sat\",\"Sun\"],\"tickvals\":[0,1,2,3,4,5,6],\"zeroline\":false},\"xaxis3\":{\"anchor\":\"y3\",\"domain\":[0.0,1.0],\"showgrid\":false,\"showline\":false,\"tickmode\":\"array\",\"ticktext\":[\"January\",\"February\",\"March\",\"April\",\"May\",\"June\",\"July\",\"August\",\"September\",\"October\",\"November\",\"December\"],\"tickvals\":[1.5,5.909090909090909,10.318181818181818,14.727272727272727,19.136363636363637,23.545454545454547,27.954545454545453,32.36363636363636,36.77272727272727,41.18181818181818,45.59090909090909,50.0],\"zeroline\":false},\"yaxis3\":{\"anchor\":\"x3\",\"domain\":[0.0,0.27999999999999997],\"autorange\":\"reversed\",\"showgrid\":false,\"showline\":false,\"tickmode\":\"array\",\"ticktext\":[\"Mon\",\"Tue\",\"Wed\",\"Thu\",\"Fri\",\"Sat\",\"Sun\"],\"tickvals\":[0,1,2,3,4,5,6],\"zeroline\":false},\"annotations\":[{\"font\":{\"size\":16},\"showarrow\":false,\"text\":\"2021\",\"x\":0.5,\"xanchor\":\"center\",\"xref\":\"paper\",\"y\":1.0,\"yanchor\":\"bottom\",\"yref\":\"paper\"},{\"font\":{\"size\":16},\"showarrow\":false,\"text\":\"2022\",\"x\":0.5,\"xanchor\":\"center\",\"xref\":\"paper\",\"y\":0.6399999999999999,\"yanchor\":\"bottom\",\"yref\":\"paper\"},{\"font\":{\"size\":16},\"showarrow\":false,\"text\":\"2023\",\"x\":0.5,\"xanchor\":\"center\",\"xref\":\"paper\",\"y\":0.27999999999999997,\"yanchor\":\"bottom\",\"yref\":\"paper\"}],\"font\":{\"color\":\"#9e9e9e\",\"size\":10},\"margin\":{\"b\":20,\"t\":20},\"title\":{\"text\":\"\"},\"plot_bgcolor\":\"#fff\",\"showlegend\":false,\"height\":450},                        {\"responsive\": true}                    ).then(function(){\n",
       "                            \n",
       "var gd = document.getElementById('0db4218d-e525-4537-8a4b-f45b31bbad3b');\n",
       "var x = new MutationObserver(function (mutations, observer) {{\n",
       "        var display = window.getComputedStyle(gd).display;\n",
       "        if (!display || display === 'none') {{\n",
       "            console.log([gd, 'removed!']);\n",
       "            Plotly.purge(gd);\n",
       "            observer.disconnect();\n",
       "        }}\n",
       "}});\n",
       "\n",
       "// Listen for the removal of the full notebook cells\n",
       "var notebookContainer = gd.closest('#notebook-container');\n",
       "if (notebookContainer) {{\n",
       "    x.observe(notebookContainer, {childList: true});\n",
       "}}\n",
       "\n",
       "// Listen for the clearing of the current output cell\n",
       "var outputEl = gd.closest('.output');\n",
       "if (outputEl) {{\n",
       "    x.observe(outputEl, {childList: true});\n",
       "}}\n",
       "\n",
       "                        })                };                });            </script>        </div>"
      ]
     },
     "metadata": {},
     "output_type": "display_data"
    }
   ],
   "source": [
    "calplot(\n",
    "    df_cal,\n",
    "    x='date',\n",
    "    y='hours_on_period',\n",
    "#     color='id_employeur',\n",
    "    years_title=True,\n",
    ")"
   ]
  },
  {
   "cell_type": "code",
   "execution_count": null,
   "id": "ffcd3824",
   "metadata": {},
   "outputs": [],
   "source": []
  },
  {
   "cell_type": "code",
   "execution_count": null,
   "id": "c22fa39d",
   "metadata": {},
   "outputs": [],
   "source": []
  },
  {
   "cell_type": "code",
   "execution_count": 128,
   "id": "671391bd",
   "metadata": {},
   "outputs": [
    {
     "data": {
      "text/html": [
       "<div>\n",
       "<style scoped>\n",
       "    .dataframe tbody tr th:only-of-type {\n",
       "        vertical-align: middle;\n",
       "    }\n",
       "\n",
       "    .dataframe tbody tr th {\n",
       "        vertical-align: top;\n",
       "    }\n",
       "\n",
       "    .dataframe thead th {\n",
       "        text-align: right;\n",
       "    }\n",
       "</style>\n",
       "<table border=\"1\" class=\"dataframe\">\n",
       "  <thead>\n",
       "    <tr style=\"text-align: right;\">\n",
       "      <th></th>\n",
       "      <th>id</th>\n",
       "      <th>siret</th>\n",
       "      <th>et_enseigne</th>\n",
       "      <th>et_code_apet</th>\n",
       "      <th>et_ad_num_et_libelle_voie</th>\n",
       "      <th>et_ad_code_postal</th>\n",
       "      <th>et_ad_localite</th>\n",
       "      <th>et_ad_code_pays</th>\n",
       "      <th>et_ad_code_distrib_etranger</th>\n",
       "      <th>et_ad_complement_localisation</th>\n",
       "      <th>et_ad_service_distrib</th>\n",
       "      <th>et_ad_code_insee_commune</th>\n",
       "      <th>et_effectif_fin_periode</th>\n",
       "      <th>et_remuneration_expatries</th>\n",
       "      <th>et_nature_juridique</th>\n",
       "      <th>et_date_cloture</th>\n",
       "      <th>et_categorie_juridique</th>\n",
       "      <th>siren</th>\n",
       "      <th>nic_siege</th>\n",
       "      <th>en_code_apen</th>\n",
       "      <th>en_raison_sociale</th>\n",
       "      <th>en_ad_num_et_libelle_voie</th>\n",
       "      <th>en_ad_code_postal</th>\n",
       "      <th>en_ad_localite</th>\n",
       "      <th>en_ad_code_pays</th>\n",
       "      <th>en_ad_code_distrib_etranger</th>\n",
       "      <th>en_ad_complement_localisation</th>\n",
       "      <th>en_ad_service_distrib</th>\n",
       "      <th>en_effectif_moyen</th>\n",
       "      <th>en_code_implantation</th>\n",
       "      <th>en_date_debut_cvae</th>\n",
       "      <th>en_date_fin_cvae</th>\n",
       "      <th>mois_declaration</th>\n",
       "      <th>et_code_conv_collec_principale</th>\n",
       "      <th>et_operateur_competence</th>\n",
       "      <th>en_code_conv_collec_applicable</th>\n",
       "    </tr>\n",
       "  </thead>\n",
       "  <tbody>\n",
       "    <tr>\n",
       "      <th>0</th>\n",
       "      <td>457540</td>\n",
       "      <td>BA7F68D4C7779F2B721D9A728D406214</td>\n",
       "      <td>enseigne</td>\n",
       "      <td>4619B</td>\n",
       "      <td>None</td>\n",
       "      <td>484</td>\n",
       "      <td>a</td>\n",
       "      <td>0</td>\n",
       "      <td>0</td>\n",
       "      <td>complement_localisation</td>\n",
       "      <td>service_distrib</td>\n",
       "      <td>0</td>\n",
       "      <td>None</td>\n",
       "      <td>None</td>\n",
       "      <td>None</td>\n",
       "      <td>None</td>\n",
       "      <td>1000</td>\n",
       "      <td>81065A8EC37DDB7D2096D5A5BECE50A5</td>\n",
       "      <td>F61A3D59DA608D990659F7F078240CE1</td>\n",
       "      <td>4619B</td>\n",
       "      <td>raison_sociale</td>\n",
       "      <td>None</td>\n",
       "      <td>484</td>\n",
       "      <td>a</td>\n",
       "      <td>0</td>\n",
       "      <td>0</td>\n",
       "      <td>complement_localisation</td>\n",
       "      <td>service_distrib</td>\n",
       "      <td>1</td>\n",
       "      <td>0</td>\n",
       "      <td>None</td>\n",
       "      <td>None</td>\n",
       "      <td>2022-03-01</td>\n",
       "      <td>9999</td>\n",
       "      <td>08</td>\n",
       "      <td>9999</td>\n",
       "    </tr>\n",
       "  </tbody>\n",
       "</table>\n",
       "</div>"
      ],
      "text/plain": [
       "       id                             siret et_enseigne et_code_apet  \\\n",
       "0  457540  BA7F68D4C7779F2B721D9A728D406214    enseigne        4619B   \n",
       "\n",
       "  et_ad_num_et_libelle_voie et_ad_code_postal et_ad_localite et_ad_code_pays  \\\n",
       "0                      None               484              a               0   \n",
       "\n",
       "  et_ad_code_distrib_etranger et_ad_complement_localisation  \\\n",
       "0                           0       complement_localisation   \n",
       "\n",
       "  et_ad_service_distrib et_ad_code_insee_commune et_effectif_fin_periode  \\\n",
       "0       service_distrib                        0                    None   \n",
       "\n",
       "  et_remuneration_expatries et_nature_juridique et_date_cloture  \\\n",
       "0                      None                None            None   \n",
       "\n",
       "  et_categorie_juridique                             siren  \\\n",
       "0                   1000  81065A8EC37DDB7D2096D5A5BECE50A5   \n",
       "\n",
       "                          nic_siege en_code_apen en_raison_sociale  \\\n",
       "0  F61A3D59DA608D990659F7F078240CE1        4619B    raison_sociale   \n",
       "\n",
       "  en_ad_num_et_libelle_voie en_ad_code_postal en_ad_localite en_ad_code_pays  \\\n",
       "0                      None               484              a               0   \n",
       "\n",
       "  en_ad_code_distrib_etranger en_ad_complement_localisation  \\\n",
       "0                           0       complement_localisation   \n",
       "\n",
       "  en_ad_service_distrib  en_effectif_moyen en_code_implantation  \\\n",
       "0       service_distrib                  1                    0   \n",
       "\n",
       "  en_date_debut_cvae en_date_fin_cvae mois_declaration  \\\n",
       "0               None             None       2022-03-01   \n",
       "\n",
       "  et_code_conv_collec_principale et_operateur_competence  \\\n",
       "0                           9999                      08   \n",
       "\n",
       "  en_code_conv_collec_applicable  \n",
       "0                           9999  "
      ]
     },
     "execution_count": 128,
     "metadata": {},
     "output_type": "execute_result"
    }
   ],
   "source": [
    "employeurs = list(contrat['id_employeur_assure'])\n",
    "df_from_query(f\"SELECT * FROM dadeh.ddadtemployeur WHERE id IN ({list_to_enum(employeurs)}) LIMIT 10\")"
   ]
  },
  {
   "cell_type": "code",
   "execution_count": 118,
   "id": "c57bb0de",
   "metadata": {
    "scrolled": true
   },
   "outputs": [
    {
     "data": {
      "text/html": [
       "<div>\n",
       "<style scoped>\n",
       "    .dataframe tbody tr th:only-of-type {\n",
       "        vertical-align: middle;\n",
       "    }\n",
       "\n",
       "    .dataframe tbody tr th {\n",
       "        vertical-align: top;\n",
       "    }\n",
       "\n",
       "    .dataframe thead th {\n",
       "        text-align: right;\n",
       "    }\n",
       "</style>\n",
       "<table border=\"1\" class=\"dataframe\">\n",
       "  <thead>\n",
       "    <tr style=\"text-align: right;\">\n",
       "      <th></th>\n",
       "      <th>id</th>\n",
       "      <th>id_remuneration_brute_ac</th>\n",
       "      <th>type</th>\n",
       "      <th>mesure</th>\n",
       "      <th>unite_mesure</th>\n",
       "    </tr>\n",
       "  </thead>\n",
       "  <tbody>\n",
       "    <tr>\n",
       "      <th>0</th>\n",
       "      <td>2948747895</td>\n",
       "      <td>1839791032</td>\n",
       "      <td>01</td>\n",
       "      <td>-31.0</td>\n",
       "      <td>40</td>\n",
       "    </tr>\n",
       "    <tr>\n",
       "      <th>1</th>\n",
       "      <td>2949420650</td>\n",
       "      <td>1840099800</td>\n",
       "      <td>01</td>\n",
       "      <td>140.0</td>\n",
       "      <td>10</td>\n",
       "    </tr>\n",
       "    <tr>\n",
       "      <th>2</th>\n",
       "      <td>2949420651</td>\n",
       "      <td>1840099800</td>\n",
       "      <td>01</td>\n",
       "      <td>31.0</td>\n",
       "      <td>40</td>\n",
       "    </tr>\n",
       "    <tr>\n",
       "      <th>3</th>\n",
       "      <td>2948767156</td>\n",
       "      <td>1839799743</td>\n",
       "      <td>01</td>\n",
       "      <td>169.0</td>\n",
       "      <td>None</td>\n",
       "    </tr>\n",
       "    <tr>\n",
       "      <th>4</th>\n",
       "      <td>2948767157</td>\n",
       "      <td>1839799743</td>\n",
       "      <td>01</td>\n",
       "      <td>31.0</td>\n",
       "      <td>40</td>\n",
       "    </tr>\n",
       "    <tr>\n",
       "      <th>5</th>\n",
       "      <td>2948802452</td>\n",
       "      <td>1839814974</td>\n",
       "      <td>01</td>\n",
       "      <td>37.0</td>\n",
       "      <td>10</td>\n",
       "    </tr>\n",
       "    <tr>\n",
       "      <th>6</th>\n",
       "      <td>2948802453</td>\n",
       "      <td>1839814974</td>\n",
       "      <td>01</td>\n",
       "      <td>29.0</td>\n",
       "      <td>40</td>\n",
       "    </tr>\n",
       "    <tr>\n",
       "      <th>7</th>\n",
       "      <td>2948941378</td>\n",
       "      <td>1839879047</td>\n",
       "      <td>01</td>\n",
       "      <td>31.0</td>\n",
       "      <td>40</td>\n",
       "    </tr>\n",
       "    <tr>\n",
       "      <th>8</th>\n",
       "      <td>2951395915</td>\n",
       "      <td>1841024178</td>\n",
       "      <td>01</td>\n",
       "      <td>169.0</td>\n",
       "      <td>None</td>\n",
       "    </tr>\n",
       "    <tr>\n",
       "      <th>9</th>\n",
       "      <td>2951395916</td>\n",
       "      <td>1841024178</td>\n",
       "      <td>01</td>\n",
       "      <td>31.0</td>\n",
       "      <td>40</td>\n",
       "    </tr>\n",
       "  </tbody>\n",
       "</table>\n",
       "</div>"
      ],
      "text/plain": [
       "           id  id_remuneration_brute_ac type  mesure unite_mesure\n",
       "0  2948747895                1839791032   01   -31.0           40\n",
       "1  2949420650                1840099800   01   140.0           10\n",
       "2  2949420651                1840099800   01    31.0           40\n",
       "3  2948767156                1839799743   01   169.0         None\n",
       "4  2948767157                1839799743   01    31.0           40\n",
       "5  2948802452                1839814974   01    37.0           10\n",
       "6  2948802453                1839814974   01    29.0           40\n",
       "7  2948941378                1839879047   01    31.0           40\n",
       "8  2951395915                1841024178   01   169.0         None\n",
       "9  2951395916                1841024178   01    31.0           40"
      ]
     },
     "execution_count": 118,
     "metadata": {},
     "output_type": "execute_result"
    }
   ],
   "source": [
    "df_from_query(\"SELECT * FROM dadeh.ddadtactivite LIMIT 10\")"
   ]
  },
  {
   "cell_type": "code",
   "execution_count": null,
   "id": "25678ea3",
   "metadata": {},
   "outputs": [],
   "source": []
  }
 ],
 "metadata": {
  "kernelspec": {
   "display_name": "Python 3 (ipykernel)",
   "language": "python",
   "name": "python3"
  },
  "language_info": {
   "codemirror_mode": {
    "name": "ipython",
    "version": 3
   },
   "file_extension": ".py",
   "mimetype": "text/x-python",
   "name": "python",
   "nbconvert_exporter": "python",
   "pygments_lexer": "ipython3",
   "version": "3.10.8"
  }
 },
 "nbformat": 4,
 "nbformat_minor": 5
}
